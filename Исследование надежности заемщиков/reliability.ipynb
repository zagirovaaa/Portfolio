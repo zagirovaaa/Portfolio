{
  "cells": [
    {
      "cell_type": "markdown",
      "id": "2c4d4a47",
      "metadata": {
        "deletable": false,
        "editable": false,
        "id": "2c4d4a47"
      },
      "source": [
        "# Исследование надежности заемщиков\n"
      ]
    },
    {
      "cell_type": "markdown",
      "id": "6f85aa0a",
      "metadata": {
        "deletable": false,
        "editable": false,
        "id": "6f85aa0a"
      },
      "source": [
        "**Задание 1. Импортируйте библиотеку pandas. Считайте данные из csv-файла в датафрейм и сохраните в переменную `data`. Путь к файлу:**\n",
        "\n",
        "`/datasets/data.csv`"
      ]
    },
    {
      "cell_type": "code",
      "execution_count": null,
      "id": "9cdcf5ff",
      "metadata": {
        "deletable": false,
        "id": "9cdcf5ff"
      },
      "outputs": [],
      "source": [
        "import pandas as pd\n",
        "\n",
        "try:\n",
        "    data = pd.read_csv('/datasets/data.csv')\n",
        "except:\n",
        "    data = pd.read_csv('https://code.s3.yandex.net/datasets/data.csv')"
      ]
    },
    {
      "cell_type": "markdown",
      "id": "431ad822",
      "metadata": {
        "deletable": false,
        "editable": false,
        "id": "431ad822"
      },
      "source": [
        "**Задание 2. Выведите первые 20 строчек датафрейма `data` на экран.**"
      ]
    },
    {
      "cell_type": "code",
      "execution_count": null,
      "id": "4156ee18",
      "metadata": {
        "deletable": false,
        "id": "4156ee18",
        "outputId": "1a8f3ef2-d323-4ec2-ddf7-89670b5944c4"
      },
      "outputs": [
        {
          "data": {
            "text/html": [
              "<div>\n",
              "<style scoped>\n",
              "    .dataframe tbody tr th:only-of-type {\n",
              "        vertical-align: middle;\n",
              "    }\n",
              "\n",
              "    .dataframe tbody tr th {\n",
              "        vertical-align: top;\n",
              "    }\n",
              "\n",
              "    .dataframe thead th {\n",
              "        text-align: right;\n",
              "    }\n",
              "</style>\n",
              "<table border=\"1\" class=\"dataframe\">\n",
              "  <thead>\n",
              "    <tr style=\"text-align: right;\">\n",
              "      <th></th>\n",
              "      <th>children</th>\n",
              "      <th>days_employed</th>\n",
              "      <th>dob_years</th>\n",
              "      <th>education</th>\n",
              "      <th>education_id</th>\n",
              "      <th>family_status</th>\n",
              "      <th>family_status_id</th>\n",
              "      <th>gender</th>\n",
              "      <th>income_type</th>\n",
              "      <th>debt</th>\n",
              "      <th>total_income</th>\n",
              "      <th>purpose</th>\n",
              "    </tr>\n",
              "  </thead>\n",
              "  <tbody>\n",
              "    <tr>\n",
              "      <th>0</th>\n",
              "      <td>1</td>\n",
              "      <td>-8437.673028</td>\n",
              "      <td>42</td>\n",
              "      <td>высшее</td>\n",
              "      <td>0</td>\n",
              "      <td>женат / замужем</td>\n",
              "      <td>0</td>\n",
              "      <td>F</td>\n",
              "      <td>сотрудник</td>\n",
              "      <td>0</td>\n",
              "      <td>253875.639453</td>\n",
              "      <td>покупка жилья</td>\n",
              "    </tr>\n",
              "    <tr>\n",
              "      <th>1</th>\n",
              "      <td>1</td>\n",
              "      <td>-4024.803754</td>\n",
              "      <td>36</td>\n",
              "      <td>среднее</td>\n",
              "      <td>1</td>\n",
              "      <td>женат / замужем</td>\n",
              "      <td>0</td>\n",
              "      <td>F</td>\n",
              "      <td>сотрудник</td>\n",
              "      <td>0</td>\n",
              "      <td>112080.014102</td>\n",
              "      <td>приобретение автомобиля</td>\n",
              "    </tr>\n",
              "    <tr>\n",
              "      <th>2</th>\n",
              "      <td>0</td>\n",
              "      <td>-5623.422610</td>\n",
              "      <td>33</td>\n",
              "      <td>Среднее</td>\n",
              "      <td>1</td>\n",
              "      <td>женат / замужем</td>\n",
              "      <td>0</td>\n",
              "      <td>M</td>\n",
              "      <td>сотрудник</td>\n",
              "      <td>0</td>\n",
              "      <td>145885.952297</td>\n",
              "      <td>покупка жилья</td>\n",
              "    </tr>\n",
              "    <tr>\n",
              "      <th>3</th>\n",
              "      <td>3</td>\n",
              "      <td>-4124.747207</td>\n",
              "      <td>32</td>\n",
              "      <td>среднее</td>\n",
              "      <td>1</td>\n",
              "      <td>женат / замужем</td>\n",
              "      <td>0</td>\n",
              "      <td>M</td>\n",
              "      <td>сотрудник</td>\n",
              "      <td>0</td>\n",
              "      <td>267628.550329</td>\n",
              "      <td>дополнительное образование</td>\n",
              "    </tr>\n",
              "    <tr>\n",
              "      <th>4</th>\n",
              "      <td>0</td>\n",
              "      <td>340266.072047</td>\n",
              "      <td>53</td>\n",
              "      <td>среднее</td>\n",
              "      <td>1</td>\n",
              "      <td>гражданский брак</td>\n",
              "      <td>1</td>\n",
              "      <td>F</td>\n",
              "      <td>пенсионер</td>\n",
              "      <td>0</td>\n",
              "      <td>158616.077870</td>\n",
              "      <td>сыграть свадьбу</td>\n",
              "    </tr>\n",
              "    <tr>\n",
              "      <th>5</th>\n",
              "      <td>0</td>\n",
              "      <td>-926.185831</td>\n",
              "      <td>27</td>\n",
              "      <td>высшее</td>\n",
              "      <td>0</td>\n",
              "      <td>гражданский брак</td>\n",
              "      <td>1</td>\n",
              "      <td>M</td>\n",
              "      <td>компаньон</td>\n",
              "      <td>0</td>\n",
              "      <td>255763.565419</td>\n",
              "      <td>покупка жилья</td>\n",
              "    </tr>\n",
              "    <tr>\n",
              "      <th>6</th>\n",
              "      <td>0</td>\n",
              "      <td>-2879.202052</td>\n",
              "      <td>43</td>\n",
              "      <td>высшее</td>\n",
              "      <td>0</td>\n",
              "      <td>женат / замужем</td>\n",
              "      <td>0</td>\n",
              "      <td>F</td>\n",
              "      <td>компаньон</td>\n",
              "      <td>0</td>\n",
              "      <td>240525.971920</td>\n",
              "      <td>операции с жильем</td>\n",
              "    </tr>\n",
              "    <tr>\n",
              "      <th>7</th>\n",
              "      <td>0</td>\n",
              "      <td>-152.779569</td>\n",
              "      <td>50</td>\n",
              "      <td>СРЕДНЕЕ</td>\n",
              "      <td>1</td>\n",
              "      <td>женат / замужем</td>\n",
              "      <td>0</td>\n",
              "      <td>M</td>\n",
              "      <td>сотрудник</td>\n",
              "      <td>0</td>\n",
              "      <td>135823.934197</td>\n",
              "      <td>образование</td>\n",
              "    </tr>\n",
              "    <tr>\n",
              "      <th>8</th>\n",
              "      <td>2</td>\n",
              "      <td>-6929.865299</td>\n",
              "      <td>35</td>\n",
              "      <td>ВЫСШЕЕ</td>\n",
              "      <td>0</td>\n",
              "      <td>гражданский брак</td>\n",
              "      <td>1</td>\n",
              "      <td>F</td>\n",
              "      <td>сотрудник</td>\n",
              "      <td>0</td>\n",
              "      <td>95856.832424</td>\n",
              "      <td>на проведение свадьбы</td>\n",
              "    </tr>\n",
              "    <tr>\n",
              "      <th>9</th>\n",
              "      <td>0</td>\n",
              "      <td>-2188.756445</td>\n",
              "      <td>41</td>\n",
              "      <td>среднее</td>\n",
              "      <td>1</td>\n",
              "      <td>женат / замужем</td>\n",
              "      <td>0</td>\n",
              "      <td>M</td>\n",
              "      <td>сотрудник</td>\n",
              "      <td>0</td>\n",
              "      <td>144425.938277</td>\n",
              "      <td>покупка жилья для семьи</td>\n",
              "    </tr>\n",
              "    <tr>\n",
              "      <th>10</th>\n",
              "      <td>2</td>\n",
              "      <td>-4171.483647</td>\n",
              "      <td>36</td>\n",
              "      <td>высшее</td>\n",
              "      <td>0</td>\n",
              "      <td>женат / замужем</td>\n",
              "      <td>0</td>\n",
              "      <td>M</td>\n",
              "      <td>компаньон</td>\n",
              "      <td>0</td>\n",
              "      <td>113943.491460</td>\n",
              "      <td>покупка недвижимости</td>\n",
              "    </tr>\n",
              "    <tr>\n",
              "      <th>11</th>\n",
              "      <td>0</td>\n",
              "      <td>-792.701887</td>\n",
              "      <td>40</td>\n",
              "      <td>среднее</td>\n",
              "      <td>1</td>\n",
              "      <td>женат / замужем</td>\n",
              "      <td>0</td>\n",
              "      <td>F</td>\n",
              "      <td>сотрудник</td>\n",
              "      <td>0</td>\n",
              "      <td>77069.234271</td>\n",
              "      <td>покупка коммерческой недвижимости</td>\n",
              "    </tr>\n",
              "    <tr>\n",
              "      <th>12</th>\n",
              "      <td>0</td>\n",
              "      <td>NaN</td>\n",
              "      <td>65</td>\n",
              "      <td>среднее</td>\n",
              "      <td>1</td>\n",
              "      <td>гражданский брак</td>\n",
              "      <td>1</td>\n",
              "      <td>M</td>\n",
              "      <td>пенсионер</td>\n",
              "      <td>0</td>\n",
              "      <td>NaN</td>\n",
              "      <td>сыграть свадьбу</td>\n",
              "    </tr>\n",
              "    <tr>\n",
              "      <th>13</th>\n",
              "      <td>0</td>\n",
              "      <td>-1846.641941</td>\n",
              "      <td>54</td>\n",
              "      <td>неоконченное высшее</td>\n",
              "      <td>2</td>\n",
              "      <td>женат / замужем</td>\n",
              "      <td>0</td>\n",
              "      <td>F</td>\n",
              "      <td>сотрудник</td>\n",
              "      <td>0</td>\n",
              "      <td>130458.228857</td>\n",
              "      <td>приобретение автомобиля</td>\n",
              "    </tr>\n",
              "    <tr>\n",
              "      <th>14</th>\n",
              "      <td>0</td>\n",
              "      <td>-1844.956182</td>\n",
              "      <td>56</td>\n",
              "      <td>высшее</td>\n",
              "      <td>0</td>\n",
              "      <td>гражданский брак</td>\n",
              "      <td>1</td>\n",
              "      <td>F</td>\n",
              "      <td>компаньон</td>\n",
              "      <td>1</td>\n",
              "      <td>165127.911772</td>\n",
              "      <td>покупка жилой недвижимости</td>\n",
              "    </tr>\n",
              "    <tr>\n",
              "      <th>15</th>\n",
              "      <td>1</td>\n",
              "      <td>-972.364419</td>\n",
              "      <td>26</td>\n",
              "      <td>среднее</td>\n",
              "      <td>1</td>\n",
              "      <td>женат / замужем</td>\n",
              "      <td>0</td>\n",
              "      <td>F</td>\n",
              "      <td>сотрудник</td>\n",
              "      <td>0</td>\n",
              "      <td>116820.904450</td>\n",
              "      <td>строительство собственной недвижимости</td>\n",
              "    </tr>\n",
              "    <tr>\n",
              "      <th>16</th>\n",
              "      <td>0</td>\n",
              "      <td>-1719.934226</td>\n",
              "      <td>35</td>\n",
              "      <td>среднее</td>\n",
              "      <td>1</td>\n",
              "      <td>женат / замужем</td>\n",
              "      <td>0</td>\n",
              "      <td>F</td>\n",
              "      <td>сотрудник</td>\n",
              "      <td>0</td>\n",
              "      <td>289202.704229</td>\n",
              "      <td>недвижимость</td>\n",
              "    </tr>\n",
              "    <tr>\n",
              "      <th>17</th>\n",
              "      <td>0</td>\n",
              "      <td>-2369.999720</td>\n",
              "      <td>33</td>\n",
              "      <td>высшее</td>\n",
              "      <td>0</td>\n",
              "      <td>гражданский брак</td>\n",
              "      <td>1</td>\n",
              "      <td>M</td>\n",
              "      <td>сотрудник</td>\n",
              "      <td>0</td>\n",
              "      <td>90410.586745</td>\n",
              "      <td>строительство недвижимости</td>\n",
              "    </tr>\n",
              "    <tr>\n",
              "      <th>18</th>\n",
              "      <td>0</td>\n",
              "      <td>400281.136913</td>\n",
              "      <td>53</td>\n",
              "      <td>среднее</td>\n",
              "      <td>1</td>\n",
              "      <td>вдовец / вдова</td>\n",
              "      <td>2</td>\n",
              "      <td>F</td>\n",
              "      <td>пенсионер</td>\n",
              "      <td>0</td>\n",
              "      <td>56823.777243</td>\n",
              "      <td>на покупку подержанного автомобиля</td>\n",
              "    </tr>\n",
              "    <tr>\n",
              "      <th>19</th>\n",
              "      <td>0</td>\n",
              "      <td>-10038.818549</td>\n",
              "      <td>48</td>\n",
              "      <td>СРЕДНЕЕ</td>\n",
              "      <td>1</td>\n",
              "      <td>в разводе</td>\n",
              "      <td>3</td>\n",
              "      <td>F</td>\n",
              "      <td>сотрудник</td>\n",
              "      <td>0</td>\n",
              "      <td>242831.107982</td>\n",
              "      <td>на покупку своего автомобиля</td>\n",
              "    </tr>\n",
              "  </tbody>\n",
              "</table>\n",
              "</div>"
            ],
            "text/plain": [
              "    children  days_employed  dob_years            education  education_id  \\\n",
              "0          1   -8437.673028         42               высшее             0   \n",
              "1          1   -4024.803754         36              среднее             1   \n",
              "2          0   -5623.422610         33              Среднее             1   \n",
              "3          3   -4124.747207         32              среднее             1   \n",
              "4          0  340266.072047         53              среднее             1   \n",
              "5          0    -926.185831         27               высшее             0   \n",
              "6          0   -2879.202052         43               высшее             0   \n",
              "7          0    -152.779569         50              СРЕДНЕЕ             1   \n",
              "8          2   -6929.865299         35               ВЫСШЕЕ             0   \n",
              "9          0   -2188.756445         41              среднее             1   \n",
              "10         2   -4171.483647         36               высшее             0   \n",
              "11         0    -792.701887         40              среднее             1   \n",
              "12         0            NaN         65              среднее             1   \n",
              "13         0   -1846.641941         54  неоконченное высшее             2   \n",
              "14         0   -1844.956182         56               высшее             0   \n",
              "15         1    -972.364419         26              среднее             1   \n",
              "16         0   -1719.934226         35              среднее             1   \n",
              "17         0   -2369.999720         33               высшее             0   \n",
              "18         0  400281.136913         53              среднее             1   \n",
              "19         0  -10038.818549         48              СРЕДНЕЕ             1   \n",
              "\n",
              "       family_status  family_status_id gender income_type  debt  \\\n",
              "0    женат / замужем                 0      F   сотрудник     0   \n",
              "1    женат / замужем                 0      F   сотрудник     0   \n",
              "2    женат / замужем                 0      M   сотрудник     0   \n",
              "3    женат / замужем                 0      M   сотрудник     0   \n",
              "4   гражданский брак                 1      F   пенсионер     0   \n",
              "5   гражданский брак                 1      M   компаньон     0   \n",
              "6    женат / замужем                 0      F   компаньон     0   \n",
              "7    женат / замужем                 0      M   сотрудник     0   \n",
              "8   гражданский брак                 1      F   сотрудник     0   \n",
              "9    женат / замужем                 0      M   сотрудник     0   \n",
              "10   женат / замужем                 0      M   компаньон     0   \n",
              "11   женат / замужем                 0      F   сотрудник     0   \n",
              "12  гражданский брак                 1      M   пенсионер     0   \n",
              "13   женат / замужем                 0      F   сотрудник     0   \n",
              "14  гражданский брак                 1      F   компаньон     1   \n",
              "15   женат / замужем                 0      F   сотрудник     0   \n",
              "16   женат / замужем                 0      F   сотрудник     0   \n",
              "17  гражданский брак                 1      M   сотрудник     0   \n",
              "18    вдовец / вдова                 2      F   пенсионер     0   \n",
              "19         в разводе                 3      F   сотрудник     0   \n",
              "\n",
              "     total_income                                 purpose  \n",
              "0   253875.639453                           покупка жилья  \n",
              "1   112080.014102                 приобретение автомобиля  \n",
              "2   145885.952297                           покупка жилья  \n",
              "3   267628.550329              дополнительное образование  \n",
              "4   158616.077870                         сыграть свадьбу  \n",
              "5   255763.565419                           покупка жилья  \n",
              "6   240525.971920                       операции с жильем  \n",
              "7   135823.934197                             образование  \n",
              "8    95856.832424                   на проведение свадьбы  \n",
              "9   144425.938277                 покупка жилья для семьи  \n",
              "10  113943.491460                    покупка недвижимости  \n",
              "11   77069.234271       покупка коммерческой недвижимости  \n",
              "12            NaN                         сыграть свадьбу  \n",
              "13  130458.228857                 приобретение автомобиля  \n",
              "14  165127.911772              покупка жилой недвижимости  \n",
              "15  116820.904450  строительство собственной недвижимости  \n",
              "16  289202.704229                            недвижимость  \n",
              "17   90410.586745              строительство недвижимости  \n",
              "18   56823.777243      на покупку подержанного автомобиля  \n",
              "19  242831.107982            на покупку своего автомобиля  "
            ]
          },
          "execution_count": 2,
          "metadata": {},
          "output_type": "execute_result"
        }
      ],
      "source": [
        "data.head(20)"
      ]
    },
    {
      "cell_type": "markdown",
      "id": "205cf02d",
      "metadata": {
        "deletable": false,
        "editable": false,
        "id": "205cf02d"
      },
      "source": [
        "**Задание 3. Выведите основную информацию о датафрейме с помощью метода `info()`.**"
      ]
    },
    {
      "cell_type": "code",
      "execution_count": null,
      "id": "1f9a4f37",
      "metadata": {
        "deletable": false,
        "id": "1f9a4f37",
        "outputId": "15376089-8dad-46c9-b520-c05248d43158"
      },
      "outputs": [
        {
          "name": "stdout",
          "output_type": "stream",
          "text": [
            "<class 'pandas.core.frame.DataFrame'>\n",
            "RangeIndex: 21525 entries, 0 to 21524\n",
            "Data columns (total 12 columns):\n",
            " #   Column            Non-Null Count  Dtype  \n",
            "---  ------            --------------  -----  \n",
            " 0   children          21525 non-null  int64  \n",
            " 1   days_employed     19351 non-null  float64\n",
            " 2   dob_years         21525 non-null  int64  \n",
            " 3   education         21525 non-null  object \n",
            " 4   education_id      21525 non-null  int64  \n",
            " 5   family_status     21525 non-null  object \n",
            " 6   family_status_id  21525 non-null  int64  \n",
            " 7   gender            21525 non-null  object \n",
            " 8   income_type       21525 non-null  object \n",
            " 9   debt              21525 non-null  int64  \n",
            " 10  total_income      19351 non-null  float64\n",
            " 11  purpose           21525 non-null  object \n",
            "dtypes: float64(2), int64(5), object(5)\n",
            "memory usage: 2.0+ MB\n"
          ]
        }
      ],
      "source": [
        "data.info()"
      ]
    },
    {
      "cell_type": "markdown",
      "id": "8745368e",
      "metadata": {
        "deletable": false,
        "editable": false,
        "id": "8745368e"
      },
      "source": [
        "## Предобработка данных"
      ]
    },
    {
      "cell_type": "markdown",
      "id": "c60aa30e",
      "metadata": {
        "deletable": false,
        "editable": false,
        "id": "c60aa30e"
      },
      "source": [
        "### Удаление пропусков"
      ]
    },
    {
      "cell_type": "markdown",
      "id": "c345d17b",
      "metadata": {
        "deletable": false,
        "editable": false,
        "id": "c345d17b"
      },
      "source": [
        "**Задание 4. Выведите количество пропущенных значений для каждого столбца. Используйте комбинацию двух методов.**"
      ]
    },
    {
      "cell_type": "code",
      "execution_count": null,
      "id": "718799f9",
      "metadata": {
        "deletable": false,
        "id": "718799f9",
        "outputId": "81f4d817-781c-465c-ed15-91ce4446810d"
      },
      "outputs": [
        {
          "data": {
            "text/plain": [
              "children               0\n",
              "days_employed       2174\n",
              "dob_years              0\n",
              "education              0\n",
              "education_id           0\n",
              "family_status          0\n",
              "family_status_id       0\n",
              "gender                 0\n",
              "income_type            0\n",
              "debt                   0\n",
              "total_income        2174\n",
              "purpose                0\n",
              "dtype: int64"
            ]
          },
          "execution_count": 4,
          "metadata": {},
          "output_type": "execute_result"
        }
      ],
      "source": [
        "data.isna().sum()"
      ]
    },
    {
      "cell_type": "markdown",
      "id": "63b78eb9",
      "metadata": {
        "deletable": false,
        "editable": false,
        "id": "63b78eb9"
      },
      "source": [
        "**Задание 5. В двух столбцах есть пропущенные значения. Один из них — `days_employed`. Пропуски в этом столбце вы обработаете на следующем этапе. Другой столбец с пропущенными значениями — `total_income` — хранит данные о доходах. На сумму дохода сильнее всего влияет тип занятости, поэтому заполнить пропуски в этом столбце нужно медианным значением по каждому типу из столбца `income_type`. Например, у человека с типом занятости `сотрудник` пропуск в столбце `total_income` должен быть заполнен медианным доходом среди всех записей с тем же типом.**"
      ]
    },
    {
      "cell_type": "code",
      "execution_count": null,
      "id": "ced243f6",
      "metadata": {
        "deletable": false,
        "id": "ced243f6"
      },
      "outputs": [],
      "source": [
        "for t in data['income_type'].unique():\n",
        "    data.loc[(data['income_type'] == t) & (data['total_income'].isna()), 'total_income'] = \\\n",
        "    data.loc[(data['income_type'] == t), 'total_income'].median()"
      ]
    },
    {
      "cell_type": "markdown",
      "id": "b53228ce",
      "metadata": {
        "deletable": false,
        "editable": false,
        "id": "b53228ce"
      },
      "source": [
        "### Обработка аномальных значений"
      ]
    },
    {
      "cell_type": "markdown",
      "id": "8f721c58",
      "metadata": {
        "deletable": false,
        "editable": false,
        "id": "8f721c58"
      },
      "source": [
        "**Задание 6. В данных могут встречаться артефакты (аномалии) — значения, которые не отражают действительность и появились по какой-то ошибке. таким артефактом будет отрицательное количество дней трудового стажа в столбце `days_employed`. Для реальных данных это нормально. Обработайте значения в этом столбце: замените все отрицательные значения положительными с помощью метода `abs()`.**"
      ]
    },
    {
      "cell_type": "code",
      "execution_count": null,
      "id": "4e816fe9",
      "metadata": {
        "deletable": false,
        "id": "4e816fe9"
      },
      "outputs": [],
      "source": [
        "data['days_employed'] = data['days_employed'].abs()"
      ]
    },
    {
      "cell_type": "markdown",
      "id": "defcf527",
      "metadata": {
        "deletable": false,
        "editable": false,
        "id": "defcf527"
      },
      "source": [
        "**Задание 7. Для каждого типа занятости выведите медианное значение трудового стажа `days_employed` в днях.**"
      ]
    },
    {
      "cell_type": "code",
      "execution_count": null,
      "id": "bc91e0bc",
      "metadata": {
        "deletable": false,
        "id": "bc91e0bc",
        "outputId": "801ef80e-522b-4668-f34e-565af7432bcf"
      },
      "outputs": [
        {
          "data": {
            "text/plain": [
              "income_type\n",
              "безработный        366413.652744\n",
              "в декрете            3296.759962\n",
              "госслужащий          2689.368353\n",
              "компаньон            1547.382223\n",
              "пенсионер          365213.306266\n",
              "предприниматель       520.848083\n",
              "сотрудник            1574.202821\n",
              "студент               578.751554\n",
              "Name: days_employed, dtype: float64"
            ]
          },
          "execution_count": 7,
          "metadata": {},
          "output_type": "execute_result"
        }
      ],
      "source": [
        "data.groupby('income_type')['days_employed'].agg('median')"
      ]
    },
    {
      "cell_type": "markdown",
      "id": "f9b3c14d",
      "metadata": {
        "deletable": false,
        "editable": false,
        "id": "f9b3c14d"
      },
      "source": [
        "У двух типов (безработные и пенсионеры) получатся аномально большие значения. Исправить такие значения сложно, поэтому оставьте их как есть. Тем более этот столбец не понадобится вам для исследования."
      ]
    },
    {
      "cell_type": "markdown",
      "id": "d2c900e3",
      "metadata": {
        "deletable": false,
        "editable": false,
        "id": "d2c900e3"
      },
      "source": [
        "**Задание 8. Выведите перечень уникальных значений столбца `children`.**"
      ]
    },
    {
      "cell_type": "code",
      "execution_count": null,
      "id": "88c608ba",
      "metadata": {
        "deletable": false,
        "id": "88c608ba",
        "outputId": "6975b15c-7f95-4697-d16d-a0c79b657b03"
      },
      "outputs": [
        {
          "data": {
            "text/plain": [
              "array([ 1,  0,  3,  2, -1,  4, 20,  5])"
            ]
          },
          "execution_count": 8,
          "metadata": {},
          "output_type": "execute_result"
        }
      ],
      "source": [
        "data['children'].unique()"
      ]
    },
    {
      "cell_type": "markdown",
      "id": "c34f073b",
      "metadata": {
        "deletable": false,
        "editable": false,
        "id": "c34f073b"
      },
      "source": [
        "**Задание 9. В столбце `children` есть два аномальных значения. Удалите строки, в которых встречаются такие аномальные значения из датафрейма `data`.**"
      ]
    },
    {
      "cell_type": "code",
      "execution_count": null,
      "id": "aa54798c",
      "metadata": {
        "deletable": false,
        "id": "aa54798c"
      },
      "outputs": [],
      "source": [
        "data = data[(data['children'] != -1) & (data['children'] != 20)]"
      ]
    },
    {
      "cell_type": "markdown",
      "id": "f81ce36c",
      "metadata": {
        "deletable": false,
        "editable": false,
        "id": "f81ce36c"
      },
      "source": [
        "**Задание 10. Ещё раз выведите перечень уникальных значений столбца `children`, чтобы убедиться, что артефакты удалены.**"
      ]
    },
    {
      "cell_type": "code",
      "execution_count": null,
      "id": "8ab01a7d",
      "metadata": {
        "deletable": false,
        "id": "8ab01a7d",
        "outputId": "b2097101-d49d-44d9-901b-32a65c9463d1"
      },
      "outputs": [
        {
          "data": {
            "text/plain": [
              "array([1, 0, 3, 2, 4, 5])"
            ]
          },
          "execution_count": 10,
          "metadata": {},
          "output_type": "execute_result"
        }
      ],
      "source": [
        "data['children'].unique()"
      ]
    },
    {
      "cell_type": "markdown",
      "id": "cb5321bc",
      "metadata": {
        "deletable": false,
        "editable": false,
        "id": "cb5321bc"
      },
      "source": [
        "### Удаление пропусков (продолжение)"
      ]
    },
    {
      "cell_type": "markdown",
      "id": "750a8066",
      "metadata": {
        "deletable": false,
        "editable": false,
        "id": "750a8066"
      },
      "source": [
        "**Задание 11. Заполните пропуски в столбце `days_employed` медианными значениями по каждого типа занятости `income_type`.**"
      ]
    },
    {
      "cell_type": "code",
      "execution_count": null,
      "id": "3177f93f",
      "metadata": {
        "deletable": false,
        "id": "3177f93f"
      },
      "outputs": [],
      "source": [
        "for t in data['income_type'].unique():\n",
        "    data.loc[(data['income_type'] == t) & (data['days_employed'].isna()), 'days_employed'] = \\\n",
        "    data.loc[(data['income_type'] == t), 'days_employed'].median()"
      ]
    },
    {
      "cell_type": "markdown",
      "id": "cc136cbe",
      "metadata": {
        "deletable": false,
        "editable": false,
        "id": "cc136cbe"
      },
      "source": [
        "**Задание 12. Убедитесь, что все пропуски заполнены. Проверьте себя и ещё раз выведите количество пропущенных значений для каждого столбца с помощью двух методов.**"
      ]
    },
    {
      "cell_type": "code",
      "execution_count": null,
      "id": "9728aef6",
      "metadata": {
        "deletable": false,
        "id": "9728aef6",
        "outputId": "8da1e4e1-358e-4e87-98c9-f261bce0a7b2"
      },
      "outputs": [
        {
          "data": {
            "text/plain": [
              "children            0\n",
              "days_employed       0\n",
              "dob_years           0\n",
              "education           0\n",
              "education_id        0\n",
              "family_status       0\n",
              "family_status_id    0\n",
              "gender              0\n",
              "income_type         0\n",
              "debt                0\n",
              "total_income        0\n",
              "purpose             0\n",
              "dtype: int64"
            ]
          },
          "execution_count": 12,
          "metadata": {},
          "output_type": "execute_result"
        }
      ],
      "source": [
        "data.isna().sum()"
      ]
    },
    {
      "cell_type": "markdown",
      "id": "01ad3cc6",
      "metadata": {
        "deletable": false,
        "editable": false,
        "id": "01ad3cc6"
      },
      "source": [
        "### Изменение типов данных"
      ]
    },
    {
      "cell_type": "markdown",
      "id": "80bb7337",
      "metadata": {
        "deletable": false,
        "editable": false,
        "id": "80bb7337"
      },
      "source": [
        "**Задание 13. Замените вещественный тип данных в столбце `total_income` на целочисленный с помощью метода `astype()`.**"
      ]
    },
    {
      "cell_type": "code",
      "execution_count": null,
      "id": "10dbf3fe",
      "metadata": {
        "deletable": false,
        "id": "10dbf3fe"
      },
      "outputs": [],
      "source": [
        "data['total_income'] = data['total_income'].astype(int)"
      ]
    },
    {
      "cell_type": "markdown",
      "id": "f174bb4f",
      "metadata": {
        "deletable": false,
        "editable": false,
        "id": "f174bb4f"
      },
      "source": [
        "### Обработка дубликатов"
      ]
    },
    {
      "cell_type": "markdown",
      "id": "4bfdb91c",
      "metadata": {
        "deletable": false,
        "editable": false,
        "id": "4bfdb91c"
      },
      "source": [
        "**Задание 14. Обработайте неявные дубликаты в столбце `education`. В этом столбце есть одни и те же значения, но записанные по-разному: с использованием заглавных и строчных букв. Приведите их к нижнему регистру. Проверьте остальные столбцы.**"
      ]
    },
    {
      "cell_type": "code",
      "execution_count": null,
      "id": "eba58895",
      "metadata": {
        "deletable": false,
        "id": "eba58895"
      },
      "outputs": [],
      "source": [
        "data['education'] = data['education'].str.lower()"
      ]
    },
    {
      "cell_type": "markdown",
      "id": "8460270b",
      "metadata": {
        "deletable": false,
        "editable": false,
        "id": "8460270b"
      },
      "source": [
        "**Задание 15. Выведите на экран количество строк-дубликатов в данных. Если такие строки присутствуют, удалите их.**"
      ]
    },
    {
      "cell_type": "code",
      "execution_count": null,
      "id": "b7c2c278",
      "metadata": {
        "deletable": false,
        "id": "b7c2c278",
        "outputId": "9684deba-1934-42d1-99e1-cda61740f822"
      },
      "outputs": [
        {
          "data": {
            "text/plain": [
              "71"
            ]
          },
          "execution_count": 15,
          "metadata": {},
          "output_type": "execute_result"
        }
      ],
      "source": [
        "data.duplicated().sum()"
      ]
    },
    {
      "cell_type": "code",
      "execution_count": null,
      "id": "42f92d90",
      "metadata": {
        "deletable": false,
        "id": "42f92d90"
      },
      "outputs": [],
      "source": [
        "data = data.drop_duplicates()"
      ]
    },
    {
      "cell_type": "markdown",
      "id": "596d7077",
      "metadata": {
        "deletable": false,
        "editable": false,
        "id": "596d7077"
      },
      "source": [
        "### Категоризация данных"
      ]
    },
    {
      "cell_type": "markdown",
      "id": "3cfaae15",
      "metadata": {
        "deletable": false,
        "editable": false,
        "id": "3cfaae15"
      },
      "source": [
        "**Задание 16. На основании диапазонов, указанных ниже, создайте в датафрейме `data` столбец `total_income_category` с категориями:**\n",
        "\n",
        "- 0–30000 — `'E'`;\n",
        "- 30001–50000 — `'D'`;\n",
        "- 50001–200000 — `'C'`;\n",
        "- 200001–1000000 — `'B'`;\n",
        "- 1000001 и выше — `'A'`.\n",
        "\n",
        "\n",
        "**Например, кредитополучателю с доходом 25000 нужно назначить категорию `'E'`, а клиенту, получающему 235000, — `'B'`. Используйте собственную функцию с именем `categorize_income()` и метод `apply()`.**"
      ]
    },
    {
      "cell_type": "code",
      "execution_count": null,
      "id": "7706b3b7",
      "metadata": {
        "deletable": false,
        "id": "7706b3b7"
      },
      "outputs": [],
      "source": [
        "def categorize_income(income):\n",
        "    try:\n",
        "        if 0 <= income <= 30000:\n",
        "            return 'E'\n",
        "        elif 30001 <= income <= 50000:\n",
        "            return 'D'\n",
        "        elif 50001 <= income <= 200000:\n",
        "            return 'C'\n",
        "        elif 200001 <= income <= 1000000:\n",
        "            return 'B'\n",
        "        elif income >= 1000001:\n",
        "            return 'A'\n",
        "    except:\n",
        "        pass"
      ]
    },
    {
      "cell_type": "code",
      "execution_count": null,
      "id": "7711846e",
      "metadata": {
        "deletable": false,
        "id": "7711846e"
      },
      "outputs": [],
      "source": [
        "data['total_income_category'] = data['total_income'].apply(categorize_income)"
      ]
    },
    {
      "cell_type": "markdown",
      "id": "359eab52",
      "metadata": {
        "deletable": false,
        "editable": false,
        "id": "359eab52"
      },
      "source": [
        "**Задание 17. Выведите на экран перечень уникальных целей взятия кредита из столбца `purpose`.**"
      ]
    },
    {
      "cell_type": "code",
      "execution_count": null,
      "id": "f2a961e3",
      "metadata": {
        "deletable": false,
        "id": "f2a961e3",
        "outputId": "673c12d9-7d7e-4ae0-9812-c622c89dd244"
      },
      "outputs": [
        {
          "data": {
            "text/plain": [
              "array(['покупка жилья', 'приобретение автомобиля',\n",
              "       'дополнительное образование', 'сыграть свадьбу',\n",
              "       'операции с жильем', 'образование', 'на проведение свадьбы',\n",
              "       'покупка жилья для семьи', 'покупка недвижимости',\n",
              "       'покупка коммерческой недвижимости', 'покупка жилой недвижимости',\n",
              "       'строительство собственной недвижимости', 'недвижимость',\n",
              "       'строительство недвижимости', 'на покупку подержанного автомобиля',\n",
              "       'на покупку своего автомобиля',\n",
              "       'операции с коммерческой недвижимостью',\n",
              "       'строительство жилой недвижимости', 'жилье',\n",
              "       'операции со своей недвижимостью', 'автомобили',\n",
              "       'заняться образованием', 'сделка с подержанным автомобилем',\n",
              "       'получение образования', 'автомобиль', 'свадьба',\n",
              "       'получение дополнительного образования', 'покупка своего жилья',\n",
              "       'операции с недвижимостью', 'получение высшего образования',\n",
              "       'свой автомобиль', 'сделка с автомобилем',\n",
              "       'профильное образование', 'высшее образование',\n",
              "       'покупка жилья для сдачи', 'на покупку автомобиля', 'ремонт жилью',\n",
              "       'заняться высшим образованием'], dtype=object)"
            ]
          },
          "execution_count": 19,
          "metadata": {},
          "output_type": "execute_result"
        }
      ],
      "source": [
        "data['purpose'].unique()"
      ]
    },
    {
      "cell_type": "markdown",
      "id": "bd447681",
      "metadata": {
        "deletable": false,
        "editable": false,
        "id": "bd447681"
      },
      "source": [
        "**Задание 18. Создайте функцию, которая на основании данных из столбца `purpose` сформирует новый столбец `purpose_category`, в который войдут следующие категории:**\n",
        "\n",
        "- `'операции с автомобилем'`,\n",
        "- `'операции с недвижимостью'`,\n",
        "- `'проведение свадьбы'`,\n",
        "- `'получение образования'`.\n",
        "\n",
        "**Например, если в столбце `purpose` находится подстрока `'на покупку автомобиля'`, то в столбце `purpose_category` должна появиться строка `'операции с автомобилем'`.**\n",
        "\n",
        "**Используйте собственную функцию с именем `categorize_purpose()` и метод `apply()`. Изучите данные в столбце `purpose` и определите, какие подстроки помогут вам правильно определить категорию.**"
      ]
    },
    {
      "cell_type": "code",
      "execution_count": null,
      "id": "e09800e8",
      "metadata": {
        "deletable": false,
        "id": "e09800e8"
      },
      "outputs": [],
      "source": [
        "def categorize_purpose(row):\n",
        "    try:\n",
        "        if 'автом' in row:\n",
        "            return 'операции с автомобилем'\n",
        "        elif 'жил' in row or 'недвиж' in row:\n",
        "            return 'операции с недвижимостью'\n",
        "        elif 'свад' in row:\n",
        "            return 'проведение свадьбы'\n",
        "        elif 'образов' in row:\n",
        "            return 'получение образования'\n",
        "    except:\n",
        "        return 'нет категории'"
      ]
    },
    {
      "cell_type": "code",
      "execution_count": null,
      "id": "bd9ae0b9",
      "metadata": {
        "deletable": false,
        "id": "bd9ae0b9"
      },
      "outputs": [],
      "source": [
        "data['purpose_category'] = data['purpose'].apply(categorize_purpose)"
      ]
    },
    {
      "cell_type": "markdown",
      "id": "477bfc92",
      "metadata": {
        "deletable": false,
        "editable": false,
        "id": "477bfc92"
      },
      "source": [
        "### Шаг 3. Исследуйте данные и ответьте на вопросы"
      ]
    },
    {
      "cell_type": "markdown",
      "id": "c8c11128",
      "metadata": {
        "deletable": false,
        "editable": false,
        "id": "c8c11128"
      },
      "source": [
        "#### 3.1 Есть ли зависимость между количеством детей и возвратом кредита в срок?"
      ]
    },
    {
      "cell_type": "code",
      "execution_count": null,
      "id": "369a52c4",
      "metadata": {
        "deletable": false,
        "id": "369a52c4",
        "outputId": "8dfb1d4a-741f-4694-ec39-6e898e991a03"
      },
      "outputs": [
        {
          "data": {
            "text/html": [
              "<div>\n",
              "<style scoped>\n",
              "    .dataframe tbody tr th:only-of-type {\n",
              "        vertical-align: middle;\n",
              "    }\n",
              "\n",
              "    .dataframe tbody tr th {\n",
              "        vertical-align: top;\n",
              "    }\n",
              "\n",
              "    .dataframe thead th {\n",
              "        text-align: right;\n",
              "    }\n",
              "</style>\n",
              "<table border=\"1\" class=\"dataframe\">\n",
              "  <thead>\n",
              "    <tr style=\"text-align: right;\">\n",
              "      <th></th>\n",
              "      <th>количество заемщиков</th>\n",
              "      <th>общее количество задолженностей</th>\n",
              "      <th>коэффициент задолженности</th>\n",
              "    </tr>\n",
              "    <tr>\n",
              "      <th>количество детей</th>\n",
              "      <th></th>\n",
              "      <th></th>\n",
              "      <th></th>\n",
              "    </tr>\n",
              "  </thead>\n",
              "  <tbody>\n",
              "    <tr>\n",
              "      <th>0</th>\n",
              "      <td>14091</td>\n",
              "      <td>1063</td>\n",
              "      <td>0.075438</td>\n",
              "    </tr>\n",
              "    <tr>\n",
              "      <th>1</th>\n",
              "      <td>4808</td>\n",
              "      <td>444</td>\n",
              "      <td>0.092346</td>\n",
              "    </tr>\n",
              "    <tr>\n",
              "      <th>2</th>\n",
              "      <td>2052</td>\n",
              "      <td>194</td>\n",
              "      <td>0.094542</td>\n",
              "    </tr>\n",
              "    <tr>\n",
              "      <th>3</th>\n",
              "      <td>330</td>\n",
              "      <td>27</td>\n",
              "      <td>0.081818</td>\n",
              "    </tr>\n",
              "    <tr>\n",
              "      <th>4</th>\n",
              "      <td>41</td>\n",
              "      <td>4</td>\n",
              "      <td>0.097561</td>\n",
              "    </tr>\n",
              "    <tr>\n",
              "      <th>5</th>\n",
              "      <td>9</td>\n",
              "      <td>0</td>\n",
              "      <td>0.000000</td>\n",
              "    </tr>\n",
              "  </tbody>\n",
              "</table>\n",
              "</div>"
            ],
            "text/plain": [
              "                  количество заемщиков  общее количество задолженностей  \\\n",
              "количество детей                                                          \n",
              "0                                14091                             1063   \n",
              "1                                 4808                              444   \n",
              "2                                 2052                              194   \n",
              "3                                  330                               27   \n",
              "4                                   41                                4   \n",
              "5                                    9                                0   \n",
              "\n",
              "                  коэффициент задолженности  \n",
              "количество детей                             \n",
              "0                                  0.075438  \n",
              "1                                  0.092346  \n",
              "2                                  0.094542  \n",
              "3                                  0.081818  \n",
              "4                                  0.097561  \n",
              "5                                  0.000000  "
            ]
          },
          "execution_count": 22,
          "metadata": {},
          "output_type": "execute_result"
        }
      ],
      "source": [
        "df = data.pivot_table(index = ['children'], values = ['debt'], aggfunc = ['count','sum', 'mean'])\n",
        "#формируем сводную таблицу, сгруппированную по количеству детей\n",
        "df.columns = df.columns.get_level_values(0)\n",
        "df.index.names = ['количество детей']\n",
        "df = df.rename( columns = {'count':'количество заемщиков','sum': 'общее количество задолженностей', 'mean': 'коэффициент задолженности'})\n",
        "#переименовываем столбцы\n",
        "df"
      ]
    },
    {
      "cell_type": "code",
      "execution_count": null,
      "id": "ff1419f8",
      "metadata": {
        "id": "ff1419f8",
        "outputId": "66dae48a-649d-40b3-ae2a-221d87fc6809"
      },
      "outputs": [
        {
          "data": {
            "image/png": "[encoded data removed]",
            "text/plain": [
              "<Figure size 720x432 with 1 Axes>"
            ]
          },
          "metadata": {
            "needs_background": "light"
          },
          "output_type": "display_data"
        }
      ],
      "source": [
        "import matplotlib.pyplot as plt\n",
        "\n",
        "df['коэффициент задолженности'].plot(kind='bar', figsize=(10,6), title='title', color='y', alpha=.5, rot=0)\n",
        "\n",
        "plt.show()"
      ]
    },
    {
      "cell_type": "markdown",
      "id": "b1e74c72",
      "metadata": {
        "deletable": false,
        "id": "b1e74c72"
      },
      "source": [
        "**Вывод:**\n",
        "*С помощью сводной таблицы мы можем сделать вывод о том, что существует некоторая зависимость между количеством детей и задолженностью по кредиту. Таким образом, мы можем увидеть, что заемщики без детей имеют задолженность реже. Тогда, как заемщики с 4мя детьми самые неплатежеспособные. Тем не менее, нет четкости между данными  по заемщикам с детьми  в целом, например, те, у кого 3 ребенка платят кредит регулярнее тех, у кого 1 или 2. Мы не взяли в расчет заемщиков с 5ью детьми, т.к скорее всего эти данные неинформативны, поскольку сильно отличаются от остальных показателей.*"
      ]
    },
    {
      "cell_type": "markdown",
      "id": "949fe2b3",
      "metadata": {
        "deletable": false,
        "editable": false,
        "id": "949fe2b3"
      },
      "source": [
        "#### 3.2 Есть ли зависимость между семейным положением и возвратом кредита в срок?"
      ]
    },
    {
      "cell_type": "code",
      "execution_count": null,
      "id": "25e34b9d",
      "metadata": {
        "deletable": false,
        "id": "25e34b9d",
        "outputId": "39108a60-3422-4f0c-ea2d-4c6490aac236"
      },
      "outputs": [
        {
          "data": {
            "text/html": [
              "<div>\n",
              "<style scoped>\n",
              "    .dataframe tbody tr th:only-of-type {\n",
              "        vertical-align: middle;\n",
              "    }\n",
              "\n",
              "    .dataframe tbody tr th {\n",
              "        vertical-align: top;\n",
              "    }\n",
              "\n",
              "    .dataframe thead th {\n",
              "        text-align: right;\n",
              "    }\n",
              "</style>\n",
              "<table border=\"1\" class=\"dataframe\">\n",
              "  <thead>\n",
              "    <tr style=\"text-align: right;\">\n",
              "      <th></th>\n",
              "      <th>общее количество заемщиков</th>\n",
              "      <th>общее количество задолженностей</th>\n",
              "      <th>коэффициент задолженности</th>\n",
              "    </tr>\n",
              "    <tr>\n",
              "      <th>семейное положение</th>\n",
              "      <th></th>\n",
              "      <th></th>\n",
              "      <th></th>\n",
              "    </tr>\n",
              "  </thead>\n",
              "  <tbody>\n",
              "    <tr>\n",
              "      <th>Не женат / не замужем</th>\n",
              "      <td>2796</td>\n",
              "      <td>273</td>\n",
              "      <td>0.097639</td>\n",
              "    </tr>\n",
              "    <tr>\n",
              "      <th>в разводе</th>\n",
              "      <td>1189</td>\n",
              "      <td>84</td>\n",
              "      <td>0.070648</td>\n",
              "    </tr>\n",
              "    <tr>\n",
              "      <th>вдовец / вдова</th>\n",
              "      <td>951</td>\n",
              "      <td>63</td>\n",
              "      <td>0.066246</td>\n",
              "    </tr>\n",
              "    <tr>\n",
              "      <th>гражданский брак</th>\n",
              "      <td>4134</td>\n",
              "      <td>385</td>\n",
              "      <td>0.093130</td>\n",
              "    </tr>\n",
              "    <tr>\n",
              "      <th>женат / замужем</th>\n",
              "      <td>12261</td>\n",
              "      <td>927</td>\n",
              "      <td>0.075606</td>\n",
              "    </tr>\n",
              "  </tbody>\n",
              "</table>\n",
              "</div>"
            ],
            "text/plain": [
              "                       общее количество заемщиков  \\\n",
              "семейное положение                                  \n",
              "Не женат / не замужем                        2796   \n",
              "в разводе                                    1189   \n",
              "вдовец / вдова                                951   \n",
              "гражданский брак                             4134   \n",
              "женат / замужем                             12261   \n",
              "\n",
              "                       общее количество задолженностей  \\\n",
              "семейное положение                                       \n",
              "Не женат / не замужем                              273   \n",
              "в разводе                                           84   \n",
              "вдовец / вдова                                      63   \n",
              "гражданский брак                                   385   \n",
              "женат / замужем                                    927   \n",
              "\n",
              "                       коэффициент задолженности  \n",
              "семейное положение                                \n",
              "Не женат / не замужем                   0.097639  \n",
              "в разводе                               0.070648  \n",
              "вдовец / вдова                          0.066246  \n",
              "гражданский брак                        0.093130  \n",
              "женат / замужем                         0.075606  "
            ]
          },
          "execution_count": 24,
          "metadata": {},
          "output_type": "execute_result"
        }
      ],
      "source": [
        "df_fam_st = data.pivot_table(index = ['family_status'], values = ['debt'], aggfunc = ['count','sum', 'mean'])\n",
        "#формируем сводную таблицу, сгруппированную по семейному положению\n",
        "df_fam_st.columns = df_fam_st.columns.get_level_values(0) #сбрасываем мультииндекс\n",
        "df_fam_st.index.names = ['семейное положение'] #переименовываем столбец с индексом\n",
        "df_fam_st = df_fam_st.rename( columns = {'count': 'общее количество заемщиков','sum': 'общее количество задолженностей', 'mean': 'коэффициент задолженности'})\n",
        "#переименовываем столбцы\n",
        "df_fam_st"
      ]
    },
    {
      "cell_type": "markdown",
      "id": "78bd3d8a",
      "metadata": {
        "deletable": false,
        "id": "78bd3d8a"
      },
      "source": [
        "**Вывод:**\n",
        "*Опираясь на сводную таблицу, делаем вывод о том, что самые надежные заемщики имеют статус вдова/вдовец.\n",
        "Самые неплатежеспособные в данном случае не женатые/не замужние заещики.\n",
        "Можем сказать, что для кредиторов лучшая ситуация, когда заемщик не одинок, но и не имеет детей.*"
      ]
    },
    {
      "cell_type": "markdown",
      "id": "09d0add4",
      "metadata": {
        "deletable": false,
        "editable": false,
        "id": "09d0add4"
      },
      "source": [
        "#### 3.3 Есть ли зависимость между уровнем дохода и возвратом кредита в срок?"
      ]
    },
    {
      "cell_type": "code",
      "execution_count": null,
      "id": "af47d046",
      "metadata": {
        "deletable": false,
        "id": "af47d046"
      },
      "outputs": [],
      "source": [
        "def func_income (row):\n",
        "\n",
        "    if row<30000:\n",
        "        return 'E'\n",
        "    if row<50000:\n",
        "        return 'D'\n",
        "    if row<200000:\n",
        "        return 'C'\n",
        "    if row<1000000:\n",
        "        return 'B'\n",
        "\n",
        "    return 'A'# Создаем функцию для категоризации общего дохода"
      ]
    },
    {
      "cell_type": "markdown",
      "id": "1e90df68",
      "metadata": {
        "id": "1e90df68"
      },
      "source": [
        ">Сделать статистические выводы по доходу сложно, т.к. значения дохода в таблице разные. Поэтому введем категоризацию по доходу.\n",
        "Опираясь на данные таблицы, назначим диапазоны дохода таким образом:\n",
        "0–30000 — 'E';\n",
        "30001–50000 — 'D';\n",
        "50001–200000 — 'C';\n",
        "200001–1000000 — 'B';\n",
        "1000001 и выше — 'A'."
      ]
    },
    {
      "cell_type": "code",
      "execution_count": null,
      "id": "9be1cd9d",
      "metadata": {
        "id": "9be1cd9d",
        "outputId": "4936cde0-38a3-4633-fd59-c171e4c88a53"
      },
      "outputs": [
        {
          "data": {
            "text/html": [
              "<div>\n",
              "<style scoped>\n",
              "    .dataframe tbody tr th:only-of-type {\n",
              "        vertical-align: middle;\n",
              "    }\n",
              "\n",
              "    .dataframe tbody tr th {\n",
              "        vertical-align: top;\n",
              "    }\n",
              "\n",
              "    .dataframe thead th {\n",
              "        text-align: right;\n",
              "    }\n",
              "</style>\n",
              "<table border=\"1\" class=\"dataframe\">\n",
              "  <thead>\n",
              "    <tr style=\"text-align: right;\">\n",
              "      <th></th>\n",
              "      <th>children</th>\n",
              "      <th>days_employed</th>\n",
              "      <th>dob_years</th>\n",
              "      <th>education</th>\n",
              "      <th>education_id</th>\n",
              "      <th>family_status</th>\n",
              "      <th>family_status_id</th>\n",
              "      <th>gender</th>\n",
              "      <th>income_type</th>\n",
              "      <th>debt</th>\n",
              "      <th>total_income</th>\n",
              "      <th>purpose</th>\n",
              "      <th>total_income_category</th>\n",
              "      <th>purpose_category</th>\n",
              "      <th>category_income</th>\n",
              "    </tr>\n",
              "  </thead>\n",
              "  <tbody>\n",
              "    <tr>\n",
              "      <th>0</th>\n",
              "      <td>1</td>\n",
              "      <td>8437.673028</td>\n",
              "      <td>42</td>\n",
              "      <td>высшее</td>\n",
              "      <td>0</td>\n",
              "      <td>женат / замужем</td>\n",
              "      <td>0</td>\n",
              "      <td>F</td>\n",
              "      <td>сотрудник</td>\n",
              "      <td>0</td>\n",
              "      <td>253875</td>\n",
              "      <td>покупка жилья</td>\n",
              "      <td>B</td>\n",
              "      <td>операции с недвижимостью</td>\n",
              "      <td>B</td>\n",
              "    </tr>\n",
              "    <tr>\n",
              "      <th>1</th>\n",
              "      <td>1</td>\n",
              "      <td>4024.803754</td>\n",
              "      <td>36</td>\n",
              "      <td>среднее</td>\n",
              "      <td>1</td>\n",
              "      <td>женат / замужем</td>\n",
              "      <td>0</td>\n",
              "      <td>F</td>\n",
              "      <td>сотрудник</td>\n",
              "      <td>0</td>\n",
              "      <td>112080</td>\n",
              "      <td>приобретение автомобиля</td>\n",
              "      <td>C</td>\n",
              "      <td>операции с автомобилем</td>\n",
              "      <td>C</td>\n",
              "    </tr>\n",
              "    <tr>\n",
              "      <th>2</th>\n",
              "      <td>0</td>\n",
              "      <td>5623.422610</td>\n",
              "      <td>33</td>\n",
              "      <td>среднее</td>\n",
              "      <td>1</td>\n",
              "      <td>женат / замужем</td>\n",
              "      <td>0</td>\n",
              "      <td>M</td>\n",
              "      <td>сотрудник</td>\n",
              "      <td>0</td>\n",
              "      <td>145885</td>\n",
              "      <td>покупка жилья</td>\n",
              "      <td>C</td>\n",
              "      <td>операции с недвижимостью</td>\n",
              "      <td>C</td>\n",
              "    </tr>\n",
              "    <tr>\n",
              "      <th>3</th>\n",
              "      <td>3</td>\n",
              "      <td>4124.747207</td>\n",
              "      <td>32</td>\n",
              "      <td>среднее</td>\n",
              "      <td>1</td>\n",
              "      <td>женат / замужем</td>\n",
              "      <td>0</td>\n",
              "      <td>M</td>\n",
              "      <td>сотрудник</td>\n",
              "      <td>0</td>\n",
              "      <td>267628</td>\n",
              "      <td>дополнительное образование</td>\n",
              "      <td>B</td>\n",
              "      <td>получение образования</td>\n",
              "      <td>B</td>\n",
              "    </tr>\n",
              "    <tr>\n",
              "      <th>4</th>\n",
              "      <td>0</td>\n",
              "      <td>340266.072047</td>\n",
              "      <td>53</td>\n",
              "      <td>среднее</td>\n",
              "      <td>1</td>\n",
              "      <td>гражданский брак</td>\n",
              "      <td>1</td>\n",
              "      <td>F</td>\n",
              "      <td>пенсионер</td>\n",
              "      <td>0</td>\n",
              "      <td>158616</td>\n",
              "      <td>сыграть свадьбу</td>\n",
              "      <td>C</td>\n",
              "      <td>проведение свадьбы</td>\n",
              "      <td>C</td>\n",
              "    </tr>\n",
              "  </tbody>\n",
              "</table>\n",
              "</div>"
            ],
            "text/plain": [
              "   children  days_employed  dob_years education  education_id  \\\n",
              "0         1    8437.673028         42    высшее             0   \n",
              "1         1    4024.803754         36   среднее             1   \n",
              "2         0    5623.422610         33   среднее             1   \n",
              "3         3    4124.747207         32   среднее             1   \n",
              "4         0  340266.072047         53   среднее             1   \n",
              "\n",
              "      family_status  family_status_id gender income_type  debt  total_income  \\\n",
              "0   женат / замужем                 0      F   сотрудник     0        253875   \n",
              "1   женат / замужем                 0      F   сотрудник     0        112080   \n",
              "2   женат / замужем                 0      M   сотрудник     0        145885   \n",
              "3   женат / замужем                 0      M   сотрудник     0        267628   \n",
              "4  гражданский брак                 1      F   пенсионер     0        158616   \n",
              "\n",
              "                      purpose total_income_category          purpose_category  \\\n",
              "0               покупка жилья                     B  операции с недвижимостью   \n",
              "1     приобретение автомобиля                     C    операции с автомобилем   \n",
              "2               покупка жилья                     C  операции с недвижимостью   \n",
              "3  дополнительное образование                     B     получение образования   \n",
              "4             сыграть свадьбу                     C        проведение свадьбы   \n",
              "\n",
              "  category_income  \n",
              "0               B  \n",
              "1               C  \n",
              "2               C  \n",
              "3               B  \n",
              "4               C  "
            ]
          },
          "execution_count": 26,
          "metadata": {},
          "output_type": "execute_result"
        }
      ],
      "source": [
        "df_income = data #перезапишем данные в новую таблицу, чтобы не изменять data\n",
        "df_income['category_income'] = df_income['total_income'].apply(func_income) #добавляем новый столбец с категорией в таблицу\n",
        "df_income.head() #проверим правильность работы кода"
      ]
    },
    {
      "cell_type": "code",
      "execution_count": null,
      "id": "50b6ec8a",
      "metadata": {
        "id": "50b6ec8a",
        "outputId": "9ff3ad97-ba5a-4e08-98fe-8f02b4430b11"
      },
      "outputs": [
        {
          "data": {
            "text/html": [
              "<div>\n",
              "<style scoped>\n",
              "    .dataframe tbody tr th:only-of-type {\n",
              "        vertical-align: middle;\n",
              "    }\n",
              "\n",
              "    .dataframe tbody tr th {\n",
              "        vertical-align: top;\n",
              "    }\n",
              "\n",
              "    .dataframe thead th {\n",
              "        text-align: right;\n",
              "    }\n",
              "</style>\n",
              "<table border=\"1\" class=\"dataframe\">\n",
              "  <thead>\n",
              "    <tr style=\"text-align: right;\">\n",
              "      <th></th>\n",
              "      <th>общее количество заемщиков</th>\n",
              "      <th>общее количество задолженностей</th>\n",
              "      <th>коэффициент задолженности</th>\n",
              "    </tr>\n",
              "    <tr>\n",
              "      <th>категория дохода</th>\n",
              "      <th></th>\n",
              "      <th></th>\n",
              "      <th></th>\n",
              "    </tr>\n",
              "  </thead>\n",
              "  <tbody>\n",
              "    <tr>\n",
              "      <th>A</th>\n",
              "      <td>25</td>\n",
              "      <td>2</td>\n",
              "      <td>0.080000</td>\n",
              "    </tr>\n",
              "    <tr>\n",
              "      <th>B</th>\n",
              "      <td>5014</td>\n",
              "      <td>354</td>\n",
              "      <td>0.070602</td>\n",
              "    </tr>\n",
              "    <tr>\n",
              "      <th>C</th>\n",
              "      <td>15921</td>\n",
              "      <td>1353</td>\n",
              "      <td>0.084982</td>\n",
              "    </tr>\n",
              "    <tr>\n",
              "      <th>D</th>\n",
              "      <td>349</td>\n",
              "      <td>21</td>\n",
              "      <td>0.060172</td>\n",
              "    </tr>\n",
              "    <tr>\n",
              "      <th>E</th>\n",
              "      <td>22</td>\n",
              "      <td>2</td>\n",
              "      <td>0.090909</td>\n",
              "    </tr>\n",
              "  </tbody>\n",
              "</table>\n",
              "</div>"
            ],
            "text/plain": [
              "                  общее количество заемщиков  общее количество задолженностей  \\\n",
              "категория дохода                                                                \n",
              "A                                         25                                2   \n",
              "B                                       5014                              354   \n",
              "C                                      15921                             1353   \n",
              "D                                        349                               21   \n",
              "E                                         22                                2   \n",
              "\n",
              "                  коэффициент задолженности  \n",
              "категория дохода                             \n",
              "A                                  0.080000  \n",
              "B                                  0.070602  \n",
              "C                                  0.084982  \n",
              "D                                  0.060172  \n",
              "E                                  0.090909  "
            ]
          },
          "execution_count": 27,
          "metadata": {},
          "output_type": "execute_result"
        }
      ],
      "source": [
        "df_income = data.pivot_table(index = ['category_income'], values = ['debt'], aggfunc = ['count','sum', 'mean'])\n",
        "\n",
        "#формируем сводную таблицу, сгруппированную по доходу\n",
        "\n",
        "df_income.columns = df_income.columns.get_level_values(0) #сбрасываем мультииндекс\n",
        "\n",
        "df_income.index.names = ['категория дохода'] #переименовываем столбец с индексом\n",
        "\n",
        "df_income = df_income.rename( columns = {'count': 'общее количество заемщиков','sum': 'общее количество задолженностей', 'mean': 'коэффициент задолженности'})\n",
        "\n",
        "#переименовываем столбцы\n",
        "\n",
        "df_income"
      ]
    },
    {
      "cell_type": "markdown",
      "id": "45ce4ec1",
      "metadata": {
        "deletable": false,
        "id": "45ce4ec1"
      },
      "source": [
        "**Вывод:**\n",
        "*Опираясь на сводную таблицу, можем сделать вывод, что заемщики с доходом выше 30000 руб. и менее 50000 руб. более надежные и реже задерживают выплаты. Тогда как заемщики с низким уровнем дохода, ниже 30000 руб. самые ненадежные. Учитывая это, можно сказать, что 30000 является пороговым значением для данной категории. При необходимости можно провести более детальное исследование и категоризацию.*"
      ]
    },
    {
      "cell_type": "markdown",
      "id": "14f383cc",
      "metadata": {
        "deletable": false,
        "editable": false,
        "id": "14f383cc"
      },
      "source": [
        "#### 3.4 Как разные цели кредита влияют на его возврат в срок?"
      ]
    },
    {
      "cell_type": "code",
      "execution_count": null,
      "id": "c5881701",
      "metadata": {
        "deletable": false,
        "id": "c5881701",
        "outputId": "f1e2ce5e-c41f-4978-9bec-49ed91f873da"
      },
      "outputs": [
        {
          "data": {
            "text/html": [
              "<div>\n",
              "<style scoped>\n",
              "    .dataframe tbody tr th:only-of-type {\n",
              "        vertical-align: middle;\n",
              "    }\n",
              "\n",
              "    .dataframe tbody tr th {\n",
              "        vertical-align: top;\n",
              "    }\n",
              "\n",
              "    .dataframe thead th {\n",
              "        text-align: right;\n",
              "    }\n",
              "</style>\n",
              "<table border=\"1\" class=\"dataframe\">\n",
              "  <thead>\n",
              "    <tr style=\"text-align: right;\">\n",
              "      <th></th>\n",
              "      <th>общее количество заемщиков</th>\n",
              "      <th>общее количество задолженностей</th>\n",
              "      <th>коэффициент задолженности</th>\n",
              "    </tr>\n",
              "    <tr>\n",
              "      <th>категория цели</th>\n",
              "      <th></th>\n",
              "      <th></th>\n",
              "      <th></th>\n",
              "    </tr>\n",
              "  </thead>\n",
              "  <tbody>\n",
              "    <tr>\n",
              "      <th>операции с автомобилем</th>\n",
              "      <td>4279</td>\n",
              "      <td>400</td>\n",
              "      <td>0.093480</td>\n",
              "    </tr>\n",
              "    <tr>\n",
              "      <th>операции с недвижимостью</th>\n",
              "      <td>10751</td>\n",
              "      <td>780</td>\n",
              "      <td>0.072551</td>\n",
              "    </tr>\n",
              "    <tr>\n",
              "      <th>получение образования</th>\n",
              "      <td>3988</td>\n",
              "      <td>369</td>\n",
              "      <td>0.092528</td>\n",
              "    </tr>\n",
              "    <tr>\n",
              "      <th>проведение свадьбы</th>\n",
              "      <td>2313</td>\n",
              "      <td>183</td>\n",
              "      <td>0.079118</td>\n",
              "    </tr>\n",
              "  </tbody>\n",
              "</table>\n",
              "</div>"
            ],
            "text/plain": [
              "                          общее количество заемщиков  \\\n",
              "категория цели                                         \n",
              "операции с автомобилем                          4279   \n",
              "операции с недвижимостью                       10751   \n",
              "получение образования                           3988   \n",
              "проведение свадьбы                              2313   \n",
              "\n",
              "                          общее количество задолженностей  \\\n",
              "категория цели                                              \n",
              "операции с автомобилем                                400   \n",
              "операции с недвижимостью                              780   \n",
              "получение образования                                 369   \n",
              "проведение свадьбы                                    183   \n",
              "\n",
              "                          коэффициент задолженности  \n",
              "категория цели                                       \n",
              "операции с автомобилем                     0.093480  \n",
              "операции с недвижимостью                   0.072551  \n",
              "получение образования                      0.092528  \n",
              "проведение свадьбы                         0.079118  "
            ]
          },
          "execution_count": 28,
          "metadata": {},
          "output_type": "execute_result"
        }
      ],
      "source": [
        "df_purpose = data.pivot_table(index = ['purpose_category'], values = ['debt'], aggfunc = ['count','sum', 'mean'])\n",
        "\n",
        "#формируем сводную таблицу, сгруппированную категории цели кредита\n",
        "\n",
        "df_purpose.columns = df_purpose.columns.get_level_values(0) #сбрасываем мультииндекс\n",
        "\n",
        "df_purpose.index.names = ['категория цели'] #переименовываем столбец с индексом\n",
        "\n",
        "df_purpose = df_purpose.rename( columns = {'count': 'общее количество заемщиков','sum': 'общее количество задолженностей', 'mean': 'коэффициент задолженности'})\n",
        "\n",
        "#переименовываем столбцы\n",
        "\n",
        "df_purpose"
      ]
    },
    {
      "cell_type": "markdown",
      "id": "0b6d80b3",
      "metadata": {
        "deletable": false,
        "id": "0b6d80b3"
      },
      "source": [
        "**Вывод:**\n",
        "*Кредиты на операции с недвижимостью берут чаще, но и чаще возвращают вовремя. Самая ненадежная цель кредита - операции с автомобилем, коэффициент 0,093. Почти так же ненадежны те, кто берет кредит на образование коэффицент 0,092*"
      ]
    },
    {
      "cell_type": "markdown",
      "id": "23a29e3b",
      "metadata": {
        "deletable": false,
        "editable": false,
        "id": "23a29e3b"
      },
      "source": [
        "#### 3.5 Приведите возможные причины появления пропусков в исходных данных."
      ]
    },
    {
      "cell_type": "markdown",
      "id": "53f83065",
      "metadata": {
        "deletable": false,
        "id": "53f83065"
      },
      "source": [
        "*Ответ:* Главными причинами отсутствия данных являются человеческий фактор и технические неполадки.  Примером ошибок, связанных с человеческим фактором могут быть, неумышленные пропуски, ошибки, опечатки, путаница в величинах и т.п. Технические ошибки связаны с неправильной выгрузкой данных, ошибками при выгрузке, смене формата данных и т.п. В нашем случае пропуски встречались в двух столбцах: days_employed, total_income, причем количество пропусков одинаково. Можно **предположить**, что кредит запрашивали люди, не работающие и никогда не работавшие. Также наличие пропусков может быть связано с потерей данных при выгрузке. Возмозможны и неумышленные пропуски данных сотрудником, например пропуск диалогового окна с этими данными и т.п."
      ]
    },
    {
      "cell_type": "markdown",
      "id": "e56f30c6",
      "metadata": {
        "deletable": false,
        "editable": false,
        "id": "e56f30c6"
      },
      "source": [
        "#### 3.6 Объясните, почему заполнить пропуски медианным значением — лучшее решение для количественных переменных."
      ]
    },
    {
      "cell_type": "markdown",
      "id": "b7321f5c",
      "metadata": {
        "deletable": false,
        "id": "b7321f5c"
      },
      "source": [
        "*Ответ:*  Мы используем медианное значение, когда есть некоторые значения, которые сильно отличаются от большинства остальных, т.к. среднее значение в этом случае может сильно повлиять на общую статистику.  \n",
        "Например, в проекте на сумму дохода сильнее всего влияет тип занятости, поэтому заполнить пропуски в этом столбце о доходах необходимо медианным значением по каждому типу занятости. Медиана в данном случае лучше среднего, т.к. есть вероятность наличия  экстремальных значений (высокие или низкие) в наборе данных. В этом случаяе медиана даст более реалистичную оценку центрального значения дохода."
      ]
    },
    {
      "cell_type": "markdown",
      "id": "27a54bd1",
      "metadata": {
        "deletable": false,
        "editable": false,
        "id": "27a54bd1"
      },
      "source": [
        "### Шаг 4: общий вывод."
      ]
    },
    {
      "cell_type": "markdown",
      "id": "d62eaab6",
      "metadata": {
        "deletable": false,
        "id": "d62eaab6"
      },
      "source": [
        "> Самыми надежными заемщиками для банков являются овдовевшие или разведенные клиенты, с доходом 30000 - 50000 руб., не имеющие детей и оформляющие кредит с целью операций с недвижимостью.\n",
        "\n",
        "> Самые неплатежеспособные заемщики - это одинокие люди с детьми, с низким уровнем дохода (ниже 30000 руб.), покупающие автомобиль или получающие образование."
      ]
    }
  ],
  "metadata": {
    "ExecuteTimeLog": [
      {
        "duration": 726,
        "start_time": "2022-11-09T08:02:14.357Z"
      },
      {
        "duration": 22,
        "start_time": "2022-11-09T08:02:15.085Z"
      },
      {
        "duration": 14,
        "start_time": "2022-11-09T08:02:15.108Z"
      },
      {
        "duration": 16,
        "start_time": "2022-11-09T08:02:15.124Z"
      },
      {
        "duration": 48,
        "start_time": "2022-11-09T08:02:15.141Z"
      },
      {
        "duration": 3,
        "start_time": "2022-11-09T08:02:15.191Z"
      },
      {
        "duration": 18,
        "start_time": "2022-11-09T08:02:15.196Z"
      },
      {
        "duration": 25,
        "start_time": "2022-11-09T08:02:15.216Z"
      },
      {
        "duration": 16,
        "start_time": "2022-11-09T08:02:15.243Z"
      },
      {
        "duration": 6,
        "start_time": "2022-11-09T08:02:15.262Z"
      },
      {
        "duration": 49,
        "start_time": "2022-11-09T08:02:15.269Z"
      },
      {
        "duration": 10,
        "start_time": "2022-11-09T08:02:15.320Z"
      },
      {
        "duration": 10,
        "start_time": "2022-11-09T08:02:15.332Z"
      },
      {
        "duration": 33,
        "start_time": "2022-11-09T08:02:15.345Z"
      },
      {
        "duration": 37,
        "start_time": "2022-11-09T08:02:15.380Z"
      },
      {
        "duration": 26,
        "start_time": "2022-11-09T08:02:15.419Z"
      },
      {
        "duration": 5,
        "start_time": "2022-11-09T08:02:15.447Z"
      },
      {
        "duration": 35,
        "start_time": "2022-11-09T08:02:15.453Z"
      },
      {
        "duration": 8,
        "start_time": "2022-11-09T08:02:15.490Z"
      },
      {
        "duration": 5,
        "start_time": "2022-11-09T08:02:15.500Z"
      },
      {
        "duration": 26,
        "start_time": "2022-11-09T08:02:15.507Z"
      },
      {
        "duration": 5,
        "start_time": "2022-11-09T08:02:15.535Z"
      },
      {
        "duration": 6,
        "start_time": "2022-11-09T08:02:15.542Z"
      },
      {
        "duration": 9,
        "start_time": "2022-11-09T08:02:15.550Z"
      },
      {
        "duration": 9,
        "start_time": "2022-11-09T08:02:15.561Z"
      },
      {
        "duration": 18,
        "start_time": "2022-11-09T08:08:06.951Z"
      },
      {
        "duration": 22,
        "start_time": "2022-11-09T08:08:12.891Z"
      },
      {
        "duration": 2487,
        "start_time": "2022-11-09T08:14:50.223Z"
      },
      {
        "duration": 1204,
        "start_time": "2022-11-09T08:15:59.680Z"
      },
      {
        "duration": 14,
        "start_time": "2022-11-09T08:17:19.089Z"
      },
      {
        "duration": 25,
        "start_time": "2022-11-09T08:27:27.195Z"
      },
      {
        "duration": 22,
        "start_time": "2022-11-09T08:27:40.795Z"
      },
      {
        "duration": 12,
        "start_time": "2022-11-09T08:28:00.348Z"
      },
      {
        "duration": 25,
        "start_time": "2022-11-09T08:30:15.368Z"
      },
      {
        "duration": 21,
        "start_time": "2022-11-09T08:31:04.311Z"
      },
      {
        "duration": 24,
        "start_time": "2022-11-09T08:31:16.346Z"
      },
      {
        "duration": 21,
        "start_time": "2022-11-09T08:31:30.092Z"
      },
      {
        "duration": 21,
        "start_time": "2022-11-09T08:33:27.933Z"
      },
      {
        "duration": 24,
        "start_time": "2022-11-09T08:34:08.247Z"
      },
      {
        "duration": 22,
        "start_time": "2022-11-09T08:34:15.184Z"
      },
      {
        "duration": 24,
        "start_time": "2022-11-09T08:34:21.367Z"
      },
      {
        "duration": 25,
        "start_time": "2022-11-09T08:35:58.850Z"
      },
      {
        "duration": 28,
        "start_time": "2022-11-09T08:36:16.047Z"
      },
      {
        "duration": 21,
        "start_time": "2022-11-09T08:39:37.119Z"
      },
      {
        "duration": 23,
        "start_time": "2022-11-09T08:41:36.219Z"
      },
      {
        "duration": 12,
        "start_time": "2022-11-09T08:44:11.328Z"
      },
      {
        "duration": 118,
        "start_time": "2022-11-09T08:45:01.081Z"
      },
      {
        "duration": 9,
        "start_time": "2022-11-09T08:45:49.218Z"
      },
      {
        "duration": 46,
        "start_time": "2022-11-09T08:47:59.146Z"
      },
      {
        "duration": 47,
        "start_time": "2022-11-09T08:48:07.897Z"
      },
      {
        "duration": 26,
        "start_time": "2022-11-09T08:49:57.516Z"
      },
      {
        "duration": 19,
        "start_time": "2022-11-09T08:50:17.876Z"
      },
      {
        "duration": 19,
        "start_time": "2022-11-09T08:50:31.485Z"
      },
      {
        "duration": 45,
        "start_time": "2022-11-09T14:27:01.326Z"
      },
      {
        "duration": 664,
        "start_time": "2022-11-09T14:27:13.329Z"
      },
      {
        "duration": 24,
        "start_time": "2022-11-09T14:27:13.995Z"
      },
      {
        "duration": 13,
        "start_time": "2022-11-09T14:27:14.021Z"
      },
      {
        "duration": 25,
        "start_time": "2022-11-09T14:27:14.036Z"
      },
      {
        "duration": 47,
        "start_time": "2022-11-09T14:27:14.064Z"
      },
      {
        "duration": 4,
        "start_time": "2022-11-09T14:27:14.112Z"
      },
      {
        "duration": 11,
        "start_time": "2022-11-09T14:27:14.117Z"
      },
      {
        "duration": 5,
        "start_time": "2022-11-09T14:27:14.130Z"
      },
      {
        "duration": 32,
        "start_time": "2022-11-09T14:27:14.136Z"
      },
      {
        "duration": 8,
        "start_time": "2022-11-09T14:27:14.173Z"
      },
      {
        "duration": 42,
        "start_time": "2022-11-09T14:27:14.183Z"
      },
      {
        "duration": 12,
        "start_time": "2022-11-09T14:27:14.226Z"
      },
      {
        "duration": 7,
        "start_time": "2022-11-09T14:27:14.240Z"
      },
      {
        "duration": 10,
        "start_time": "2022-11-09T14:27:14.258Z"
      },
      {
        "duration": 34,
        "start_time": "2022-11-09T14:27:14.270Z"
      },
      {
        "duration": 17,
        "start_time": "2022-11-09T14:27:14.306Z"
      },
      {
        "duration": 4,
        "start_time": "2022-11-09T14:27:14.324Z"
      },
      {
        "duration": 33,
        "start_time": "2022-11-09T14:27:14.330Z"
      },
      {
        "duration": 7,
        "start_time": "2022-11-09T14:27:14.365Z"
      },
      {
        "duration": 12,
        "start_time": "2022-11-09T14:27:14.374Z"
      },
      {
        "duration": 13,
        "start_time": "2022-11-09T14:27:14.388Z"
      },
      {
        "duration": 26,
        "start_time": "2022-11-09T14:27:14.403Z"
      },
      {
        "duration": 847,
        "start_time": "2022-11-09T14:27:14.430Z"
      },
      {
        "duration": 0,
        "start_time": "2022-11-09T14:27:15.279Z"
      },
      {
        "duration": 0,
        "start_time": "2022-11-09T14:27:15.280Z"
      },
      {
        "duration": 0,
        "start_time": "2022-11-09T14:27:15.282Z"
      },
      {
        "duration": 0,
        "start_time": "2022-11-09T14:27:15.283Z"
      },
      {
        "duration": 115,
        "start_time": "2022-11-09T14:27:30.265Z"
      },
      {
        "duration": 130,
        "start_time": "2022-11-09T14:27:45.332Z"
      },
      {
        "duration": 9,
        "start_time": "2022-11-09T14:27:58.152Z"
      },
      {
        "duration": 16,
        "start_time": "2022-11-09T14:28:28.229Z"
      },
      {
        "duration": 16,
        "start_time": "2022-11-09T14:28:43.058Z"
      },
      {
        "duration": 137,
        "start_time": "2022-11-09T14:29:04.713Z"
      },
      {
        "duration": 2,
        "start_time": "2022-11-09T14:31:56.093Z"
      },
      {
        "duration": 6,
        "start_time": "2022-11-09T14:31:56.097Z"
      },
      {
        "duration": 9,
        "start_time": "2022-11-09T14:31:56.105Z"
      },
      {
        "duration": 1312,
        "start_time": "2022-11-09T17:25:16.804Z"
      },
      {
        "duration": 9,
        "start_time": "2022-11-09T17:25:51.860Z"
      },
      {
        "duration": 11,
        "start_time": "2022-11-09T17:25:58.413Z"
      },
      {
        "duration": 497,
        "start_time": "2022-11-09T17:26:06.720Z"
      },
      {
        "duration": 24,
        "start_time": "2022-11-09T17:26:07.219Z"
      },
      {
        "duration": 17,
        "start_time": "2022-11-09T17:26:07.245Z"
      },
      {
        "duration": 11,
        "start_time": "2022-11-09T17:26:07.265Z"
      },
      {
        "duration": 63,
        "start_time": "2022-11-09T17:26:07.277Z"
      },
      {
        "duration": 4,
        "start_time": "2022-11-09T17:26:07.342Z"
      },
      {
        "duration": 17,
        "start_time": "2022-11-09T17:26:07.348Z"
      },
      {
        "duration": 4,
        "start_time": "2022-11-09T17:26:07.368Z"
      },
      {
        "duration": 10,
        "start_time": "2022-11-09T17:26:07.374Z"
      },
      {
        "duration": 4,
        "start_time": "2022-11-09T17:26:07.386Z"
      },
      {
        "duration": 66,
        "start_time": "2022-11-09T17:26:07.392Z"
      },
      {
        "duration": 11,
        "start_time": "2022-11-09T17:26:07.460Z"
      },
      {
        "duration": 10,
        "start_time": "2022-11-09T17:26:07.472Z"
      },
      {
        "duration": 16,
        "start_time": "2022-11-09T17:26:07.484Z"
      },
      {
        "duration": 33,
        "start_time": "2022-11-09T17:26:07.502Z"
      },
      {
        "duration": 18,
        "start_time": "2022-11-09T17:26:07.537Z"
      },
      {
        "duration": 4,
        "start_time": "2022-11-09T17:26:07.557Z"
      },
      {
        "duration": 28,
        "start_time": "2022-11-09T17:26:07.563Z"
      },
      {
        "duration": 12,
        "start_time": "2022-11-09T17:26:07.593Z"
      },
      {
        "duration": 4,
        "start_time": "2022-11-09T17:26:07.606Z"
      },
      {
        "duration": 30,
        "start_time": "2022-11-09T17:26:07.612Z"
      },
      {
        "duration": 25,
        "start_time": "2022-11-09T17:26:07.645Z"
      },
      {
        "duration": 1005,
        "start_time": "2022-11-09T17:26:07.672Z"
      },
      {
        "duration": 0,
        "start_time": "2022-11-09T17:26:08.679Z"
      },
      {
        "duration": 0,
        "start_time": "2022-11-09T17:26:08.680Z"
      },
      {
        "duration": 0,
        "start_time": "2022-11-09T17:26:08.681Z"
      },
      {
        "duration": 127,
        "start_time": "2022-11-09T17:26:19.771Z"
      },
      {
        "duration": 75,
        "start_time": "2022-11-09T17:28:06.695Z"
      },
      {
        "duration": 1154,
        "start_time": "2022-11-09T17:28:35.810Z"
      },
      {
        "duration": 19,
        "start_time": "2022-11-09T17:41:49.602Z"
      },
      {
        "duration": 25,
        "start_time": "2022-11-09T17:42:05.268Z"
      },
      {
        "duration": 42,
        "start_time": "2022-11-09T17:44:41.884Z"
      },
      {
        "duration": 3,
        "start_time": "2022-11-09T17:45:48.294Z"
      },
      {
        "duration": 20,
        "start_time": "2022-11-09T17:46:42.129Z"
      },
      {
        "duration": 34,
        "start_time": "2022-11-09T17:47:40.955Z"
      },
      {
        "duration": 30,
        "start_time": "2022-11-09T17:48:58.034Z"
      },
      {
        "duration": 499,
        "start_time": "2022-11-09T19:55:34.496Z"
      },
      {
        "duration": 22,
        "start_time": "2022-11-09T19:55:34.997Z"
      },
      {
        "duration": 22,
        "start_time": "2022-11-09T19:55:35.020Z"
      },
      {
        "duration": 19,
        "start_time": "2022-11-09T19:55:35.043Z"
      },
      {
        "duration": 40,
        "start_time": "2022-11-09T19:55:35.064Z"
      },
      {
        "duration": 4,
        "start_time": "2022-11-09T19:55:35.106Z"
      },
      {
        "duration": 34,
        "start_time": "2022-11-09T19:55:35.111Z"
      },
      {
        "duration": 8,
        "start_time": "2022-11-09T19:55:35.147Z"
      },
      {
        "duration": 29,
        "start_time": "2022-11-09T19:55:35.156Z"
      },
      {
        "duration": 19,
        "start_time": "2022-11-09T19:55:35.187Z"
      },
      {
        "duration": 44,
        "start_time": "2022-11-09T19:55:35.207Z"
      },
      {
        "duration": 8,
        "start_time": "2022-11-09T19:55:35.253Z"
      },
      {
        "duration": 28,
        "start_time": "2022-11-09T19:55:35.262Z"
      },
      {
        "duration": 23,
        "start_time": "2022-11-09T19:55:35.292Z"
      },
      {
        "duration": 25,
        "start_time": "2022-11-09T19:55:35.316Z"
      },
      {
        "duration": 17,
        "start_time": "2022-11-09T19:55:35.342Z"
      },
      {
        "duration": 14,
        "start_time": "2022-11-09T19:55:35.360Z"
      },
      {
        "duration": 57,
        "start_time": "2022-11-09T19:55:35.375Z"
      },
      {
        "duration": 24,
        "start_time": "2022-11-09T19:55:35.434Z"
      },
      {
        "duration": 15,
        "start_time": "2022-11-09T19:55:35.460Z"
      },
      {
        "duration": 39,
        "start_time": "2022-11-09T19:55:35.477Z"
      },
      {
        "duration": 43,
        "start_time": "2022-11-09T19:55:35.518Z"
      },
      {
        "duration": 609,
        "start_time": "2022-11-09T19:56:37.592Z"
      },
      {
        "duration": 128,
        "start_time": "2022-11-09T19:56:49.374Z"
      },
      {
        "duration": 122,
        "start_time": "2022-11-09T19:57:49.993Z"
      },
      {
        "duration": 127,
        "start_time": "2022-11-09T19:58:14.501Z"
      },
      {
        "duration": 168,
        "start_time": "2022-11-09T19:58:26.881Z"
      },
      {
        "duration": 12,
        "start_time": "2022-11-10T09:55:22.921Z"
      },
      {
        "duration": 42,
        "start_time": "2022-11-10T09:55:58.528Z"
      },
      {
        "duration": 514,
        "start_time": "2022-11-10T09:56:08.246Z"
      },
      {
        "duration": 20,
        "start_time": "2022-11-10T09:56:08.762Z"
      },
      {
        "duration": 19,
        "start_time": "2022-11-10T09:56:08.784Z"
      },
      {
        "duration": 11,
        "start_time": "2022-11-10T09:56:08.805Z"
      },
      {
        "duration": 56,
        "start_time": "2022-11-10T09:56:08.818Z"
      },
      {
        "duration": 4,
        "start_time": "2022-11-10T09:56:08.876Z"
      },
      {
        "duration": 13,
        "start_time": "2022-11-10T09:56:08.882Z"
      },
      {
        "duration": 4,
        "start_time": "2022-11-10T09:56:08.897Z"
      },
      {
        "duration": 22,
        "start_time": "2022-11-10T09:56:08.902Z"
      },
      {
        "duration": 27,
        "start_time": "2022-11-10T09:56:08.926Z"
      },
      {
        "duration": 29,
        "start_time": "2022-11-10T09:56:08.955Z"
      },
      {
        "duration": 9,
        "start_time": "2022-11-10T09:56:08.986Z"
      },
      {
        "duration": 8,
        "start_time": "2022-11-10T09:56:08.997Z"
      },
      {
        "duration": 48,
        "start_time": "2022-11-10T09:56:09.006Z"
      },
      {
        "duration": 21,
        "start_time": "2022-11-10T09:56:09.056Z"
      },
      {
        "duration": 17,
        "start_time": "2022-11-10T09:56:09.078Z"
      },
      {
        "duration": 4,
        "start_time": "2022-11-10T09:56:09.097Z"
      },
      {
        "duration": 15,
        "start_time": "2022-11-10T09:56:09.103Z"
      },
      {
        "duration": 34,
        "start_time": "2022-11-10T09:56:09.119Z"
      },
      {
        "duration": 4,
        "start_time": "2022-11-10T09:56:09.155Z"
      },
      {
        "duration": 13,
        "start_time": "2022-11-10T09:56:09.160Z"
      },
      {
        "duration": 34,
        "start_time": "2022-11-10T09:56:09.175Z"
      },
      {
        "duration": 570,
        "start_time": "2022-11-10T09:56:09.211Z"
      },
      {
        "duration": 29,
        "start_time": "2022-11-10T09:56:09.783Z"
      },
      {
        "duration": 3,
        "start_time": "2022-11-10T09:56:09.814Z"
      },
      {
        "duration": 40,
        "start_time": "2022-11-10T09:56:09.819Z"
      },
      {
        "duration": 32,
        "start_time": "2022-11-10T09:56:09.861Z"
      },
      {
        "duration": 28,
        "start_time": "2022-11-10T09:56:09.895Z"
      },
      {
        "duration": 30,
        "start_time": "2022-11-10T10:10:32.764Z"
      },
      {
        "duration": 403,
        "start_time": "2022-11-10T11:04:04.514Z"
      },
      {
        "duration": 23,
        "start_time": "2022-11-10T11:04:04.919Z"
      },
      {
        "duration": 14,
        "start_time": "2022-11-10T11:04:04.943Z"
      },
      {
        "duration": 19,
        "start_time": "2022-11-10T11:04:04.959Z"
      },
      {
        "duration": 70,
        "start_time": "2022-11-10T11:04:04.980Z"
      },
      {
        "duration": 3,
        "start_time": "2022-11-10T11:04:05.052Z"
      },
      {
        "duration": 10,
        "start_time": "2022-11-10T11:04:05.057Z"
      },
      {
        "duration": 39,
        "start_time": "2022-11-10T11:04:05.069Z"
      },
      {
        "duration": 19,
        "start_time": "2022-11-10T11:04:05.109Z"
      },
      {
        "duration": 26,
        "start_time": "2022-11-10T11:04:05.132Z"
      },
      {
        "duration": 43,
        "start_time": "2022-11-10T11:04:05.159Z"
      },
      {
        "duration": 8,
        "start_time": "2022-11-10T11:04:05.204Z"
      },
      {
        "duration": 18,
        "start_time": "2022-11-10T11:04:05.213Z"
      },
      {
        "duration": 23,
        "start_time": "2022-11-10T11:04:05.232Z"
      },
      {
        "duration": 35,
        "start_time": "2022-11-10T11:04:05.256Z"
      },
      {
        "duration": 25,
        "start_time": "2022-11-10T11:04:05.293Z"
      },
      {
        "duration": 3,
        "start_time": "2022-11-10T11:04:05.320Z"
      },
      {
        "duration": 42,
        "start_time": "2022-11-10T11:04:05.324Z"
      },
      {
        "duration": 23,
        "start_time": "2022-11-10T11:04:05.368Z"
      },
      {
        "duration": 17,
        "start_time": "2022-11-10T11:04:05.392Z"
      },
      {
        "duration": 17,
        "start_time": "2022-11-10T11:04:05.410Z"
      },
      {
        "duration": 41,
        "start_time": "2022-11-10T11:04:05.428Z"
      },
      {
        "duration": 349,
        "start_time": "2022-11-10T11:04:05.471Z"
      },
      {
        "duration": 40,
        "start_time": "2022-11-10T11:04:05.822Z"
      },
      {
        "duration": 3,
        "start_time": "2022-11-10T11:04:05.864Z"
      },
      {
        "duration": 25,
        "start_time": "2022-11-10T11:04:05.868Z"
      },
      {
        "duration": 31,
        "start_time": "2022-11-10T11:04:05.894Z"
      },
      {
        "duration": 42,
        "start_time": "2022-11-10T11:04:05.927Z"
      }
    ],
    "colab": {
      "provenance": []
    },
    "kernelspec": {
      "display_name": "Python 3 (ipykernel)",
      "language": "python",
      "name": "python3"
    },
    "language_info": {
      "codemirror_mode": {
        "name": "ipython",
        "version": 3
      },
      "file_extension": ".py",
      "mimetype": "text/x-python",
      "name": "python",
      "nbconvert_exporter": "python",
      "pygments_lexer": "ipython3",
      "version": "3.9.5"
    },
    "toc": {
      "base_numbering": 1,
      "nav_menu": {},
      "number_sections": true,
      "sideBar": true,
      "skip_h1_title": true,
      "title_cell": "Table of Contents",
      "title_sidebar": "Contents",
      "toc_cell": false,
      "toc_position": {},
      "toc_section_display": true,
      "toc_window_display": false
    }
  },
  "nbformat": 4,
  "nbformat_minor": 5
}