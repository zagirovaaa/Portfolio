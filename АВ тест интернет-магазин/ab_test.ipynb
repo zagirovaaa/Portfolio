{
  "cells": [
    {
      "cell_type": "markdown",
      "metadata": {
        "id": "aTPZkJ93OtQV"
      },
      "source": [
        " # Приоритизация гипотез и анализ A/B-теста"
      ]
    },
    {
      "cell_type": "markdown",
      "metadata": {
        "id": "ksSrlZlFOtQW"
      },
      "source": [
        "   Вместе с отделом маркетинга крупного интернет- магазина, необходимо проаналтизировать гипотезы для увеличения выручки:\n",
        "приоритизировать их, запустить A/B-тест и сделать выводы."
      ]
    },
    {
      "cell_type": "markdown",
      "metadata": {
        "id": "xbU4rKC5OtQW"
      },
      "source": [
        "## Загрузим данные и подготовим их к анализу"
      ]
    },
    {
      "cell_type": "code",
      "execution_count": null,
      "metadata": {
        "id": "Ku74vr0YOtQX"
      },
      "outputs": [],
      "source": [
        "import pandas as pd\n",
        "import numpy as np\n",
        "import datetime   as dt\n",
        "from datetime import datetime, timedelta\n",
        "from matplotlib import pyplot as plt\n",
        "import scipy.stats as stats"
      ]
    },
    {
      "cell_type": "code",
      "execution_count": null,
      "metadata": {
        "id": "dVHeTi3HOtQY"
      },
      "outputs": [],
      "source": [
        "try:\n",
        "    hypothesis = pd.read_csv('hypothesis.csv')# гипотезы\n",
        "    orders = pd.read_csv('orders.csv') # заказы\n",
        "    visitors = pd.read_csv('visitors.csv') # пользователи\n",
        "except:\n",
        "    hypothesis = pd.read_csv('/datasets/hypothesis.csv')\n",
        "    orders = pd.read_csv('/datasets/orders.csv')\n",
        "    visitors = pd.read_csv('/datasets/visitors.csv')"
      ]
    },
    {
      "cell_type": "markdown",
      "metadata": {
        "id": "Rsw3nhBhOtQZ"
      },
      "source": [
        "### Изучим данные и выполним предобработку"
      ]
    },
    {
      "cell_type": "code",
      "execution_count": null,
      "metadata": {
        "scrolled": false,
        "id": "MTYUId9HOtQZ",
        "outputId": "d53e2f55-b3f2-4e67-e53f-5db5a1d13eeb"
      },
      "outputs": [
        {
          "name": "stdout",
          "output_type": "stream",
          "text": [
            "<class 'pandas.core.frame.DataFrame'>\n",
            "RangeIndex: 9 entries, 0 to 8\n",
            "Data columns (total 5 columns):\n",
            " #   Column      Non-Null Count  Dtype \n",
            "---  ------      --------------  ----- \n",
            " 0   Hypothesis  9 non-null      object\n",
            " 1   Reach       9 non-null      int64 \n",
            " 2   Impact      9 non-null      int64 \n",
            " 3   Confidence  9 non-null      int64 \n",
            " 4   Efforts     9 non-null      int64 \n",
            "dtypes: int64(4), object(1)\n",
            "memory usage: 488.0+ bytes\n"
          ]
        }
      ],
      "source": [
        " hypothesis.info()"
      ]
    },
    {
      "cell_type": "code",
      "execution_count": null,
      "metadata": {
        "id": "czso8xC-OtQZ",
        "outputId": "d4c9c447-b350-4fa4-c37a-e7f88087a071"
      },
      "outputs": [
        {
          "name": "stdout",
          "output_type": "stream",
          "text": [
            "<class 'pandas.core.frame.DataFrame'>\n",
            "RangeIndex: 1197 entries, 0 to 1196\n",
            "Data columns (total 5 columns):\n",
            " #   Column         Non-Null Count  Dtype \n",
            "---  ------         --------------  ----- \n",
            " 0   transactionId  1197 non-null   int64 \n",
            " 1   visitorId      1197 non-null   int64 \n",
            " 2   date           1197 non-null   object\n",
            " 3   revenue        1197 non-null   int64 \n",
            " 4   group          1197 non-null   object\n",
            "dtypes: int64(3), object(2)\n",
            "memory usage: 46.9+ KB\n"
          ]
        }
      ],
      "source": [
        "orders.info()"
      ]
    },
    {
      "cell_type": "code",
      "execution_count": null,
      "metadata": {
        "scrolled": true,
        "id": "EoAbcBypOtQa",
        "outputId": "a1038d92-2e80-4a9d-c9a4-246f86444870"
      },
      "outputs": [
        {
          "name": "stdout",
          "output_type": "stream",
          "text": [
            "<class 'pandas.core.frame.DataFrame'>\n",
            "RangeIndex: 62 entries, 0 to 61\n",
            "Data columns (total 3 columns):\n",
            " #   Column    Non-Null Count  Dtype \n",
            "---  ------    --------------  ----- \n",
            " 0   date      62 non-null     object\n",
            " 1   group     62 non-null     object\n",
            " 2   visitors  62 non-null     int64 \n",
            "dtypes: int64(1), object(2)\n",
            "memory usage: 1.6+ KB\n"
          ]
        }
      ],
      "source": [
        "visitors.info()"
      ]
    },
    {
      "cell_type": "markdown",
      "metadata": {
        "id": "PFkrQHCdOtQa"
      },
      "source": [
        "#### Переименуем столбцы"
      ]
    },
    {
      "cell_type": "markdown",
      "metadata": {
        "id": "wcaxdWCYOtQa"
      },
      "source": [
        "Приведем все названия столбцов к нижнему регистру"
      ]
    },
    {
      "cell_type": "code",
      "execution_count": null,
      "metadata": {
        "id": "IK_CEfUDOtQb"
      },
      "outputs": [],
      "source": [
        "#приведем все названия столбцов к нижнему регистру\n",
        "hypothesis.columns = hypothesis.columns.str.lower()"
      ]
    },
    {
      "cell_type": "markdown",
      "metadata": {
        "id": "FgklS2uFOtQb"
      },
      "source": [
        "#### Приведем данные к нужному типу данных"
      ]
    },
    {
      "cell_type": "code",
      "execution_count": null,
      "metadata": {
        "id": "QKemZJHhOtQb"
      },
      "outputs": [],
      "source": [
        "# преобразование данных о времени\n",
        "visitors['date'] = pd.to_datetime(visitors['date'])\n",
        "orders['date'] = pd.to_datetime(orders['date'])"
      ]
    },
    {
      "cell_type": "markdown",
      "metadata": {
        "id": "zm38O2RZOtQb"
      },
      "source": [
        "#### Проверим данные на наличие пропусков"
      ]
    },
    {
      "cell_type": "code",
      "execution_count": null,
      "metadata": {
        "id": "zfE_XC-xOtQc",
        "outputId": "1304b18d-8626-4123-bab4-bad9d11799ec"
      },
      "outputs": [
        {
          "data": {
            "text/plain": [
              "date        0\n",
              "group       0\n",
              "visitors    0\n",
              "dtype: int64"
            ]
          },
          "execution_count": 8,
          "metadata": {},
          "output_type": "execute_result"
        }
      ],
      "source": [
        "visitors.isna().sum() #проверим пропуски"
      ]
    },
    {
      "cell_type": "code",
      "execution_count": null,
      "metadata": {
        "id": "yh3VpTpdOtQc",
        "outputId": "afface88-5460-4f28-be48-ac20e625243a"
      },
      "outputs": [
        {
          "data": {
            "text/plain": [
              "transactionId    0\n",
              "visitorId        0\n",
              "date             0\n",
              "revenue          0\n",
              "group            0\n",
              "dtype: int64"
            ]
          },
          "execution_count": 9,
          "metadata": {},
          "output_type": "execute_result"
        }
      ],
      "source": [
        "orders.isna().sum() #проверим пропуски"
      ]
    },
    {
      "cell_type": "code",
      "execution_count": null,
      "metadata": {
        "scrolled": true,
        "id": "k6Mn9-gxOtQc",
        "outputId": "330d4159-7358-44f6-e1ed-4adfd21373e9"
      },
      "outputs": [
        {
          "data": {
            "text/plain": [
              "hypothesis    0\n",
              "reach         0\n",
              "impact        0\n",
              "confidence    0\n",
              "efforts       0\n",
              "dtype: int64"
            ]
          },
          "execution_count": 10,
          "metadata": {},
          "output_type": "execute_result"
        }
      ],
      "source": [
        "hypothesis.isna().sum() #проверим пропуски"
      ]
    },
    {
      "cell_type": "markdown",
      "metadata": {
        "id": "F6FCKQRJOtQc"
      },
      "source": [
        "#### Проверим данные на дубликаты"
      ]
    },
    {
      "cell_type": "code",
      "execution_count": null,
      "metadata": {
        "id": "c8hIILqBOtQd",
        "outputId": "1f0acfd0-bf4f-4de4-820a-d9088614e7f4"
      },
      "outputs": [
        {
          "data": {
            "text/html": [
              "<div>\n",
              "<style scoped>\n",
              "    .dataframe tbody tr th:only-of-type {\n",
              "        vertical-align: middle;\n",
              "    }\n",
              "\n",
              "    .dataframe tbody tr th {\n",
              "        vertical-align: top;\n",
              "    }\n",
              "\n",
              "    .dataframe thead th {\n",
              "        text-align: right;\n",
              "    }\n",
              "</style>\n",
              "<table border=\"1\" class=\"dataframe\">\n",
              "  <thead>\n",
              "    <tr style=\"text-align: right;\">\n",
              "      <th></th>\n",
              "      <th>hypothesis</th>\n",
              "      <th>reach</th>\n",
              "      <th>impact</th>\n",
              "      <th>confidence</th>\n",
              "      <th>efforts</th>\n",
              "    </tr>\n",
              "  </thead>\n",
              "  <tbody>\n",
              "  </tbody>\n",
              "</table>\n",
              "</div>"
            ],
            "text/plain": [
              "Empty DataFrame\n",
              "Columns: [hypothesis, reach, impact, confidence, efforts]\n",
              "Index: []"
            ]
          },
          "execution_count": 11,
          "metadata": {},
          "output_type": "execute_result"
        }
      ],
      "source": [
        "dupl = hypothesis[hypothesis.duplicated()] #проверим дубликаты\n",
        "dupl"
      ]
    },
    {
      "cell_type": "code",
      "execution_count": null,
      "metadata": {
        "id": "ke579KDUOtQd",
        "outputId": "3edffd4c-3458-4fb2-c76c-026ad7d8abbf"
      },
      "outputs": [
        {
          "data": {
            "text/html": [
              "<div>\n",
              "<style scoped>\n",
              "    .dataframe tbody tr th:only-of-type {\n",
              "        vertical-align: middle;\n",
              "    }\n",
              "\n",
              "    .dataframe tbody tr th {\n",
              "        vertical-align: top;\n",
              "    }\n",
              "\n",
              "    .dataframe thead th {\n",
              "        text-align: right;\n",
              "    }\n",
              "</style>\n",
              "<table border=\"1\" class=\"dataframe\">\n",
              "  <thead>\n",
              "    <tr style=\"text-align: right;\">\n",
              "      <th></th>\n",
              "      <th>transactionId</th>\n",
              "      <th>visitorId</th>\n",
              "      <th>date</th>\n",
              "      <th>revenue</th>\n",
              "      <th>group</th>\n",
              "    </tr>\n",
              "  </thead>\n",
              "  <tbody>\n",
              "  </tbody>\n",
              "</table>\n",
              "</div>"
            ],
            "text/plain": [
              "Empty DataFrame\n",
              "Columns: [transactionId, visitorId, date, revenue, group]\n",
              "Index: []"
            ]
          },
          "execution_count": 12,
          "metadata": {},
          "output_type": "execute_result"
        }
      ],
      "source": [
        "dupl = orders[orders.duplicated()] #проверим дубликаты\n",
        "dupl"
      ]
    },
    {
      "cell_type": "code",
      "execution_count": null,
      "metadata": {
        "id": "iiH1AkQ1OtQd",
        "outputId": "a1d4aa1e-1a19-470a-a867-314638fd0f3b"
      },
      "outputs": [
        {
          "data": {
            "text/html": [
              "<div>\n",
              "<style scoped>\n",
              "    .dataframe tbody tr th:only-of-type {\n",
              "        vertical-align: middle;\n",
              "    }\n",
              "\n",
              "    .dataframe tbody tr th {\n",
              "        vertical-align: top;\n",
              "    }\n",
              "\n",
              "    .dataframe thead th {\n",
              "        text-align: right;\n",
              "    }\n",
              "</style>\n",
              "<table border=\"1\" class=\"dataframe\">\n",
              "  <thead>\n",
              "    <tr style=\"text-align: right;\">\n",
              "      <th></th>\n",
              "      <th>date</th>\n",
              "      <th>group</th>\n",
              "      <th>visitors</th>\n",
              "    </tr>\n",
              "  </thead>\n",
              "  <tbody>\n",
              "  </tbody>\n",
              "</table>\n",
              "</div>"
            ],
            "text/plain": [
              "Empty DataFrame\n",
              "Columns: [date, group, visitors]\n",
              "Index: []"
            ]
          },
          "execution_count": 13,
          "metadata": {},
          "output_type": "execute_result"
        }
      ],
      "source": [
        "dupl = visitors[visitors.duplicated()] #проверим дубликаты\n",
        "dupl"
      ]
    },
    {
      "cell_type": "markdown",
      "metadata": {
        "id": "oEY80og7OtQd"
      },
      "source": [
        "#### Проверим уникальные значения"
      ]
    },
    {
      "cell_type": "code",
      "execution_count": null,
      "metadata": {
        "id": "hY0ZxiIGOtQe",
        "outputId": "8db75d91-3b46-4e31-e014-fa9d16f27cbd"
      },
      "outputs": [
        {
          "data": {
            "text/plain": [
              "Изменить структура категорий, что увеличит конверсию, т.к. пользователи быстрее найдут нужный товар             1\n",
              "Изменить цвет фона главной страницы, чтобы увеличить вовлеченность пользователей                                1\n",
              "Добавить два новых канала привлечения трафика, что позволит привлекать на 30% больше пользователей              1\n",
              "Запустить акцию, дающую скидку на товар в день рождения                                                         1\n",
              "Запустить собственную службу доставки, что сократит срок доставки заказов                                       1\n",
              "Добавить форму подписки на все основные страницы, чтобы собрать базу клиентов для email-рассылок                1\n",
              "Показать на главной странице баннеры с актуальными акциями и распродажами, чтобы увеличить конверсию            1\n",
              "Добавить страницу отзывов клиентов о магазине, что позволит увеличить количество заказов                        1\n",
              "Добавить блоки рекомендаций товаров на сайт интернет магазина, чтобы повысить конверсию и средний чек заказа    1\n",
              "Name: hypothesis, dtype: int64"
            ]
          },
          "execution_count": 14,
          "metadata": {},
          "output_type": "execute_result"
        }
      ],
      "source": [
        "hypothesis['hypothesis'].value_counts() #проверим уникальные значения"
      ]
    },
    {
      "cell_type": "code",
      "execution_count": null,
      "metadata": {
        "id": "y9L4s2mqOtQe",
        "outputId": "b90c004c-c24f-44dc-ac9f-6d32bcfc27ce"
      },
      "outputs": [
        {
          "data": {
            "text/plain": [
              "1197"
            ]
          },
          "execution_count": 15,
          "metadata": {},
          "output_type": "execute_result"
        }
      ],
      "source": [
        "orders['transactionId'].nunique()"
      ]
    },
    {
      "cell_type": "markdown",
      "metadata": {
        "id": "DUyqnt9lOtQe"
      },
      "source": [
        "Количество уникальных заказов совпадает с количеством строк, значит дубликатов нет."
      ]
    },
    {
      "cell_type": "code",
      "execution_count": null,
      "metadata": {
        "id": "pflBjN4zOtQe",
        "outputId": "4dc4af5f-966d-4948-a513-5d3aa7ca09fe"
      },
      "outputs": [
        {
          "data": {
            "text/plain": [
              "1031"
            ]
          },
          "execution_count": 16,
          "metadata": {},
          "output_type": "execute_result"
        }
      ],
      "source": [
        "orders['visitorId'].nunique()"
      ]
    },
    {
      "cell_type": "markdown",
      "metadata": {
        "id": "e9FmajZdOtQe"
      },
      "source": [
        "Количество уникальных покупателей меньше, чем количество заказов. Это говорит о том, что есть покупаетли совершившие несколько заказов. Все в порядке."
      ]
    },
    {
      "cell_type": "markdown",
      "metadata": {
        "id": "kDVlF-F1OtQf"
      },
      "source": [
        "**В ходе предобработки данных переименованы столбцы, изменены типы данных, выполнена проверка на выявление пропусков данных, дубликатов и неявных дубликатов**"
      ]
    },
    {
      "cell_type": "markdown",
      "metadata": {
        "id": "rUqb8Tu1OtQf"
      },
      "source": [
        "## Приоритизация гипотез"
      ]
    },
    {
      "cell_type": "markdown",
      "metadata": {
        "id": "xgeWkjgKOtQf"
      },
      "source": [
        "### Применим фреймворк ICE для приоритизации гипотез. Отсортируем их по убыванию приоритета."
      ]
    },
    {
      "cell_type": "code",
      "execution_count": null,
      "metadata": {
        "scrolled": false,
        "id": "VWTsHK4HOtQf",
        "outputId": "e62a3128-3fc0-4f49-a165-df50a6d7903f"
      },
      "outputs": [
        {
          "data": {
            "text/html": [
              "<div>\n",
              "<style scoped>\n",
              "    .dataframe tbody tr th:only-of-type {\n",
              "        vertical-align: middle;\n",
              "    }\n",
              "\n",
              "    .dataframe tbody tr th {\n",
              "        vertical-align: top;\n",
              "    }\n",
              "\n",
              "    .dataframe thead th {\n",
              "        text-align: right;\n",
              "    }\n",
              "</style>\n",
              "<table border=\"1\" class=\"dataframe\">\n",
              "  <thead>\n",
              "    <tr style=\"text-align: right;\">\n",
              "      <th></th>\n",
              "      <th>hypothesis</th>\n",
              "      <th>ICE</th>\n",
              "    </tr>\n",
              "  </thead>\n",
              "  <tbody>\n",
              "    <tr>\n",
              "      <th>8</th>\n",
              "      <td>Запустить акцию, дающую скидку на товар в день рождения</td>\n",
              "      <td>16.20</td>\n",
              "    </tr>\n",
              "    <tr>\n",
              "      <th>0</th>\n",
              "      <td>Добавить два новых канала привлечения трафика, что позволит привлекать на 30% больше пользователей</td>\n",
              "      <td>13.33</td>\n",
              "    </tr>\n",
              "    <tr>\n",
              "      <th>7</th>\n",
              "      <td>Добавить форму подписки на все основные страницы, чтобы собрать базу клиентов для email-рассылок</td>\n",
              "      <td>11.20</td>\n",
              "    </tr>\n",
              "    <tr>\n",
              "      <th>6</th>\n",
              "      <td>Показать на главной странице баннеры с актуальными акциями и распродажами, чтобы увеличить конверсию</td>\n",
              "      <td>8.00</td>\n",
              "    </tr>\n",
              "    <tr>\n",
              "      <th>2</th>\n",
              "      <td>Добавить блоки рекомендаций товаров на сайт интернет магазина, чтобы повысить конверсию и средний чек заказа</td>\n",
              "      <td>7.00</td>\n",
              "    </tr>\n",
              "    <tr>\n",
              "      <th>1</th>\n",
              "      <td>Запустить собственную службу доставки, что сократит срок доставки заказов</td>\n",
              "      <td>2.00</td>\n",
              "    </tr>\n",
              "    <tr>\n",
              "      <th>5</th>\n",
              "      <td>Добавить страницу отзывов клиентов о магазине, что позволит увеличить количество заказов</td>\n",
              "      <td>1.33</td>\n",
              "    </tr>\n",
              "    <tr>\n",
              "      <th>3</th>\n",
              "      <td>Изменить структура категорий, что увеличит конверсию, т.к. пользователи быстрее найдут нужный товар</td>\n",
              "      <td>1.12</td>\n",
              "    </tr>\n",
              "    <tr>\n",
              "      <th>4</th>\n",
              "      <td>Изменить цвет фона главной страницы, чтобы увеличить вовлеченность пользователей</td>\n",
              "      <td>1.00</td>\n",
              "    </tr>\n",
              "  </tbody>\n",
              "</table>\n",
              "</div>"
            ],
            "text/plain": [
              "                                                                                                     hypothesis  \\\n",
              "8                                                       Запустить акцию, дающую скидку на товар в день рождения   \n",
              "0            Добавить два новых канала привлечения трафика, что позволит привлекать на 30% больше пользователей   \n",
              "7              Добавить форму подписки на все основные страницы, чтобы собрать базу клиентов для email-рассылок   \n",
              "6          Показать на главной странице баннеры с актуальными акциями и распродажами, чтобы увеличить конверсию   \n",
              "2  Добавить блоки рекомендаций товаров на сайт интернет магазина, чтобы повысить конверсию и средний чек заказа   \n",
              "1                                     Запустить собственную службу доставки, что сократит срок доставки заказов   \n",
              "5                      Добавить страницу отзывов клиентов о магазине, что позволит увеличить количество заказов   \n",
              "3           Изменить структура категорий, что увеличит конверсию, т.к. пользователи быстрее найдут нужный товар   \n",
              "4                              Изменить цвет фона главной страницы, чтобы увеличить вовлеченность пользователей   \n",
              "\n",
              "     ICE  \n",
              "8  16.20  \n",
              "0  13.33  \n",
              "7  11.20  \n",
              "6   8.00  \n",
              "2   7.00  \n",
              "1   2.00  \n",
              "5   1.33  \n",
              "3   1.12  \n",
              "4   1.00  "
            ]
          },
          "execution_count": 17,
          "metadata": {},
          "output_type": "execute_result"
        }
      ],
      "source": [
        "#pd.set_option('display.max_colwidth', None) # расширим столбец с гипотизой\n",
        "pd.options.display.max_colwidth = 120\n",
        "hypothesis['ICE'] = round (( hypothesis['impact'] *  hypothesis['confidence'])/ hypothesis['efforts'],2)\n",
        "hypothesis[['hypothesis', 'ICE']].sort_values(by='ICE', ascending=False).head(15)"
      ]
    },
    {
      "cell_type": "markdown",
      "metadata": {
        "id": "i9bTPl5wOtQg"
      },
      "source": [
        "Наиболее перспективные гипотезы:\n",
        "\n",
        "    - Запустить акцию, дающую скидку на товар в день рождения   \n",
        "    - Добавить два новых канала привлечения трафика, что позволит привлекать на 30% больше пользователей   \n",
        "    - Добавить форму подписки на все основные страницы, чтобы собрать базу клиентов для email-рассылок  "
      ]
    },
    {
      "cell_type": "markdown",
      "metadata": {
        "id": "e5qV3fzMOtQh"
      },
      "source": [
        "### Применим фреймворк RICE для приоритизации гипотез. Отсортируем их по убыванию приоритета."
      ]
    },
    {
      "cell_type": "code",
      "execution_count": null,
      "metadata": {
        "id": "AZYAcKRxOtQh",
        "outputId": "52d3cfa6-93b0-4336-e6a6-1fa05451c545"
      },
      "outputs": [
        {
          "data": {
            "text/html": [
              "<div>\n",
              "<style scoped>\n",
              "    .dataframe tbody tr th:only-of-type {\n",
              "        vertical-align: middle;\n",
              "    }\n",
              "\n",
              "    .dataframe tbody tr th {\n",
              "        vertical-align: top;\n",
              "    }\n",
              "\n",
              "    .dataframe thead th {\n",
              "        text-align: right;\n",
              "    }\n",
              "</style>\n",
              "<table border=\"1\" class=\"dataframe\">\n",
              "  <thead>\n",
              "    <tr style=\"text-align: right;\">\n",
              "      <th></th>\n",
              "      <th>hypothesis</th>\n",
              "      <th>reach</th>\n",
              "      <th>impact</th>\n",
              "      <th>confidence</th>\n",
              "      <th>efforts</th>\n",
              "      <th>ICE</th>\n",
              "    </tr>\n",
              "  </thead>\n",
              "  <tbody>\n",
              "    <tr>\n",
              "      <th>0</th>\n",
              "      <td>Добавить два новых канала привлечения трафика, что позволит привлекать на 30% больше пользователей</td>\n",
              "      <td>3</td>\n",
              "      <td>10</td>\n",
              "      <td>8</td>\n",
              "      <td>6</td>\n",
              "      <td>13.33</td>\n",
              "    </tr>\n",
              "    <tr>\n",
              "      <th>1</th>\n",
              "      <td>Запустить собственную службу доставки, что сократит срок доставки заказов</td>\n",
              "      <td>2</td>\n",
              "      <td>5</td>\n",
              "      <td>4</td>\n",
              "      <td>10</td>\n",
              "      <td>2.00</td>\n",
              "    </tr>\n",
              "    <tr>\n",
              "      <th>2</th>\n",
              "      <td>Добавить блоки рекомендаций товаров на сайт интернет магазина, чтобы повысить конверсию и средний чек заказа</td>\n",
              "      <td>8</td>\n",
              "      <td>3</td>\n",
              "      <td>7</td>\n",
              "      <td>3</td>\n",
              "      <td>7.00</td>\n",
              "    </tr>\n",
              "    <tr>\n",
              "      <th>3</th>\n",
              "      <td>Изменить структура категорий, что увеличит конверсию, т.к. пользователи быстрее найдут нужный товар</td>\n",
              "      <td>8</td>\n",
              "      <td>3</td>\n",
              "      <td>3</td>\n",
              "      <td>8</td>\n",
              "      <td>1.12</td>\n",
              "    </tr>\n",
              "    <tr>\n",
              "      <th>4</th>\n",
              "      <td>Изменить цвет фона главной страницы, чтобы увеличить вовлеченность пользователей</td>\n",
              "      <td>3</td>\n",
              "      <td>1</td>\n",
              "      <td>1</td>\n",
              "      <td>1</td>\n",
              "      <td>1.00</td>\n",
              "    </tr>\n",
              "    <tr>\n",
              "      <th>5</th>\n",
              "      <td>Добавить страницу отзывов клиентов о магазине, что позволит увеличить количество заказов</td>\n",
              "      <td>3</td>\n",
              "      <td>2</td>\n",
              "      <td>2</td>\n",
              "      <td>3</td>\n",
              "      <td>1.33</td>\n",
              "    </tr>\n",
              "    <tr>\n",
              "      <th>6</th>\n",
              "      <td>Показать на главной странице баннеры с актуальными акциями и распродажами, чтобы увеличить конверсию</td>\n",
              "      <td>5</td>\n",
              "      <td>3</td>\n",
              "      <td>8</td>\n",
              "      <td>3</td>\n",
              "      <td>8.00</td>\n",
              "    </tr>\n",
              "    <tr>\n",
              "      <th>7</th>\n",
              "      <td>Добавить форму подписки на все основные страницы, чтобы собрать базу клиентов для email-рассылок</td>\n",
              "      <td>10</td>\n",
              "      <td>7</td>\n",
              "      <td>8</td>\n",
              "      <td>5</td>\n",
              "      <td>11.20</td>\n",
              "    </tr>\n",
              "    <tr>\n",
              "      <th>8</th>\n",
              "      <td>Запустить акцию, дающую скидку на товар в день рождения</td>\n",
              "      <td>1</td>\n",
              "      <td>9</td>\n",
              "      <td>9</td>\n",
              "      <td>5</td>\n",
              "      <td>16.20</td>\n",
              "    </tr>\n",
              "  </tbody>\n",
              "</table>\n",
              "</div>"
            ],
            "text/plain": [
              "                                                                                                     hypothesis  \\\n",
              "0            Добавить два новых канала привлечения трафика, что позволит привлекать на 30% больше пользователей   \n",
              "1                                     Запустить собственную службу доставки, что сократит срок доставки заказов   \n",
              "2  Добавить блоки рекомендаций товаров на сайт интернет магазина, чтобы повысить конверсию и средний чек заказа   \n",
              "3           Изменить структура категорий, что увеличит конверсию, т.к. пользователи быстрее найдут нужный товар   \n",
              "4                              Изменить цвет фона главной страницы, чтобы увеличить вовлеченность пользователей   \n",
              "5                      Добавить страницу отзывов клиентов о магазине, что позволит увеличить количество заказов   \n",
              "6          Показать на главной странице баннеры с актуальными акциями и распродажами, чтобы увеличить конверсию   \n",
              "7              Добавить форму подписки на все основные страницы, чтобы собрать базу клиентов для email-рассылок   \n",
              "8                                                       Запустить акцию, дающую скидку на товар в день рождения   \n",
              "\n",
              "   reach  impact  confidence  efforts    ICE  \n",
              "0      3      10           8        6  13.33  \n",
              "1      2       5           4       10   2.00  \n",
              "2      8       3           7        3   7.00  \n",
              "3      8       3           3        8   1.12  \n",
              "4      3       1           1        1   1.00  \n",
              "5      3       2           2        3   1.33  \n",
              "6      5       3           8        3   8.00  \n",
              "7     10       7           8        5  11.20  \n",
              "8      1       9           9        5  16.20  "
            ]
          },
          "execution_count": 18,
          "metadata": {},
          "output_type": "execute_result"
        }
      ],
      "source": [
        "hypothesis.head(10)"
      ]
    },
    {
      "cell_type": "code",
      "execution_count": null,
      "metadata": {
        "id": "6PZH_iLKOtQi",
        "outputId": "10daea6c-fc75-4e8a-b107-5ee0fcc364be"
      },
      "outputs": [
        {
          "data": {
            "text/html": [
              "<div>\n",
              "<style scoped>\n",
              "    .dataframe tbody tr th:only-of-type {\n",
              "        vertical-align: middle;\n",
              "    }\n",
              "\n",
              "    .dataframe tbody tr th {\n",
              "        vertical-align: top;\n",
              "    }\n",
              "\n",
              "    .dataframe thead th {\n",
              "        text-align: right;\n",
              "    }\n",
              "</style>\n",
              "<table border=\"1\" class=\"dataframe\">\n",
              "  <thead>\n",
              "    <tr style=\"text-align: right;\">\n",
              "      <th></th>\n",
              "      <th>hypothesis</th>\n",
              "      <th>RICE</th>\n",
              "    </tr>\n",
              "  </thead>\n",
              "  <tbody>\n",
              "    <tr>\n",
              "      <th>7</th>\n",
              "      <td>Добавить форму подписки на все основные страницы, чтобы собрать базу клиентов для email-рассылок</td>\n",
              "      <td>112.0</td>\n",
              "    </tr>\n",
              "    <tr>\n",
              "      <th>2</th>\n",
              "      <td>Добавить блоки рекомендаций товаров на сайт интернет магазина, чтобы повысить конверсию и средний чек заказа</td>\n",
              "      <td>56.0</td>\n",
              "    </tr>\n",
              "    <tr>\n",
              "      <th>0</th>\n",
              "      <td>Добавить два новых канала привлечения трафика, что позволит привлекать на 30% больше пользователей</td>\n",
              "      <td>40.0</td>\n",
              "    </tr>\n",
              "    <tr>\n",
              "      <th>6</th>\n",
              "      <td>Показать на главной странице баннеры с актуальными акциями и распродажами, чтобы увеличить конверсию</td>\n",
              "      <td>40.0</td>\n",
              "    </tr>\n",
              "    <tr>\n",
              "      <th>8</th>\n",
              "      <td>Запустить акцию, дающую скидку на товар в день рождения</td>\n",
              "      <td>16.2</td>\n",
              "    </tr>\n",
              "    <tr>\n",
              "      <th>3</th>\n",
              "      <td>Изменить структура категорий, что увеличит конверсию, т.к. пользователи быстрее найдут нужный товар</td>\n",
              "      <td>9.0</td>\n",
              "    </tr>\n",
              "    <tr>\n",
              "      <th>1</th>\n",
              "      <td>Запустить собственную службу доставки, что сократит срок доставки заказов</td>\n",
              "      <td>4.0</td>\n",
              "    </tr>\n",
              "    <tr>\n",
              "      <th>5</th>\n",
              "      <td>Добавить страницу отзывов клиентов о магазине, что позволит увеличить количество заказов</td>\n",
              "      <td>4.0</td>\n",
              "    </tr>\n",
              "    <tr>\n",
              "      <th>4</th>\n",
              "      <td>Изменить цвет фона главной страницы, чтобы увеличить вовлеченность пользователей</td>\n",
              "      <td>3.0</td>\n",
              "    </tr>\n",
              "  </tbody>\n",
              "</table>\n",
              "</div>"
            ],
            "text/plain": [
              "                                                                                                     hypothesis  \\\n",
              "7              Добавить форму подписки на все основные страницы, чтобы собрать базу клиентов для email-рассылок   \n",
              "2  Добавить блоки рекомендаций товаров на сайт интернет магазина, чтобы повысить конверсию и средний чек заказа   \n",
              "0            Добавить два новых канала привлечения трафика, что позволит привлекать на 30% больше пользователей   \n",
              "6          Показать на главной странице баннеры с актуальными акциями и распродажами, чтобы увеличить конверсию   \n",
              "8                                                       Запустить акцию, дающую скидку на товар в день рождения   \n",
              "3           Изменить структура категорий, что увеличит конверсию, т.к. пользователи быстрее найдут нужный товар   \n",
              "1                                     Запустить собственную службу доставки, что сократит срок доставки заказов   \n",
              "5                      Добавить страницу отзывов клиентов о магазине, что позволит увеличить количество заказов   \n",
              "4                              Изменить цвет фона главной страницы, чтобы увеличить вовлеченность пользователей   \n",
              "\n",
              "    RICE  \n",
              "7  112.0  \n",
              "2   56.0  \n",
              "0   40.0  \n",
              "6   40.0  \n",
              "8   16.2  \n",
              "3    9.0  \n",
              "1    4.0  \n",
              "5    4.0  \n",
              "4    3.0  "
            ]
          },
          "execution_count": 19,
          "metadata": {},
          "output_type": "execute_result"
        }
      ],
      "source": [
        "hypothesis['RICE'] = (hypothesis['reach']* hypothesis['impact'] * hypothesis['confidence'])/hypothesis['efforts']\n",
        "hypothesis[['hypothesis', 'RICE']].sort_values(by='RICE', ascending=False).head(10)"
      ]
    },
    {
      "cell_type": "markdown",
      "metadata": {
        "id": "o0chRjrZOtQi"
      },
      "source": [
        "Наиболее перспективные гипотезы:\n",
        "\n",
        "    - Добавить форму подписки на все основные страницы, чтобы собрать базу клиентов для email-рассылок   \n",
        "    - Добавить блоки рекомендаций товаров на сайт интернет магазина, чтобы повысить конверсию и средний чек заказа   \n",
        "    - Добавить два новых канала привлечения трафика, что позволит привлекать на 30% больше пользователей   \n",
        "    \n",
        "Теперь на первом месте гипотеза под номером 7. Ее параметр Reach 10, что выше, чем у других. Значит она затронет большее количество прользователей.\n",
        "В то время как гипотеза 8 сдвинулась на пятое меcто, поскольку имеет низкое значение параметра Reach\n",
        "\n",
        "Главным отличием методов ICE и RICE является то, что RICE учитывает фактор охвата, т.е на какое количество людей повлияет изменение в течение определенного периода времени, а не только силу гипотезы. В данном случае, мы видим что параметр reach изменил лидирующие гипотезы.\n"
      ]
    },
    {
      "cell_type": "markdown",
      "metadata": {
        "id": "YEAAEYIROtQj"
      },
      "source": [
        "## Анализ A/B-теста"
      ]
    },
    {
      "cell_type": "markdown",
      "metadata": {
        "id": "q0dtK4wlOtQl"
      },
      "source": [
        "Определим с какими группами теста предстоит работать"
      ]
    },
    {
      "cell_type": "code",
      "execution_count": null,
      "metadata": {
        "id": "1-y8MyYfOtQl",
        "outputId": "e67a65c5-a5ba-4885-d4c8-334c5577089e"
      },
      "outputs": [
        {
          "data": {
            "text/plain": [
              "array(['B', 'A'], dtype=object)"
            ]
          },
          "execution_count": 20,
          "metadata": {},
          "output_type": "execute_result"
        }
      ],
      "source": [
        "orders['group'].unique()"
      ]
    },
    {
      "cell_type": "markdown",
      "metadata": {
        "id": "798o5RjmOtQl"
      },
      "source": [
        "В тесте участвуют 2 группы А и В"
      ]
    },
    {
      "cell_type": "markdown",
      "metadata": {
        "id": "cvp-y0AMOtQr"
      },
      "source": [
        "Определим даты начала и окончания теста"
      ]
    },
    {
      "cell_type": "code",
      "execution_count": null,
      "metadata": {
        "id": "Dw2jR1fMOtQr",
        "outputId": "eeea9990-3a4a-4d86-c53d-48b366029fec"
      },
      "outputs": [
        {
          "name": "stdout",
          "output_type": "stream",
          "text": [
            "Дата начала теста 2019-08-01 00:00:00\n",
            "Дата окончания теста 2019-08-31 00:00:00\n"
          ]
        }
      ],
      "source": [
        "# определим даты теста\n",
        "min_date = orders['date'].min()\n",
        "max_date = orders['date'].max()\n",
        "print('Дата начала теста', min_date)\n",
        "print('Дата окончания теста', max_date)\n"
      ]
    },
    {
      "cell_type": "markdown",
      "metadata": {
        "id": "9jRhlZa4OtQs"
      },
      "source": [
        "Проверим, попали ли одни и те же пользователи в обе группы А и В"
      ]
    },
    {
      "cell_type": "code",
      "execution_count": null,
      "metadata": {
        "id": "5gwEPCWoOtQs",
        "outputId": "5c4c5177-68b5-4ff6-f43b-12ab90531e74"
      },
      "outputs": [
        {
          "data": {
            "text/plain": [
              "1031"
            ]
          },
          "execution_count": 22,
          "metadata": {},
          "output_type": "execute_result"
        }
      ],
      "source": [
        "orders['visitorId'].nunique() # количество уникальных пользователей"
      ]
    },
    {
      "cell_type": "code",
      "execution_count": null,
      "metadata": {
        "scrolled": false,
        "id": "RF_yFY7rOtQs",
        "outputId": "4efe76ed-2bd0-4ddb-bf6e-c65ed42bf51c"
      },
      "outputs": [
        {
          "data": {
            "text/html": [
              "<div>\n",
              "<style scoped>\n",
              "    .dataframe tbody tr th:only-of-type {\n",
              "        vertical-align: middle;\n",
              "    }\n",
              "\n",
              "    .dataframe tbody tr th {\n",
              "        vertical-align: top;\n",
              "    }\n",
              "\n",
              "    .dataframe thead th {\n",
              "        text-align: right;\n",
              "    }\n",
              "</style>\n",
              "<table border=\"1\" class=\"dataframe\">\n",
              "  <thead>\n",
              "    <tr style=\"text-align: right;\">\n",
              "      <th></th>\n",
              "      <th>transactionId_x</th>\n",
              "      <th>visitorId</th>\n",
              "      <th>date_x</th>\n",
              "      <th>revenue_x</th>\n",
              "      <th>group_x</th>\n",
              "      <th>transactionId_y</th>\n",
              "      <th>date_y</th>\n",
              "      <th>revenue_y</th>\n",
              "      <th>group_y</th>\n",
              "    </tr>\n",
              "  </thead>\n",
              "  <tbody>\n",
              "    <tr>\n",
              "      <th>0</th>\n",
              "      <td>2961555356</td>\n",
              "      <td>4069496402</td>\n",
              "      <td>2019-08-15</td>\n",
              "      <td>400</td>\n",
              "      <td>A</td>\n",
              "      <td>1473132782</td>\n",
              "      <td>2019-08-12</td>\n",
              "      <td>640</td>\n",
              "      <td>B</td>\n",
              "    </tr>\n",
              "    <tr>\n",
              "      <th>1</th>\n",
              "      <td>2223239646</td>\n",
              "      <td>199603092</td>\n",
              "      <td>2019-08-15</td>\n",
              "      <td>3488</td>\n",
              "      <td>A</td>\n",
              "      <td>437656952</td>\n",
              "      <td>2019-08-02</td>\n",
              "      <td>3488</td>\n",
              "      <td>B</td>\n",
              "    </tr>\n",
              "    <tr>\n",
              "      <th>2</th>\n",
              "      <td>62794304</td>\n",
              "      <td>199603092</td>\n",
              "      <td>2019-08-22</td>\n",
              "      <td>6976</td>\n",
              "      <td>A</td>\n",
              "      <td>437656952</td>\n",
              "      <td>2019-08-02</td>\n",
              "      <td>3488</td>\n",
              "      <td>B</td>\n",
              "    </tr>\n",
              "    <tr>\n",
              "      <th>3</th>\n",
              "      <td>2971973105</td>\n",
              "      <td>199603092</td>\n",
              "      <td>2019-08-27</td>\n",
              "      <td>2790</td>\n",
              "      <td>A</td>\n",
              "      <td>437656952</td>\n",
              "      <td>2019-08-02</td>\n",
              "      <td>3488</td>\n",
              "      <td>B</td>\n",
              "    </tr>\n",
              "    <tr>\n",
              "      <th>4</th>\n",
              "      <td>1941707234</td>\n",
              "      <td>199603092</td>\n",
              "      <td>2019-08-12</td>\n",
              "      <td>6438</td>\n",
              "      <td>A</td>\n",
              "      <td>437656952</td>\n",
              "      <td>2019-08-02</td>\n",
              "      <td>3488</td>\n",
              "      <td>B</td>\n",
              "    </tr>\n",
              "  </tbody>\n",
              "</table>\n",
              "</div>"
            ],
            "text/plain": [
              "   transactionId_x   visitorId     date_x  revenue_x group_x  transactionId_y  \\\n",
              "0       2961555356  4069496402 2019-08-15        400       A       1473132782   \n",
              "1       2223239646   199603092 2019-08-15       3488       A        437656952   \n",
              "2         62794304   199603092 2019-08-22       6976       A        437656952   \n",
              "3       2971973105   199603092 2019-08-27       2790       A        437656952   \n",
              "4       1941707234   199603092 2019-08-12       6438       A        437656952   \n",
              "\n",
              "      date_y  revenue_y group_y  \n",
              "0 2019-08-12        640       B  \n",
              "1 2019-08-02       3488       B  \n",
              "2 2019-08-02       3488       B  \n",
              "3 2019-08-02       3488       B  \n",
              "4 2019-08-02       3488       B  "
            ]
          },
          "execution_count": 23,
          "metadata": {},
          "output_type": "execute_result"
        }
      ],
      "source": [
        "a = orders.query('group == \"A\"') # срез с пользователями группы А\n",
        "b = orders.query('group == \"B\"') # срез с пользователями группы В\n",
        "double_ab = a.merge(b, on='visitorId', how='inner') # объединяем в таблицу\n",
        "double_ab.head()"
      ]
    },
    {
      "cell_type": "code",
      "execution_count": null,
      "metadata": {
        "id": "uUVUN-tDOtQt",
        "outputId": "2c759a23-88d6-4d99-d9aa-65d85e8dea63"
      },
      "outputs": [
        {
          "data": {
            "text/plain": [
              "(183, 9)"
            ]
          },
          "execution_count": 24,
          "metadata": {},
          "output_type": "execute_result"
        }
      ],
      "source": [
        "double_ab.shape\n"
      ]
    },
    {
      "cell_type": "code",
      "execution_count": null,
      "metadata": {
        "id": "Vp387G5hOtQt",
        "outputId": "d344bf99-7e70-41fe-a40c-9a9842c1430d"
      },
      "outputs": [
        {
          "name": "stdout",
          "output_type": "stream",
          "text": [
            "Пользователей, состоящих в двух группах: 58\n"
          ]
        }
      ],
      "source": [
        "print('Пользователей, состоящих в двух группах:', double_ab['visitorId'].nunique())"
      ]
    },
    {
      "cell_type": "markdown",
      "metadata": {
        "id": "2IwS1Z9zOtQt"
      },
      "source": [
        "**В реальном тесте необходимо проводить А/А тест, чтобы гарантировать уникальные значения идентификаторов пользователя в каждой группе. Повторяться они не должны, это грубое нарушение.\n",
        "В проекте удалять таких пользователь не будем, это приведет к удалению более 15% данных (всего в orders 1197 строк, удалить 189 строк, из них 58 уникальных). Т.е. даже если удалить эти данные, результат учебного теста все равно будет некорректным.**"
      ]
    },
    {
      "cell_type": "markdown",
      "metadata": {
        "id": "PFyPBIXQOtQt"
      },
      "source": [
        "Проверим равномерность распределения по тестовым группам. Посчитаем количество пользователей в обоих группах теста."
      ]
    },
    {
      "cell_type": "code",
      "execution_count": null,
      "metadata": {
        "scrolled": false,
        "id": "bTtRZF_2OtQt",
        "outputId": "47eee443-0859-41fb-d242-45695aee9c26"
      },
      "outputs": [
        {
          "name": "stdout",
          "output_type": "stream",
          "text": [
            "Количество пользователей в группе А: 503\n",
            "Количество пользователей в группе B: 586\n"
          ]
        }
      ],
      "source": [
        "print('Количество пользователей в группе А:', a['visitorId'].nunique())\n",
        "print('Количество пользователей в группе B:', b['visitorId'].nunique())"
      ]
    },
    {
      "cell_type": "markdown",
      "metadata": {
        "id": "nc1x2-vMOtQu"
      },
      "source": [
        "Распределение неравномерно. Количество пользователей в группе В на 83 человека больше."
      ]
    },
    {
      "cell_type": "markdown",
      "metadata": {
        "id": "C4ZaOSG4OtQu"
      },
      "source": [
        "### Построим график кумулятивной выручки по группам"
      ]
    },
    {
      "cell_type": "markdown",
      "metadata": {
        "id": "AMPZAOKVOtQu"
      },
      "source": [
        "Прочтём данные из файлов с результатами A/B-тестирования"
      ]
    },
    {
      "cell_type": "code",
      "execution_count": null,
      "metadata": {
        "id": "NTp5TioFOtQu",
        "outputId": "5db06766-39fa-402e-b853-5229f7b0feb5"
      },
      "outputs": [
        {
          "name": "stdout",
          "output_type": "stream",
          "text": [
            "   transactionId   visitorId       date  revenue group\n",
            "0     3667963787  3312258926 2019-08-15     1650     B\n",
            "1     2804400009  3642806036 2019-08-15      730     B\n",
            "2     2961555356  4069496402 2019-08-15      400     A\n",
            "3     3797467345  1196621759 2019-08-15     9759     B\n",
            "4     2282983706  2322279887 2019-08-15     2308     B\n",
            "        date group  visitors\n",
            "0 2019-08-01     A       719\n",
            "1 2019-08-02     A       619\n",
            "2 2019-08-03     A       507\n",
            "3 2019-08-04     A       717\n",
            "4 2019-08-05     A       756\n"
          ]
        }
      ],
      "source": [
        "orders = pd.read_csv('/datasets/orders.csv', sep=',')\n",
        "orders['date'] = orders['date'].map(\n",
        "    lambda x: dt.datetime.strptime(x, '%Y-%m-%d')\n",
        ")\n",
        "\n",
        "visitors = pd.read_csv(\n",
        "    '/datasets/visitors.csv', sep=','\n",
        ")\n",
        "visitors['date'] = visitors['date'].map(\n",
        "    lambda x: dt.datetime.strptime(x, '%Y-%m-%d')\n",
        ")\n",
        "\n",
        "print(orders.head())\n",
        "print(visitors.head())"
      ]
    },
    {
      "cell_type": "code",
      "execution_count": null,
      "metadata": {
        "id": "Dh4AJo9aOtQu"
      },
      "outputs": [],
      "source": [
        "#Создадим массив уникальных пар значений дат и групп теста методом drop_duplicates()\n",
        "datesGroups = orders[['date', 'group']].drop_duplicates()\n",
        "\n",
        "#Рассчитаем кумулятивные данные\n",
        "ordersAggregated = datesGroups.apply(\n",
        "    lambda x: orders[\n",
        "        np.logical_and(\n",
        "            orders['date'] <= x['date'], orders['group'] == x['group']\n",
        "        )\n",
        "    ].agg(\n",
        "        {\n",
        "            'date': 'max',\n",
        "            'group': 'max',\n",
        "            'transactionId': 'nunique',\n",
        "            'visitorId': 'nunique',\n",
        "            'revenue': 'sum',\n",
        "        }\n",
        "    ),\n",
        "    axis=1,\n",
        ").sort_values(by=['date', 'group'])\n",
        "\n",
        "visitorsAggregated = datesGroups.apply(\n",
        "    lambda x: visitors[\n",
        "        np.logical_and(\n",
        "            visitors['date'] <= x['date'], visitors['group'] == x['group']\n",
        "        )\n",
        "    ].agg({'date': 'max', 'group': 'max', 'visitors': 'sum'}),\n",
        "    axis=1,\n",
        ").sort_values(by=['date', 'group'])\n",
        "\n",
        "cumulativeData = ordersAggregated.merge(\n",
        "    visitorsAggregated, left_on=['date', 'group'], right_on=['date', 'group']\n",
        ")\n",
        "cumulativeData.columns = [\n",
        "    'date',\n",
        "    'group',\n",
        "    'orders',\n",
        "    'buyers',\n",
        "    'revenue',\n",
        "    'visitors',\n",
        "]\n",
        "# датафрейм с кумулятивным количеством заказов и кумулятивной выручкой по дням в группе А\n",
        "cumulativeRevenueA = cumulativeData[cumulativeData['group']=='A'][['date','revenue', 'orders']]\n",
        "\n",
        "# датафрейм с кумулятивным количеством заказов и кумулятивной выручкой по дням в группе B\n",
        "cumulativeRevenueB = cumulativeData[cumulativeData['group']=='B'][['date','revenue', 'orders']]\n"
      ]
    },
    {
      "cell_type": "code",
      "execution_count": null,
      "metadata": {
        "scrolled": false,
        "id": "cpc3_GxLOtQv",
        "outputId": "23e1e70f-33e2-47e4-99bc-ce6bf66e5ba7"
      },
      "outputs": [
        {
          "data": {
            "image/png": "[encoded data removed]",
            "text/plain": [
              "<Figure size 864x432 with 1 Axes>"
            ]
          },
          "metadata": {
            "needs_background": "light"
          },
          "output_type": "display_data"
        }
      ],
      "source": [
        "plt.figure(figsize=(12,6))\n",
        "\n",
        "# Строим график выручки группы А\n",
        "plt.plot(cumulativeRevenueA['date'], cumulativeRevenueA['revenue'], label='A')\n",
        "\n",
        "# Строим график выручки группы B\n",
        "plt.plot(cumulativeRevenueB['date'], cumulativeRevenueB['revenue'], label='B')\n",
        "plt.legend()\n",
        "plt.xlabel('Дата')\n",
        "plt.ylabel('Кумулятивная средняя выручка')\n",
        "plt.title('График кумулятивной выручки по группам ', fontsize=16)\n",
        "plt.show();"
      ]
    },
    {
      "cell_type": "markdown",
      "metadata": {
        "id": "mBe2g1eYOtQv"
      },
      "source": [
        "Выручка почти равномерно увеличивается в течение всего теста.\n",
        "Однако график выручки группы В в середине теста резко растет. Это может сигнализировать о всплеске числа заказов, либо о появлении очень дорогих заказов в выборке"
      ]
    },
    {
      "cell_type": "markdown",
      "metadata": {
        "id": "bAqv2zw3OtQw"
      },
      "source": [
        "### Построим график кумулятивного среднего чека по группам"
      ]
    },
    {
      "cell_type": "code",
      "execution_count": null,
      "metadata": {
        "id": "oImBmh_yOtQw",
        "outputId": "2471b875-19a6-4fd2-a849-94b967780bb5"
      },
      "outputs": [
        {
          "data": {
            "image/png": "[encoded data removed]",
            "text/plain": [
              "<Figure size 864x432 with 1 Axes>"
            ]
          },
          "metadata": {
            "needs_background": "light"
          },
          "output_type": "display_data"
        }
      ],
      "source": [
        "plt.figure(figsize=(12,6))\n",
        "plt.plot(cumulativeRevenueA['date'], cumulativeRevenueA['revenue']/cumulativeRevenueA['orders'], label='A')\n",
        "plt.plot(cumulativeRevenueB['date'], cumulativeRevenueB['revenue']/cumulativeRevenueB['orders'], label='B')\n",
        "plt.legend()\n",
        "plt.xlabel('Дата')\n",
        "plt.ylabel('Кумулятивный средний чек')\n",
        "plt.title('График кумулятивного среднего чека по группам', fontsize=16);"
      ]
    },
    {
      "cell_type": "markdown",
      "metadata": {
        "id": "ddmvTdFtOtQw"
      },
      "source": [
        "Средний чек тоже становится равномерным ближе к концу теста для группы A и продолжает колебаться для группы B. Очевидно, в группу B в середине теста попали крупные заказы (резкий всплеск на графике). Тогда ей нужно больше данных, чтобы прийти к реальному среднему чеку и установиться на его уровне."
      ]
    },
    {
      "cell_type": "markdown",
      "metadata": {
        "id": "2n2lNn0gOtQw"
      },
      "source": [
        "### Построим график относительного изменения кумулятивного среднего чека группы B к группе A"
      ]
    },
    {
      "cell_type": "code",
      "execution_count": null,
      "metadata": {
        "id": "hxOGCwVJOtQw",
        "outputId": "bd755c62-8d5f-4130-8287-31c7c211ef1e"
      },
      "outputs": [
        {
          "data": {
            "image/png": "[encoded data removed]",
            "text/plain": [
              "<Figure size 864x432 with 1 Axes>"
            ]
          },
          "metadata": {
            "needs_background": "light"
          },
          "output_type": "display_data"
        }
      ],
      "source": [
        "plt.figure(figsize=(12,6))\n",
        "\n",
        "# собираем данные в одном датафрейме\n",
        "mergedCumulativeRevenue = cumulativeRevenueA.merge(cumulativeRevenueB, left_on='date', right_on='date',\\\n",
        "                                                   how='left', suffixes=['A', 'B'])\n",
        "\n",
        "# cтроим отношение средних чеков\n",
        "plt.plot(mergedCumulativeRevenue['date'], (mergedCumulativeRevenue['revenueB']\n",
        "                                           /mergedCumulativeRevenue['ordersB'])/(mergedCumulativeRevenue['revenueA']\n",
        "                                                                                 /mergedCumulativeRevenue['ordersA'])-1)\n",
        "\n",
        "# добавляем ось X\n",
        "plt.axhline(y=0, color='red', linestyle='--')\n",
        "\n",
        "plt.xlabel('Дата')\n",
        "plt.ylabel('Относительный прирост кумулятивного среднего чека')\n",
        "plt.title(label = 'График кумулятивного относительного изменения кумулятивного среднего чека группы B к группе A', fontsize=16);"
      ]
    },
    {
      "cell_type": "markdown",
      "metadata": {
        "id": "_gfdYycrOtQx"
      },
      "source": [
        "В нескольких точках график различия между сегментами резко «скачет». Это говорит о наличии крупных заказов и выбросов."
      ]
    },
    {
      "cell_type": "markdown",
      "metadata": {
        "id": "WmKFcAHFOtQx"
      },
      "source": [
        "### Построим график кумулятивного среднего количества заказов на посетителя по группам"
      ]
    },
    {
      "cell_type": "code",
      "execution_count": null,
      "metadata": {
        "scrolled": true,
        "id": "d_8e-fjDOtQx",
        "outputId": "34880775-c925-4046-8b5e-70d79bf2d3ad"
      },
      "outputs": [
        {
          "data": {
            "image/png": "[encoded data removed]",
            "text/plain": [
              "<Figure size 864x288 with 1 Axes>"
            ]
          },
          "metadata": {
            "needs_background": "light"
          },
          "output_type": "display_data"
        }
      ],
      "source": [
        "# считаем кумулятивную конверсию\n",
        "cumulativeData['conversion'] = cumulativeData['orders']/cumulativeData['visitors']\n",
        "# отделяем данные по группе A\n",
        "cumulativeDataA = cumulativeData[cumulativeData['group']=='A']\n",
        "# отделяем данные по группе B\n",
        "cumulativeDataB = cumulativeData[cumulativeData['group']=='B']\n",
        "# строим графики\n",
        "plt.figure(figsize=(12,4))\n",
        "plt.plot(cumulativeDataA['date'], cumulativeDataA['conversion'], label='A')\n",
        "plt.plot(cumulativeDataB['date'], cumulativeDataB['conversion'], label='B')\n",
        "plt.legend()\n",
        "# задаем масштаб осей\n",
        "plt.axis([dt.datetime(2019, 8, 1), dt.datetime(2019, 8, 31), cumulativeData['conversion'].min(),cumulativeData['conversion'].max()])\n",
        "plt.xlabel('Дата')\n",
        "plt.ylabel('Среднее количество заказов')\n",
        "plt.title(label = 'График кумулятивного среднего количества заказов на посетителя по группам', fontsize=16);"
      ]
    },
    {
      "cell_type": "markdown",
      "metadata": {
        "id": "myagC45eOtQx"
      },
      "source": [
        "Значения кумулятивного среднего количества заказов колебались для обеих групп около одного значения в начале теста, но затем  группа B вырвалась вперёд и зафиксировалась, а среднее количество заказов группы A также зафиксировалась с немного меньшим значением."
      ]
    },
    {
      "cell_type": "markdown",
      "metadata": {
        "id": "Z8Q4ow1gOtQy"
      },
      "source": [
        "### Постройте график относительного изменения кумулятивного среднего количества заказов на посетителя группы B к группе A"
      ]
    },
    {
      "cell_type": "code",
      "execution_count": null,
      "metadata": {
        "id": "mcwk1HK6OtQy",
        "outputId": "1c036ea6-2a37-4517-c812-676bda925ea3"
      },
      "outputs": [
        {
          "data": {
            "image/png": "[encoded data removed]",
            "text/plain": [
              "<Figure size 864x432 with 1 Axes>"
            ]
          },
          "metadata": {
            "needs_background": "light"
          },
          "output_type": "display_data"
        }
      ],
      "source": [
        "mergedCumulativeConversions = cumulativeDataA[['date','conversion']].merge(cumulativeDataB[['date','conversion']], \\\n",
        "                                                                           left_on='date', right_on='date', how='left',\\\n",
        "                                                                           suffixes=['A', 'B'])\n",
        "plt.figure(figsize=(12,6))\n",
        "plt.plot(mergedCumulativeConversions['date'], mergedCumulativeConversions['conversionB']/\n",
        "         mergedCumulativeConversions['conversionA']-1, label=\"Отн-й прирост кум. ср. кол-ва заказов группы B относительно группы A\")\n",
        "plt.legend()\n",
        "plt.axhline(y=0, color='red', linestyle='--')\n",
        "plt.axhline(y=0.1, color='black', linestyle='--')\n",
        "plt.axis([dt.datetime(2019, 8, 1), dt.datetime(2019, 8, 31), -0.5, 0.5]);\n",
        "plt.xlabel('Дата')\n",
        "plt.ylabel('Отн-ный прирост кумулятивного среднего кол-ва заказов')\n",
        "plt.title(\n",
        "    label = 'График кумулятивного относительного изменения кумулятивного среднего количества заказов на посетителя группы B к группе A',\\\n",
        "    fontsize=14);"
      ]
    },
    {
      "cell_type": "markdown",
      "metadata": {
        "id": "eAn_1zGkOtQy"
      },
      "source": [
        "В начале теста группа B проигрывала группе A, затем вырвалась вперёд. График колеблеться. Пока группа В опережает группу А прмерно на 10%, но прирост еще не зафиксировался. Делать какие-либо выводы по тесту нельзя. Стоит проанализировать аномалии, возможно, они изменят картину."
      ]
    },
    {
      "cell_type": "markdown",
      "metadata": {
        "id": "D7546_31OtQz"
      },
      "source": [
        "### Построим точечный график количества заказов по пользователям"
      ]
    },
    {
      "cell_type": "markdown",
      "metadata": {
        "id": "jDHLmatFOtQz"
      },
      "source": [
        "Создадим таблицу с количеством заказов уникальных пользователей"
      ]
    },
    {
      "cell_type": "code",
      "execution_count": null,
      "metadata": {
        "scrolled": true,
        "id": "X9GDnH1FOtQz",
        "outputId": "8620b422-9dc2-47f5-836b-911c94bf3df1"
      },
      "outputs": [
        {
          "name": "stdout",
          "output_type": "stream",
          "text": [
            "       visitorId  orders\n",
            "1023  4256040402      11\n",
            "591   2458001652      11\n",
            "569   2378935119       9\n",
            "487   2038680547       8\n",
            "44     199603092       5\n",
            "744   3062433592       5\n",
            "55     237748145       5\n",
            "917   3803269165       5\n",
            "299   1230306981       5\n",
            "897   3717692402       5\n"
          ]
        }
      ],
      "source": [
        "ordersByUsers = (\n",
        "    orders.groupby('visitorId', as_index=False)\n",
        "    .agg({'transactionId': 'nunique'})\n",
        ")\n",
        "ordersByUsers.columns = ['visitorId', 'orders']\n",
        "\n",
        "print(ordersByUsers.sort_values(by='orders', ascending=False).head(10))"
      ]
    },
    {
      "cell_type": "markdown",
      "metadata": {
        "id": "weG085dOOtQ0"
      },
      "source": [
        "Есть пользователи, которые совершали 5, 8, 9 и 11 заказов. Значительно больше, чем обычный пользователь за неделю"
      ]
    },
    {
      "cell_type": "markdown",
      "metadata": {
        "id": "8MbgiKH5OtQ0"
      },
      "source": [
        "Построим гистрограмму распределения количества заказов на одного пользователя"
      ]
    },
    {
      "cell_type": "code",
      "execution_count": null,
      "metadata": {
        "scrolled": true,
        "id": "EvBLuJ15OtQ0",
        "outputId": "06db8020-a099-4202-d6d4-d58f2f92d4c2"
      },
      "outputs": [
        {
          "data": {
            "image/png": "[encoded data removed]",
            "text/plain": [
              "<Figure size 432x288 with 1 Axes>"
            ]
          },
          "metadata": {
            "needs_background": "light"
          },
          "output_type": "display_data"
        }
      ],
      "source": [
        "plt.figure(figsize=(6,4))\n",
        "plt.hist(ordersByUsers['orders'])\n",
        "plt.xlabel('Количество заказов')\n",
        "plt.ylabel('Количество пользователей')\n",
        "plt.title(\n",
        "    label = 'Гистрограмма распределения количества заказов на одного пользователя', fontsize=14);"
      ]
    },
    {
      "cell_type": "markdown",
      "metadata": {
        "id": "fhQvdUgHOtQ0"
      },
      "source": [
        "Большинство покупателей заказывали только один раз. Однако доля пользователей с 2-4 заказами тоже значительна."
      ]
    },
    {
      "cell_type": "code",
      "execution_count": null,
      "metadata": {
        "id": "rOGdsv4iOtQ0",
        "outputId": "7d9ed4c3-6217-4c5a-e1f6-809e4dd92d2e"
      },
      "outputs": [
        {
          "data": {
            "image/png": "[encoded data removed]",
            "text/plain": [
              "<Figure size 864x432 with 1 Axes>"
            ]
          },
          "metadata": {
            "needs_background": "light"
          },
          "output_type": "display_data"
        }
      ],
      "source": [
        "# серия из чисел от 0 до количества наблюдений в ordersByUsers\n",
        "x_values = pd.Series(range(0, len(ordersByUsers)))\n",
        "_values = pd.Series(range(0,len(ordersByUsers)))\n",
        "plt.figure(figsize=(12,6))\n",
        "plt.scatter(x_values, ordersByUsers['orders'], c='brown')\n",
        "plt.ylabel('Количество заказов')\n",
        "plt.xlabel('Количество пользователей')\n",
        "plt.title(\n",
        "    label = 'Точечный график количества заказов по пользователям', fontsize=14);"
      ]
    },
    {
      "cell_type": "markdown",
      "metadata": {
        "id": "3nt2N2FzOtQ1"
      },
      "source": [
        "Большое количество пользователей с 2-4 заказами. Чтобы определить считать их аномалиями или нет, посчитаем перцентили и определим границу аномальных значний"
      ]
    },
    {
      "cell_type": "markdown",
      "metadata": {
        "id": "IxJMP-jnOtQ1"
      },
      "source": [
        "### Посчитаем 95-й и 99-й перцентили количества заказов на пользователя. Выберем границу для определения аномальных пользователей"
      ]
    },
    {
      "cell_type": "code",
      "execution_count": null,
      "metadata": {
        "scrolled": true,
        "id": "IOC8OwmHOtQ1",
        "outputId": "4f7fe858-d57f-4117-8b74-d87f8df04925"
      },
      "outputs": [
        {
          "name": "stdout",
          "output_type": "stream",
          "text": [
            "       visitorId  orders\n",
            "1023  4256040402      11\n",
            "591   2458001652      11\n",
            "569   2378935119       9\n",
            "487   2038680547       8\n",
            "44     199603092       5\n",
            "[2. 4.]\n"
          ]
        }
      ],
      "source": [
        "print(ordersByUsers.sort_values(by='orders', ascending=False).head())\n",
        "print(np.percentile(ordersByUsers['orders'], [95, 99]))"
      ]
    },
    {
      "cell_type": "markdown",
      "metadata": {
        "id": "ED9lC56qOtQ2"
      },
      "source": [
        "Не более 5% пользователей совершали больше 2 заказов, и не более 1% совершали более 4 заказов. Выберем 4 заказа на одного пользователя за верхнюю границу числа заказов, и отсеем аномальных пользователей по ней в п.3.12"
      ]
    },
    {
      "cell_type": "markdown",
      "metadata": {
        "id": "6cb3SvNBOtQ2"
      },
      "source": [
        "### Построим точечный график стоимостей заказов"
      ]
    },
    {
      "cell_type": "code",
      "execution_count": null,
      "metadata": {
        "scrolled": false,
        "id": "29KH-MTCOtQ2",
        "outputId": "f1e08aef-9c3c-48a9-d2e9-91f5fad53dfa"
      },
      "outputs": [
        {
          "name": "stdout",
          "output_type": "stream",
          "text": [
            "      transactionId   visitorId       date  revenue group\n",
            "425       590470918  1920142716 2019-08-19  1294500     B\n",
            "1196     3936777065  2108080724 2019-08-15   202740     B\n",
            "858       192721366  1316129916 2019-08-27    93940     A\n",
            "1136      666610489  1307669133 2019-08-13    92550     A\n",
            "744      3668308183   888512513 2019-08-27    86620     B\n"
          ]
        }
      ],
      "source": [
        "print(orders.sort_values(by='revenue', ascending=False).head())"
      ]
    },
    {
      "cell_type": "code",
      "execution_count": null,
      "metadata": {
        "scrolled": false,
        "id": "2MQVpyIFOtQ2",
        "outputId": "f6d64d6a-d41e-4d71-d3c9-9e7f61843e42"
      },
      "outputs": [
        {
          "data": {
            "image/png": "[encoded data removed]",
            "text/plain": [
              "<Figure size 864x432 with 1 Axes>"
            ]
          },
          "metadata": {
            "needs_background": "light"
          },
          "output_type": "display_data"
        }
      ],
      "source": [
        "x_values = pd.Series(range(0, len(orders['revenue'])))\n",
        "plt.figure(figsize=(12,6))\n",
        "plt.scatter(x_values, orders['revenue'])\n",
        "plt.ylabel('Стоимость заказов')\n",
        "plt.xlabel('Количество пользователей')\n",
        "plt.title(\n",
        "    label = 'Точечный график стоимостей заказов по пользователям', fontsize=14);"
      ]
    },
    {
      "cell_type": "markdown",
      "metadata": {
        "id": "v6GXjwh9OtQ3"
      },
      "source": [
        "Для наглядности, уберем из графика экстримальные значения двух самх дорогих заказов и ограничим стоимостью 100 000 руб."
      ]
    },
    {
      "cell_type": "code",
      "execution_count": null,
      "metadata": {
        "id": "p8tb1KoYOtQ3",
        "outputId": "bac8b053-fc3a-43a6-92c6-eec313609754"
      },
      "outputs": [
        {
          "data": {
            "image/png": "[encoded data removed]",
            "text/plain": [
              "<Figure size 864x432 with 1 Axes>"
            ]
          },
          "metadata": {
            "needs_background": "light"
          },
          "output_type": "display_data"
        }
      ],
      "source": [
        "filtr = orders[orders['revenue'] <= 100000]['revenue']\n",
        "x_values = pd.Series(range(0,len(filtr)))\n",
        "plt.figure(figsize=(12,6))\n",
        "plt.scatter(x_values, filtr)\n",
        "plt.title(\n",
        "    label = 'Точечный график стоимостей заказов по пользователям', fontsize=14);"
      ]
    },
    {
      "cell_type": "markdown",
      "metadata": {
        "id": "Xv--DK9xOtQ3"
      },
      "source": [
        "Всё, как предполагали: есть несколько дорогих заказов.\n",
        "Самый дорогой заказ был сделан 19 августа. Это и есть тот скачок, что мы видим на графике кумулятивного среднего чека по группам. Большая часть заказов ограничена 10 000 рублей, но также есть много закзов 20-40 т.р.\n",
        "Чтобы определиться с границами аномалий, посчитаем перцентили"
      ]
    },
    {
      "cell_type": "markdown",
      "metadata": {
        "id": "8HSTbhiYOtQ3"
      },
      "source": [
        "### Посчитаем 95-й и 99-й перцентили стоимости заказов. Выберем границу для определения аномальных заказов"
      ]
    },
    {
      "cell_type": "code",
      "execution_count": null,
      "metadata": {
        "id": "x5VuDJ6kOtQ4",
        "outputId": "3d18a74f-97ba-4564-efef-cb675225048e"
      },
      "outputs": [
        {
          "name": "stdout",
          "output_type": "stream",
          "text": [
            "   transactionId   visitorId       date  revenue group\n",
            "0     3667963787  3312258926 2019-08-15     1650     B\n",
            "1     2804400009  3642806036 2019-08-15      730     B\n",
            "2     2961555356  4069496402 2019-08-15      400     A\n",
            "3     3797467345  1196621759 2019-08-15     9759     B\n",
            "4     2282983706  2322279887 2019-08-15     2308     B\n",
            "[28000.  58233.2]\n"
          ]
        }
      ],
      "source": [
        "print(orders.head())\n",
        "print(np.percentile(orders['revenue'], [95, 99]))"
      ]
    },
    {
      "cell_type": "markdown",
      "metadata": {
        "id": "z46EC7wWOtQ4"
      },
      "source": [
        "Не более 5% заказов дороже 28 000 рублей и не более 1% дороже 58 234 рублей.\n",
        "За аномалии приммем данные больше 99 перцентиля - зазакы выше 58 233.2 рублей"
      ]
    },
    {
      "cell_type": "markdown",
      "metadata": {
        "id": "nBOO9H88OtQ5"
      },
      "source": [
        "Оценили результаты A/B-теста визуально и выяснили, что в данных есть выбросы;\n",
        "Увидели выбросы и нашли границу для их определения."
      ]
    },
    {
      "cell_type": "markdown",
      "metadata": {
        "id": "238Tay_IOtQ5"
      },
      "source": [
        "### Посчитаем статистическую значимость различий в среднем количестве заказов на посетителя между группами по «сырым» данным"
      ]
    },
    {
      "cell_type": "markdown",
      "metadata": {
        "id": "Pzzj-EPuOtQ5"
      },
      "source": [
        "Посчитаем статистическую значимость различий в среднем числе заказов на пользователя и среднем чеке между группами по «сырым» данным — без удаления аномальных пользователей.\n",
        "Сформулируем гипотезы.\n",
        ">Нулевая: различий в среднем количестве заказов между группами нет.\n",
        "\n",
        ">Альтернативная: различия в среднем между группами есть."
      ]
    },
    {
      "cell_type": "markdown",
      "metadata": {
        "id": "2TSbQz5fOtQ6"
      },
      "source": [
        "Будем использовать для тестирования  критерий Манна-Уитни т.к. в данных есть большие выбросы, алгебраические метрики работают плохо, одно выбивающееся значение существенно влияет на результат.\n",
        "Это непараметрическй метод, поэтому к нему прибегают тогда, когда работа с самими значениями невозможна из-за выбросов, сильно сдвигающих параметрические результаты. В нашем случае критерий Манна-Уитни должен более вероятно найти статистически значимый эффект."
      ]
    },
    {
      "cell_type": "code",
      "execution_count": null,
      "metadata": {
        "id": "xV1CvWy9OtQ6"
      },
      "outputs": [],
      "source": [
        "# visitorsBCummulative.columns = ['date', 'visitorsCummulativeB']\n",
        "ordersADaily = (\n",
        "    orders[orders['group'] == 'A'][['date', 'transactionId', 'visitorId', 'revenue']]\n",
        "    .groupby('date', as_index=False)\n",
        "    .agg({'transactionId': pd.Series.nunique, 'revenue': 'sum'}))\n",
        "ordersADaily.columns = ['date', 'ordersPerDateA', 'revenuePerDateA']\n",
        "# ordersACummulative = ordersADaily.apply(\n",
        "#     lambda x: ordersADaily[ordersADaily['date'] <= x['date']].agg(\n",
        "#         {'date': 'max', 'ordersPerDateA': 'sum', 'revenuePerDateA': 'sum'}\n",
        "#     ),\n",
        "#     axis=1,\n",
        "# ).sort_values(by=['date'])\n",
        "# ordersACummulative.columns = [\n",
        "#     'date',\n",
        "#     'ordersCummulativeA',\n",
        "#     'revenueCummulativeA',\n",
        "# ]\n",
        "ordersBDaily = (\n",
        "    orders[orders['group'] == 'B'][['date', 'transactionId', 'visitorId', 'revenue']]\n",
        "    .groupby('date', as_index=False)\n",
        "     .agg({'transactionId': pd.Series.nunique, 'revenue': 'sum'})\n",
        " )\n",
        "ordersBDaily.columns = ['date', 'ordersPerDateB', 'revenuePerDateB']\n",
        "\n"
      ]
    },
    {
      "cell_type": "markdown",
      "metadata": {
        "id": "FLCdsb8LOtQ8"
      },
      "source": [
        "**Посчитаем статистическую значимость различия в среднем количестве заказов между группами.**"
      ]
    },
    {
      "cell_type": "code",
      "execution_count": null,
      "metadata": {
        "id": "iV3ht8ZOOtQ8",
        "outputId": "61a4fa60-002b-4bd1-f9a8-a152bf081972"
      },
      "outputs": [
        {
          "name": "stdout",
          "output_type": "stream",
          "text": [
            "p-value = 0.017\n",
            "Относительный прирост = 13.8%\n"
          ]
        }
      ],
      "source": [
        "ordersByUsersA = (\n",
        "    orders[orders['group'] == 'A']\n",
        "    .groupby('visitorId', as_index=False)\n",
        "    .agg({'transactionId': pd.Series.nunique})\n",
        ")\n",
        "ordersByUsersA.columns = ['visitorId', 'orders']\n",
        "\n",
        "ordersByUsersB = (\n",
        "    orders[orders['group'] == 'B']\n",
        "    .groupby('visitorId', as_index=False)\n",
        "    .agg({'transactionId': pd.Series.nunique})\n",
        ")\n",
        "ordersByUsersB.columns = ['visitorId', 'orders']\n",
        "\n",
        "sampleA = pd.concat(\n",
        "    [\n",
        "        ordersByUsersA['orders'],\n",
        "        pd.Series(\n",
        "            0,\n",
        "            index=np.arange(\n",
        "                     visitors[visitors['group'] == 'A']['visitors'].sum()- len(ordersByUsersA['orders'])\n",
        "            ),\n",
        "            name='orders',\n",
        "\n",
        "        ),\n",
        "    ],\n",
        "    axis=0,\n",
        ")\n",
        "\n",
        "sampleB = pd.concat(\n",
        "    [\n",
        "        ordersByUsersB['orders'],\n",
        "        pd.Series(\n",
        "            0,\n",
        "            index=np.arange(\n",
        "             visitors[visitors['group'] == 'B']['visitors'].sum()- len(ordersByUsersB['orders'])\n",
        "            ),\n",
        "            name='orders',\n",
        "        ),\n",
        "    ],\n",
        "    axis=0,\n",
        ")\n",
        "print('p-value = {0:.3f}'.format(stats.mannwhitneyu(sampleA, sampleB)[1]))\n",
        "print('Относительный прирост = {0:.1%}'.format((ordersBDaily['ordersPerDateB'].sum()\n",
        "                                                /visitors[visitors['group'] == 'B']['visitors'].sum())#visitorsBDaily['visitorsPerDateB'].sum())\n",
        "                                               /(ordersADaily['ordersPerDateA'].sum()\n",
        "                                               /visitors[visitors['group'] == 'A']['visitors'].sum()) - 1))#visitorsADaily['visitorsPerDateA'].sum())-1))"
      ]
    },
    {
      "cell_type": "markdown",
      "metadata": {
        "id": "4bAmko4iOtQ9"
      },
      "source": [
        "**p-value = 0.017, что значительно меньше 0.05, поэтому нулевую гипотезу отвергаем. Анализ \"сырых данных\" сообщает, что между группами есть статистически значимые различия в значениях среднего количества заказов. Относительный прирост среднего группы В к среднему группы А равен 13.8%**"
      ]
    },
    {
      "cell_type": "markdown",
      "metadata": {
        "id": "Ys9cWVePOtQ-"
      },
      "source": [
        "### Посчитаем статистическую значимость различий в среднем чеке заказа между группами по «сырым» данным"
      ]
    },
    {
      "cell_type": "markdown",
      "metadata": {
        "id": "o3akRnf5OtQ-"
      },
      "source": [
        ">Нулевая гипотеза: различий в среднем чеке между группами нет.\n",
        "\n",
        ">Альтернативная гипотеза: различия в среднем чеке между группами есть."
      ]
    },
    {
      "cell_type": "code",
      "execution_count": null,
      "metadata": {
        "scrolled": true,
        "id": "kPRPNlvWOtQ-",
        "outputId": "827b41ce-6de3-4362-b48e-0eac470bc756"
      },
      "outputs": [
        {
          "name": "stdout",
          "output_type": "stream",
          "text": [
            "p-value = 0.729\n",
            "Относительный прирост = 25.9%\n"
          ]
        }
      ],
      "source": [
        "print('p-value = {0:.3f}'.format(stats.mannwhitneyu(orders[orders['group']=='A']['revenue'],\\\n",
        "                                                    orders[orders['group']=='B']['revenue'])[1]))\n",
        "print('Относительный прирост = {0:.1%}'.format(orders[orders['group']=='B']['revenue'].mean()\\\n",
        "                                               /orders[orders['group']=='A']['revenue'].mean()-1))"
      ]
    },
    {
      "cell_type": "markdown",
      "metadata": {
        "id": "BakfwARzOtQ-"
      },
      "source": [
        "**p-value = 0.729, что больше 0.05, значит статистически значимый различий между средними чеками в группах нет. Значит, причин отвергать нулевую гипотезу и считать, что в среднем чеке есть различия, нет. Впрочем, средний чек группы А значительно ниже среднего чека группы В.**"
      ]
    },
    {
      "cell_type": "markdown",
      "metadata": {
        "id": "VVOV0OUyOtQ-"
      },
      "source": [
        "### Посчитаем статистическую значимость различий в среднем количестве заказов на посетителя между группами по «очищенным» данным"
      ]
    },
    {
      "cell_type": "markdown",
      "metadata": {
        "id": "Z_bicSEeOtQ_"
      },
      "source": [
        "Приступаем к подготовке очищенных от аномалий данных.\n",
        " - 95-й и 99-й перцентили средних чеков равны 28000 руб. и 58233.2 руб.\n",
        " - 95-й и 99-й перцентили числа заказов на одного пользователя равны 2 и 4 заказам на пользователя.\n",
        "Примем за аномальных пользователей тех, кто совершил 4 заказа и более, или совершил заказ на сумму свыше 58233.2 рублей. Так мы уберём 1% пользователей с наибольшим числом заказов и от 1% до 5% заказов с наибольшей стоимостью."
      ]
    },
    {
      "cell_type": "code",
      "execution_count": null,
      "metadata": {
        "scrolled": false,
        "id": "KwBY-rPVOtQ_",
        "outputId": "31e887e2-9322-4027-fed0-f990b8ed2ec9"
      },
      "outputs": [
        {
          "name": "stdout",
          "output_type": "stream",
          "text": [
            "Абсолютные потери: 15\n",
            "Относительные потери: 0.014548981571290009\n",
            "Удаление допустимо, количество аномальных данных 1.5%\n"
          ]
        }
      ],
      "source": [
        "usersWithManyOrders = pd.concat(\n",
        "    [\n",
        "      ordersByUsersA[ordersByUsersA['orders'] > np.percentile(ordersByUsers['orders'], 99)]['visitorId'],\n",
        "      ordersByUsersB[ordersByUsersB['orders'] > np.percentile(ordersByUsers['orders'], 99)]['visitorId'],\n",
        "    ],\n",
        "    axis=0,\n",
        ")\n",
        "usersWithExpensiveOrders = orders[orders['revenue'] > np.percentile(orders['revenue'], 99)]['visitorId']\n",
        "abnormalUsers = (\n",
        "    pd.concat([usersWithManyOrders, usersWithExpensiveOrders], axis=0)\n",
        "    .drop_duplicates()\n",
        "    .sort_values()\n",
        ")\n",
        "print('Абсолютные потери:', abnormalUsers.shape[0])\n",
        "a = abnormalUsers.count()/orders['visitorId'].nunique()\n",
        "print('Относительные потери:', a)\n",
        "if a < 5:\n",
        "     print ('Удаление допустимо, количество аномальных данных {0:.1%}'.format(a))\n",
        "else:\n",
        "     print ('Удаление  не допустимо, количество аномальных данных {0:.1%}'.format(a))"
      ]
    },
    {
      "cell_type": "markdown",
      "metadata": {
        "id": "9uPt3_jaOtQ_"
      },
      "source": [
        "Посчитаем какова доля аномальных данных в выборке и можем ли вообще их удалить без значительного влияния на исследование."
      ]
    },
    {
      "cell_type": "markdown",
      "metadata": {
        "id": "t9NImSUoOtQ_"
      },
      "source": [
        "Удаленные строки это примерено 1,5 % от общих данных, что вполне допустимо"
      ]
    },
    {
      "cell_type": "markdown",
      "metadata": {
        "id": "pHxL4oYEOtRB"
      },
      "source": [
        "Посчитайте статистическую значимость различия среднего количества заказов после удаления аномальных пользователей.\n",
        "\n",
        "Наши гипотезы:\n",
        ">Нулевая: различий в среднем количестве заказов между группами нет.\n",
        "\n",
        ">Альтернативная: различия в среднем между группами есть."
      ]
    },
    {
      "cell_type": "code",
      "execution_count": null,
      "metadata": {
        "id": "RSYIb3CZOtRB",
        "outputId": "810f8cb5-3095-442a-9d6c-6e8f1d9411f2"
      },
      "outputs": [
        {
          "name": "stdout",
          "output_type": "stream",
          "text": [
            "p-value = 0.014\n",
            "Относительный прирост = 15.3%\n"
          ]
        }
      ],
      "source": [
        "sampleAFiltered = pd.concat(\n",
        "    [\n",
        "        ordersByUsersA[\n",
        "            np.logical_not(ordersByUsersA['visitorId'].isin(abnormalUsers))\n",
        "        ]['orders'],\n",
        "        pd.Series(\n",
        "            0,\n",
        "            index=np.arange(\n",
        "                visitors[visitors['group'] == 'A']['visitors'].sum() - len(ordersByUsersA['orders'])\n",
        "            ),\n",
        "            name='orders',\n",
        "        ),\n",
        "    ],\n",
        "    axis=0,\n",
        ")\n",
        "\n",
        "sampleBFiltered = pd.concat(\n",
        "    [\n",
        "        ordersByUsersB[\n",
        "            np.logical_not(ordersByUsersB['visitorId'].isin(abnormalUsers))\n",
        "        ]['orders'],\n",
        "        pd.Series(\n",
        "            0,\n",
        "            index=np.arange(\n",
        "                visitors[visitors['group'] == 'B']['visitors'].sum() - len(ordersByUsersB['orders'])\n",
        "            ),\n",
        "            name='orders',\n",
        "        ),\n",
        "    ],\n",
        "    axis=0,\n",
        ")\n",
        "print('p-value = {0:.3f}'.format(stats.mannwhitneyu(sampleAFiltered, sampleBFiltered)[1]))\n",
        "print('Относительный прирост = {0:.1%}'.format(sampleBFiltered.mean()/sampleAFiltered.mean()-1))"
      ]
    },
    {
      "cell_type": "markdown",
      "metadata": {
        "id": "JdiPwjE0OtRC"
      },
      "source": [
        "**Результаты по среднему количеству заказов практически не изменились. p-value = 0.014 Это меньше 0.05. Отвергаем нулевую гипотезу. Среднее количество заказов группы В выше А на 15.3%**"
      ]
    },
    {
      "cell_type": "markdown",
      "metadata": {
        "id": "952TvWVDOtRD"
      },
      "source": [
        "### Посчитайте статистическую значимость различий в среднем чеке заказа между группами по «очищенным» данным"
      ]
    },
    {
      "cell_type": "markdown",
      "metadata": {
        "id": "BbINxYO3OtRD"
      },
      "source": [
        "\n",
        "Посчитаем статистическую значимость различия средних чеков после удаления аномальных пользователей.\n",
        "Выведем p-value для сравнения средних чеков между очищенными группами.\n",
        "\n",
        "Наши гипотезы:\n",
        ">Нулевая гипотеза: различий в среднем чеке между группами нет.\n",
        "\n",
        ">Альтернативная гипотеза: различия в среднем чеке между группами есть."
      ]
    },
    {
      "cell_type": "code",
      "execution_count": null,
      "metadata": {
        "id": "FPM-iB3mOtRE",
        "outputId": "6fc76aa2-3b27-4fde-a583-2d2a307f2ba4"
      },
      "outputs": [
        {
          "name": "stdout",
          "output_type": "stream",
          "text": [
            "p-value = 0.851\n",
            "Относительный прирост = -0.6%\n"
          ]
        }
      ],
      "source": [
        "print('p-value = {0:.3f}'.format(stats.mannwhitneyu(orders[np.logical_and(orders['group'] == 'A',\\\n",
        "                    np.logical_not(orders['visitorId'].isin(abnormalUsers)),)]['revenue'],\\\n",
        "            orders[np.logical_and(orders['group'] == 'B',np.logical_not(orders['visitorId'].isin(abnormalUsers)),)]['revenue'],\n",
        "        )[1]))\n",
        "print('Относительный прирост = {0:.1%}'.format(orders[np.logical_and(orders['group'] == 'B',\\\n",
        "                                                    np.logical_not(orders['visitorId'].isin(abnormalUsers)),)]['revenue'].mean()\n",
        "        /orders[np.logical_and(orders['group'] == 'A', np.logical_not(orders['visitorId'].isin(abnormalUsers)),)]\\\n",
        "                                               ['revenue'].mean()- 1))"
      ]
    },
    {
      "cell_type": "markdown",
      "metadata": {
        "id": "jhVzhp_COtRE"
      },
      "source": [
        "**p-value = 0.851, что больше 0.05, значит статистически значимых различий между средними чеками в группах нет. Все также не отвергаем нулевую гипотезу. Значения среднего чека в группах стали ближе друг к доругу.\n",
        "Но исключив аномальные значения, видим, что теперь средний чек группы В сильно уменьшился и стал даже ниже среднего чека группы А.**"
      ]
    },
    {
      "cell_type": "markdown",
      "metadata": {
        "id": "ZYXQxmM2OtRF"
      },
      "source": [
        "### Результаты теста\n"
      ]
    },
    {
      "cell_type": "markdown",
      "metadata": {
        "id": "6zRqrWOqOtRF"
      },
      "source": [
        "\n",
        "> Есть статистически значимые различия по среднему количеству заказов между группами как по «сырым», так и по данным после фильтрации аномалий. Конверсия в группе В стабильно выше, чем в группе А;\n",
        "\n",
        ">Нет статистически значимого различия по среднему чеку между группами ни по «сырым», ни по данным после фильтрации аномалий;\n",
        "\n",
        ">График различия среднего количества заказов между группами сообщает, что результаты группы А хуже группы В и нет значительной тенденции к улучшению:\n",
        "\n",
        ">График различия среднего чека говорит о том, что результаты группы B не зафиксировались, продолжают колебаться. Тем не менее они стабильно лучше результата группы А и сейчас почти на 30 % выше:\n"
      ]
    },
    {
      "cell_type": "markdown",
      "metadata": {
        "id": "RDIcCb4POtRF"
      },
      "source": [
        "## Вывод\n",
        "Имеет смысл остановить тест, зафиксировать победу группы В. Несмотря на отсутствие статистически значимых различий в значениях среднего чека между группами, в группе В более высокое значение среднего количества заказов. Оно выше на 13% по \"сырым\" и 15% по \"очищенным\" данным."
      ]
    }
  ],
  "metadata": {
    "ExecuteTimeLog": [
      {
        "duration": 86,
        "start_time": "2023-02-20T15:35:22.714Z"
      },
      {
        "duration": 846,
        "start_time": "2023-02-20T15:35:37.279Z"
      },
      {
        "duration": 262,
        "start_time": "2023-02-20T15:35:38.823Z"
      },
      {
        "duration": 13,
        "start_time": "2023-02-20T15:47:26.545Z"
      },
      {
        "duration": 10,
        "start_time": "2023-02-20T15:47:59.607Z"
      },
      {
        "duration": 10,
        "start_time": "2023-02-20T15:48:15.092Z"
      },
      {
        "duration": 73,
        "start_time": "2023-02-20T15:50:04.263Z"
      },
      {
        "duration": 4,
        "start_time": "2023-02-20T15:50:19.172Z"
      },
      {
        "duration": 6,
        "start_time": "2023-02-20T15:53:12.570Z"
      },
      {
        "duration": 30,
        "start_time": "2023-02-20T15:58:10.328Z"
      },
      {
        "duration": 9,
        "start_time": "2023-02-20T15:59:10.080Z"
      },
      {
        "duration": 9,
        "start_time": "2023-02-20T15:59:34.180Z"
      },
      {
        "duration": 8,
        "start_time": "2023-02-20T15:59:55.157Z"
      },
      {
        "duration": 8,
        "start_time": "2023-02-20T16:01:47.568Z"
      },
      {
        "duration": 8,
        "start_time": "2023-02-20T16:02:14.913Z"
      },
      {
        "duration": 8,
        "start_time": "2023-02-20T16:02:24.549Z"
      },
      {
        "duration": 9,
        "start_time": "2023-02-20T16:04:16.577Z"
      },
      {
        "duration": 108,
        "start_time": "2023-02-20T16:05:52.159Z"
      },
      {
        "duration": 8,
        "start_time": "2023-02-20T16:06:49.628Z"
      },
      {
        "duration": 8,
        "start_time": "2023-02-20T16:06:59.778Z"
      },
      {
        "duration": 9,
        "start_time": "2023-02-20T16:07:05.545Z"
      },
      {
        "duration": 7,
        "start_time": "2023-02-20T16:07:11.949Z"
      },
      {
        "duration": 8,
        "start_time": "2023-02-20T16:08:00.743Z"
      },
      {
        "duration": 8,
        "start_time": "2023-02-20T16:08:09.365Z"
      },
      {
        "duration": 50,
        "start_time": "2023-02-21T20:05:36.921Z"
      },
      {
        "duration": 842,
        "start_time": "2023-02-21T20:05:50.771Z"
      },
      {
        "duration": 222,
        "start_time": "2023-02-21T20:05:51.616Z"
      },
      {
        "duration": 12,
        "start_time": "2023-02-21T20:05:51.840Z"
      },
      {
        "duration": 52,
        "start_time": "2023-02-21T20:05:51.854Z"
      },
      {
        "duration": 17,
        "start_time": "2023-02-21T20:05:51.908Z"
      },
      {
        "duration": 17,
        "start_time": "2023-02-21T20:05:51.926Z"
      },
      {
        "duration": 33,
        "start_time": "2023-02-21T20:05:51.944Z"
      },
      {
        "duration": 14,
        "start_time": "2023-02-21T20:05:51.980Z"
      },
      {
        "duration": 8,
        "start_time": "2023-02-21T20:05:51.996Z"
      },
      {
        "duration": 12,
        "start_time": "2023-02-21T20:05:52.006Z"
      },
      {
        "duration": 16,
        "start_time": "2023-02-21T20:05:52.020Z"
      },
      {
        "duration": 8,
        "start_time": "2023-02-21T20:05:52.038Z"
      },
      {
        "duration": 3,
        "start_time": "2023-02-21T20:06:54.212Z"
      },
      {
        "duration": 9,
        "start_time": "2023-02-21T20:09:28.817Z"
      },
      {
        "duration": 9,
        "start_time": "2023-02-21T20:09:30.956Z"
      },
      {
        "duration": 8,
        "start_time": "2023-02-21T20:09:33.389Z"
      },
      {
        "duration": 5,
        "start_time": "2023-02-21T20:11:05.139Z"
      },
      {
        "duration": 1738,
        "start_time": "2023-02-21T20:13:35.917Z"
      },
      {
        "duration": 7,
        "start_time": "2023-02-21T20:13:45.107Z"
      },
      {
        "duration": 5,
        "start_time": "2023-02-21T20:15:30.411Z"
      },
      {
        "duration": 4,
        "start_time": "2023-02-21T20:16:15.083Z"
      },
      {
        "duration": 8,
        "start_time": "2023-02-21T20:42:20.669Z"
      },
      {
        "duration": 9,
        "start_time": "2023-02-21T20:42:32.695Z"
      },
      {
        "duration": 7,
        "start_time": "2023-02-21T20:42:42.021Z"
      },
      {
        "duration": 7,
        "start_time": "2023-02-21T20:42:48.842Z"
      },
      {
        "duration": 9,
        "start_time": "2023-02-21T20:42:56.035Z"
      },
      {
        "duration": 8,
        "start_time": "2023-02-21T20:43:01.777Z"
      },
      {
        "duration": 8,
        "start_time": "2023-02-21T20:43:56.665Z"
      },
      {
        "duration": 8,
        "start_time": "2023-02-21T20:44:01.687Z"
      },
      {
        "duration": 509,
        "start_time": "2023-02-21T20:55:22.739Z"
      },
      {
        "duration": 3,
        "start_time": "2023-02-21T20:56:22.064Z"
      },
      {
        "duration": 110,
        "start_time": "2023-02-21T20:56:22.069Z"
      },
      {
        "duration": 10,
        "start_time": "2023-02-21T20:56:22.180Z"
      },
      {
        "duration": 10,
        "start_time": "2023-02-21T20:56:22.192Z"
      },
      {
        "duration": 10,
        "start_time": "2023-02-21T20:56:22.204Z"
      },
      {
        "duration": 4,
        "start_time": "2023-02-21T20:56:22.215Z"
      },
      {
        "duration": 7,
        "start_time": "2023-02-21T20:56:22.221Z"
      },
      {
        "duration": 7,
        "start_time": "2023-02-21T20:56:22.230Z"
      },
      {
        "duration": 7,
        "start_time": "2023-02-21T20:56:22.238Z"
      },
      {
        "duration": 5,
        "start_time": "2023-02-21T20:56:22.253Z"
      },
      {
        "duration": 22,
        "start_time": "2023-02-21T20:56:22.259Z"
      },
      {
        "duration": 9,
        "start_time": "2023-02-21T20:56:22.282Z"
      },
      {
        "duration": 7,
        "start_time": "2023-02-21T20:56:22.293Z"
      },
      {
        "duration": 5,
        "start_time": "2023-02-21T20:56:22.303Z"
      },
      {
        "duration": 6,
        "start_time": "2023-02-21T20:56:22.309Z"
      },
      {
        "duration": 7,
        "start_time": "2023-02-21T20:56:22.316Z"
      },
      {
        "duration": 29,
        "start_time": "2023-02-21T20:56:22.325Z"
      },
      {
        "duration": 14,
        "start_time": "2023-02-21T20:56:22.355Z"
      },
      {
        "duration": 433,
        "start_time": "2023-02-21T20:56:22.370Z"
      },
      {
        "duration": 457,
        "start_time": "2023-02-21T20:56:39.037Z"
      },
      {
        "duration": 3,
        "start_time": "2023-02-21T20:57:09.111Z"
      },
      {
        "duration": 427,
        "start_time": "2023-02-21T20:57:14.081Z"
      },
      {
        "duration": 8,
        "start_time": "2023-02-21T20:57:56.440Z"
      },
      {
        "duration": 506,
        "start_time": "2023-02-21T20:58:30.130Z"
      },
      {
        "duration": 3,
        "start_time": "2023-02-21T20:59:02.511Z"
      },
      {
        "duration": 476,
        "start_time": "2023-02-21T20:59:08.018Z"
      },
      {
        "duration": 71,
        "start_time": "2023-02-21T20:59:27.636Z"
      },
      {
        "duration": 8,
        "start_time": "2023-02-21T21:03:00.155Z"
      },
      {
        "duration": 6,
        "start_time": "2023-02-21T21:03:08.071Z"
      },
      {
        "duration": 8,
        "start_time": "2023-02-21T21:03:09.586Z"
      },
      {
        "duration": 64,
        "start_time": "2023-02-21T21:03:13.069Z"
      },
      {
        "duration": 8,
        "start_time": "2023-02-21T21:03:59.864Z"
      },
      {
        "duration": 209,
        "start_time": "2023-02-21T21:04:48.272Z"
      },
      {
        "duration": 23,
        "start_time": "2023-02-21T21:05:02.927Z"
      },
      {
        "duration": 8,
        "start_time": "2023-02-21T21:05:44.986Z"
      },
      {
        "duration": 264,
        "start_time": "2023-02-21T21:06:32.520Z"
      },
      {
        "duration": 4,
        "start_time": "2023-02-21T21:15:19.206Z"
      },
      {
        "duration": 126,
        "start_time": "2023-02-21T21:15:19.212Z"
      },
      {
        "duration": 10,
        "start_time": "2023-02-21T21:15:19.340Z"
      },
      {
        "duration": 13,
        "start_time": "2023-02-21T21:15:19.352Z"
      },
      {
        "duration": 17,
        "start_time": "2023-02-21T21:15:19.367Z"
      },
      {
        "duration": 9,
        "start_time": "2023-02-21T21:15:19.386Z"
      },
      {
        "duration": 87,
        "start_time": "2023-02-21T21:15:19.396Z"
      },
      {
        "duration": 33,
        "start_time": "2023-02-21T21:15:19.486Z"
      },
      {
        "duration": 38,
        "start_time": "2023-02-21T21:15:19.523Z"
      },
      {
        "duration": 21,
        "start_time": "2023-02-21T21:15:19.563Z"
      },
      {
        "duration": 36,
        "start_time": "2023-02-21T21:15:19.586Z"
      },
      {
        "duration": 27,
        "start_time": "2023-02-21T21:15:19.624Z"
      },
      {
        "duration": 10,
        "start_time": "2023-02-21T21:15:19.653Z"
      },
      {
        "duration": 9,
        "start_time": "2023-02-21T21:15:19.665Z"
      },
      {
        "duration": 12,
        "start_time": "2023-02-21T21:15:19.676Z"
      },
      {
        "duration": 13,
        "start_time": "2023-02-21T21:15:19.690Z"
      },
      {
        "duration": 25,
        "start_time": "2023-02-21T21:15:19.705Z"
      },
      {
        "duration": 20,
        "start_time": "2023-02-21T21:15:19.732Z"
      },
      {
        "duration": 40,
        "start_time": "2023-02-21T21:15:19.756Z"
      },
      {
        "duration": 5,
        "start_time": "2023-02-21T21:15:19.798Z"
      },
      {
        "duration": 33,
        "start_time": "2023-02-21T21:15:19.805Z"
      },
      {
        "duration": 277,
        "start_time": "2023-02-21T21:15:19.841Z"
      },
      {
        "duration": 484,
        "start_time": "2023-02-21T21:15:20.120Z"
      },
      {
        "duration": 328,
        "start_time": "2023-02-21T21:16:47.951Z"
      },
      {
        "duration": 361,
        "start_time": "2023-02-21T21:16:57.250Z"
      },
      {
        "duration": 397,
        "start_time": "2023-02-21T21:19:22.482Z"
      },
      {
        "duration": 11,
        "start_time": "2023-02-21T21:23:26.979Z"
      },
      {
        "duration": 75,
        "start_time": "2023-02-21T21:23:49.210Z"
      },
      {
        "duration": 29,
        "start_time": "2023-02-21T21:23:52.910Z"
      },
      {
        "duration": 477,
        "start_time": "2023-02-21T21:24:33.555Z"
      },
      {
        "duration": 482,
        "start_time": "2023-02-21T21:24:42.254Z"
      },
      {
        "duration": 452,
        "start_time": "2023-02-21T21:27:28.669Z"
      },
      {
        "duration": 33,
        "start_time": "2023-02-21T21:28:49.389Z"
      },
      {
        "duration": 452,
        "start_time": "2023-02-21T21:29:22.342Z"
      },
      {
        "duration": 507,
        "start_time": "2023-02-21T21:29:31.777Z"
      },
      {
        "duration": 35,
        "start_time": "2023-02-21T21:31:26.855Z"
      },
      {
        "duration": 581,
        "start_time": "2023-02-21T21:32:03.429Z"
      },
      {
        "duration": 564,
        "start_time": "2023-02-21T21:32:13.103Z"
      },
      {
        "duration": 410,
        "start_time": "2023-02-21T21:34:44.388Z"
      },
      {
        "duration": 416,
        "start_time": "2023-02-21T21:34:54.207Z"
      },
      {
        "duration": 35,
        "start_time": "2023-02-21T21:36:59.577Z"
      },
      {
        "duration": 343,
        "start_time": "2023-02-21T21:37:29.245Z"
      },
      {
        "duration": 425,
        "start_time": "2023-02-21T21:37:46.354Z"
      },
      {
        "duration": 258,
        "start_time": "2023-02-21T21:38:42.807Z"
      },
      {
        "duration": 47,
        "start_time": "2023-02-24T09:06:25.217Z"
      },
      {
        "duration": 818,
        "start_time": "2023-02-24T09:06:28.582Z"
      },
      {
        "duration": 261,
        "start_time": "2023-02-24T09:06:29.403Z"
      },
      {
        "duration": 13,
        "start_time": "2023-02-24T09:06:29.666Z"
      },
      {
        "duration": 12,
        "start_time": "2023-02-24T09:06:29.681Z"
      },
      {
        "duration": 13,
        "start_time": "2023-02-24T09:06:29.696Z"
      },
      {
        "duration": 5,
        "start_time": "2023-02-24T09:06:29.710Z"
      },
      {
        "duration": 8,
        "start_time": "2023-02-24T09:06:29.717Z"
      },
      {
        "duration": 22,
        "start_time": "2023-02-24T09:06:29.727Z"
      },
      {
        "duration": 8,
        "start_time": "2023-02-24T09:06:29.751Z"
      },
      {
        "duration": 11,
        "start_time": "2023-02-24T09:06:29.763Z"
      },
      {
        "duration": 16,
        "start_time": "2023-02-24T09:06:29.776Z"
      },
      {
        "duration": 8,
        "start_time": "2023-02-24T09:06:29.794Z"
      },
      {
        "duration": 7,
        "start_time": "2023-02-24T09:06:29.804Z"
      },
      {
        "duration": 28,
        "start_time": "2023-02-24T09:06:29.814Z"
      },
      {
        "duration": 7,
        "start_time": "2023-02-24T09:06:29.843Z"
      },
      {
        "duration": 7,
        "start_time": "2023-02-24T09:06:29.852Z"
      },
      {
        "duration": 12,
        "start_time": "2023-02-24T09:06:29.861Z"
      },
      {
        "duration": 8,
        "start_time": "2023-02-24T09:06:29.875Z"
      },
      {
        "duration": 54,
        "start_time": "2023-02-24T09:06:29.884Z"
      },
      {
        "duration": 586,
        "start_time": "2023-02-24T09:06:29.941Z"
      },
      {
        "duration": 471,
        "start_time": "2023-02-24T09:06:30.530Z"
      },
      {
        "duration": 669,
        "start_time": "2023-02-24T09:06:31.003Z"
      },
      {
        "duration": 533,
        "start_time": "2023-02-24T09:06:31.674Z"
      },
      {
        "duration": 15,
        "start_time": "2023-02-24T09:06:32.209Z"
      },
      {
        "duration": 304,
        "start_time": "2023-02-24T09:06:32.226Z"
      },
      {
        "duration": 448,
        "start_time": "2023-02-24T09:15:13.569Z"
      },
      {
        "duration": 281,
        "start_time": "2023-02-24T09:26:02.580Z"
      },
      {
        "duration": 185,
        "start_time": "2023-02-24T09:26:27.783Z"
      },
      {
        "duration": 3,
        "start_time": "2023-02-24T09:26:36.956Z"
      },
      {
        "duration": 145,
        "start_time": "2023-02-24T09:26:36.961Z"
      },
      {
        "duration": 14,
        "start_time": "2023-02-24T09:26:37.108Z"
      },
      {
        "duration": 19,
        "start_time": "2023-02-24T09:26:37.125Z"
      },
      {
        "duration": 27,
        "start_time": "2023-02-24T09:26:37.146Z"
      },
      {
        "duration": 10,
        "start_time": "2023-02-24T09:26:37.175Z"
      },
      {
        "duration": 23,
        "start_time": "2023-02-24T09:26:37.187Z"
      },
      {
        "duration": 21,
        "start_time": "2023-02-24T09:26:37.212Z"
      },
      {
        "duration": 16,
        "start_time": "2023-02-24T09:26:37.235Z"
      },
      {
        "duration": 13,
        "start_time": "2023-02-24T09:26:37.254Z"
      },
      {
        "duration": 25,
        "start_time": "2023-02-24T09:26:37.268Z"
      },
      {
        "duration": 25,
        "start_time": "2023-02-24T09:26:37.294Z"
      },
      {
        "duration": 24,
        "start_time": "2023-02-24T09:26:37.322Z"
      },
      {
        "duration": 30,
        "start_time": "2023-02-24T09:26:37.347Z"
      },
      {
        "duration": 19,
        "start_time": "2023-02-24T09:26:37.379Z"
      },
      {
        "duration": 13,
        "start_time": "2023-02-24T09:26:37.400Z"
      },
      {
        "duration": 14,
        "start_time": "2023-02-24T09:26:37.415Z"
      },
      {
        "duration": 15,
        "start_time": "2023-02-24T09:26:37.431Z"
      },
      {
        "duration": 35,
        "start_time": "2023-02-24T09:26:37.448Z"
      },
      {
        "duration": 322,
        "start_time": "2023-02-24T09:26:37.485Z"
      },
      {
        "duration": 201,
        "start_time": "2023-02-24T09:26:37.809Z"
      },
      {
        "duration": 192,
        "start_time": "2023-02-24T09:26:42.180Z"
      },
      {
        "duration": 268,
        "start_time": "2023-02-24T09:26:55.356Z"
      },
      {
        "duration": 178,
        "start_time": "2023-02-24T09:27:03.587Z"
      },
      {
        "duration": 203,
        "start_time": "2023-02-24T09:27:45.041Z"
      },
      {
        "duration": 184,
        "start_time": "2023-02-24T09:28:29.740Z"
      },
      {
        "duration": 368,
        "start_time": "2023-02-24T09:28:47.784Z"
      },
      {
        "duration": 348,
        "start_time": "2023-02-24T09:30:04.220Z"
      },
      {
        "duration": 297,
        "start_time": "2023-02-24T09:30:16.558Z"
      },
      {
        "duration": 295,
        "start_time": "2023-02-24T09:30:22.244Z"
      },
      {
        "duration": 311,
        "start_time": "2023-02-24T09:31:01.815Z"
      },
      {
        "duration": 37,
        "start_time": "2023-02-24T09:39:11.679Z"
      },
      {
        "duration": 20,
        "start_time": "2023-02-24T09:40:29.306Z"
      },
      {
        "duration": 8,
        "start_time": "2023-02-24T09:40:47.169Z"
      },
      {
        "duration": 136,
        "start_time": "2023-02-24T09:41:19.030Z"
      },
      {
        "duration": 107,
        "start_time": "2023-02-24T09:41:27.395Z"
      },
      {
        "duration": 8,
        "start_time": "2023-02-24T09:44:49.988Z"
      },
      {
        "duration": 7,
        "start_time": "2023-02-24T09:46:36.169Z"
      },
      {
        "duration": 7,
        "start_time": "2023-02-24T09:47:14.580Z"
      },
      {
        "duration": 9,
        "start_time": "2023-02-24T09:47:33.089Z"
      },
      {
        "duration": 8,
        "start_time": "2023-02-24T09:47:52.754Z"
      },
      {
        "duration": 12,
        "start_time": "2023-02-24T09:54:34.030Z"
      },
      {
        "duration": 12,
        "start_time": "2023-02-24T09:54:41.081Z"
      },
      {
        "duration": 16,
        "start_time": "2023-02-24T09:54:53.921Z"
      },
      {
        "duration": 233,
        "start_time": "2023-02-24T09:55:26.536Z"
      },
      {
        "duration": 138,
        "start_time": "2023-02-24T09:55:36.886Z"
      },
      {
        "duration": 9,
        "start_time": "2023-02-24T09:58:12.383Z"
      },
      {
        "duration": 8,
        "start_time": "2023-02-24T09:58:20.676Z"
      },
      {
        "duration": 119,
        "start_time": "2023-02-24T10:05:06.807Z"
      },
      {
        "duration": 142,
        "start_time": "2023-02-24T10:06:29.409Z"
      },
      {
        "duration": 575,
        "start_time": "2023-02-24T10:08:08.152Z"
      },
      {
        "duration": 643,
        "start_time": "2023-02-24T10:08:56.737Z"
      },
      {
        "duration": 554,
        "start_time": "2023-02-24T10:09:03.396Z"
      },
      {
        "duration": 15,
        "start_time": "2023-02-24T10:11:42.721Z"
      },
      {
        "duration": 9,
        "start_time": "2023-02-24T10:20:19.692Z"
      },
      {
        "duration": 71,
        "start_time": "2023-02-24T10:20:21.910Z"
      },
      {
        "duration": 1557,
        "start_time": "2023-02-24T10:21:36.810Z"
      },
      {
        "duration": 155,
        "start_time": "2023-02-24T10:22:34.249Z"
      },
      {
        "duration": 8,
        "start_time": "2023-02-24T10:22:38.450Z"
      },
      {
        "duration": 4,
        "start_time": "2023-02-24T10:22:54.539Z"
      },
      {
        "duration": 117,
        "start_time": "2023-02-24T10:22:54.578Z"
      },
      {
        "duration": 15,
        "start_time": "2023-02-24T10:22:54.698Z"
      },
      {
        "duration": 33,
        "start_time": "2023-02-24T10:22:54.716Z"
      },
      {
        "duration": 35,
        "start_time": "2023-02-24T10:22:54.751Z"
      },
      {
        "duration": 27,
        "start_time": "2023-02-24T10:22:54.789Z"
      },
      {
        "duration": 34,
        "start_time": "2023-02-24T10:22:54.818Z"
      },
      {
        "duration": 21,
        "start_time": "2023-02-24T10:22:54.854Z"
      },
      {
        "duration": 37,
        "start_time": "2023-02-24T10:22:54.879Z"
      },
      {
        "duration": 32,
        "start_time": "2023-02-24T10:22:54.918Z"
      },
      {
        "duration": 29,
        "start_time": "2023-02-24T10:22:54.952Z"
      },
      {
        "duration": 46,
        "start_time": "2023-02-24T10:22:54.985Z"
      },
      {
        "duration": 34,
        "start_time": "2023-02-24T10:22:55.033Z"
      },
      {
        "duration": 40,
        "start_time": "2023-02-24T10:22:55.070Z"
      },
      {
        "duration": 38,
        "start_time": "2023-02-24T10:22:55.115Z"
      },
      {
        "duration": 21,
        "start_time": "2023-02-24T10:22:55.155Z"
      },
      {
        "duration": 37,
        "start_time": "2023-02-24T10:22:55.178Z"
      },
      {
        "duration": 40,
        "start_time": "2023-02-24T10:22:55.218Z"
      },
      {
        "duration": 53,
        "start_time": "2023-02-24T10:22:55.260Z"
      },
      {
        "duration": 392,
        "start_time": "2023-02-24T10:22:55.318Z"
      },
      {
        "duration": 255,
        "start_time": "2023-02-24T10:22:55.713Z"
      },
      {
        "duration": 255,
        "start_time": "2023-02-24T10:22:55.970Z"
      },
      {
        "duration": 383,
        "start_time": "2023-02-24T10:22:56.227Z"
      },
      {
        "duration": 245,
        "start_time": "2023-02-24T10:22:56.616Z"
      },
      {
        "duration": 11,
        "start_time": "2023-02-24T10:22:56.863Z"
      },
      {
        "duration": 417,
        "start_time": "2023-02-24T10:22:56.877Z"
      },
      {
        "duration": 17,
        "start_time": "2023-02-24T10:22:57.299Z"
      },
      {
        "duration": 328,
        "start_time": "2023-02-24T10:22:57.318Z"
      },
      {
        "duration": 9,
        "start_time": "2023-02-24T10:22:57.648Z"
      },
      {
        "duration": 231,
        "start_time": "2023-02-24T10:22:57.659Z"
      },
      {
        "duration": 22,
        "start_time": "2023-02-24T10:22:57.892Z"
      },
      {
        "duration": 529,
        "start_time": "2023-02-24T10:22:57.917Z"
      },
      {
        "duration": 16,
        "start_time": "2023-02-24T10:22:58.447Z"
      },
      {
        "duration": 21,
        "start_time": "2023-02-24T10:22:58.465Z"
      },
      {
        "duration": 251,
        "start_time": "2023-02-24T10:22:58.489Z"
      },
      {
        "duration": 9,
        "start_time": "2023-02-24T10:22:58.742Z"
      },
      {
        "duration": 16,
        "start_time": "2023-02-24T10:23:55.187Z"
      },
      {
        "duration": 16,
        "start_time": "2023-02-24T10:23:57.978Z"
      },
      {
        "duration": 10,
        "start_time": "2023-02-24T10:26:46.402Z"
      },
      {
        "duration": 13,
        "start_time": "2023-02-24T10:30:03.327Z"
      },
      {
        "duration": 1489,
        "start_time": "2023-02-24T10:31:41.875Z"
      },
      {
        "duration": 40,
        "start_time": "2023-02-24T10:32:34.150Z"
      },
      {
        "duration": 1243,
        "start_time": "2023-02-24T10:34:58.498Z"
      },
      {
        "duration": 22,
        "start_time": "2023-02-24T10:35:28.588Z"
      },
      {
        "duration": 8,
        "start_time": "2023-02-24T11:51:56.236Z"
      },
      {
        "duration": 3,
        "start_time": "2023-02-24T11:52:15.875Z"
      },
      {
        "duration": 144,
        "start_time": "2023-02-24T11:52:15.880Z"
      },
      {
        "duration": 15,
        "start_time": "2023-02-24T11:52:16.027Z"
      },
      {
        "duration": 34,
        "start_time": "2023-02-24T11:52:16.050Z"
      },
      {
        "duration": 18,
        "start_time": "2023-02-24T11:52:16.086Z"
      },
      {
        "duration": 22,
        "start_time": "2023-02-24T11:52:16.106Z"
      },
      {
        "duration": 25,
        "start_time": "2023-02-24T11:52:16.130Z"
      },
      {
        "duration": 30,
        "start_time": "2023-02-24T11:52:16.156Z"
      },
      {
        "duration": 29,
        "start_time": "2023-02-24T11:52:16.188Z"
      },
      {
        "duration": 27,
        "start_time": "2023-02-24T11:52:16.219Z"
      },
      {
        "duration": 26,
        "start_time": "2023-02-24T11:52:16.254Z"
      },
      {
        "duration": 14,
        "start_time": "2023-02-24T11:52:16.281Z"
      },
      {
        "duration": 25,
        "start_time": "2023-02-24T11:52:16.297Z"
      },
      {
        "duration": 43,
        "start_time": "2023-02-24T11:52:16.324Z"
      },
      {
        "duration": 15,
        "start_time": "2023-02-24T11:52:16.369Z"
      },
      {
        "duration": 18,
        "start_time": "2023-02-24T11:52:16.386Z"
      },
      {
        "duration": 25,
        "start_time": "2023-02-24T11:52:16.406Z"
      },
      {
        "duration": 76,
        "start_time": "2023-02-24T11:52:16.433Z"
      },
      {
        "duration": 0,
        "start_time": "2023-02-24T11:52:16.511Z"
      },
      {
        "duration": 6,
        "start_time": "2023-02-24T11:52:26.489Z"
      },
      {
        "duration": 10,
        "start_time": "2023-02-24T11:52:42.555Z"
      },
      {
        "duration": 300,
        "start_time": "2023-02-24T12:23:00.944Z"
      },
      {
        "duration": 193,
        "start_time": "2023-02-24T12:23:14.755Z"
      },
      {
        "duration": 201,
        "start_time": "2023-02-24T12:23:23.119Z"
      },
      {
        "duration": 217,
        "start_time": "2023-02-24T12:30:47.246Z"
      },
      {
        "duration": 266,
        "start_time": "2023-02-24T12:31:18.427Z"
      },
      {
        "duration": 290,
        "start_time": "2023-02-24T12:32:06.913Z"
      },
      {
        "duration": 76,
        "start_time": "2023-02-24T12:32:52.635Z"
      },
      {
        "duration": 73,
        "start_time": "2023-02-24T12:33:21.962Z"
      },
      {
        "duration": 189,
        "start_time": "2023-02-24T12:33:28.118Z"
      },
      {
        "duration": 185,
        "start_time": "2023-02-24T12:33:54.558Z"
      },
      {
        "duration": 268,
        "start_time": "2023-02-24T12:35:22.709Z"
      },
      {
        "duration": 243,
        "start_time": "2023-02-24T12:35:30.547Z"
      },
      {
        "duration": 334,
        "start_time": "2023-02-24T12:35:41.383Z"
      },
      {
        "duration": 293,
        "start_time": "2023-02-24T12:38:58.461Z"
      },
      {
        "duration": 231,
        "start_time": "2023-02-24T12:45:08.135Z"
      },
      {
        "duration": 251,
        "start_time": "2023-02-24T12:45:38.717Z"
      },
      {
        "duration": 309,
        "start_time": "2023-02-24T12:48:31.483Z"
      },
      {
        "duration": 283,
        "start_time": "2023-02-24T12:53:40.473Z"
      },
      {
        "duration": 292,
        "start_time": "2023-02-24T12:54:10.695Z"
      },
      {
        "duration": 330,
        "start_time": "2023-02-24T12:54:55.357Z"
      },
      {
        "duration": 302,
        "start_time": "2023-02-24T12:55:13.558Z"
      },
      {
        "duration": 299,
        "start_time": "2023-02-24T12:55:37.966Z"
      },
      {
        "duration": 322,
        "start_time": "2023-02-24T12:55:46.749Z"
      },
      {
        "duration": 385,
        "start_time": "2023-02-24T13:03:03.690Z"
      },
      {
        "duration": 351,
        "start_time": "2023-02-24T13:03:11.562Z"
      },
      {
        "duration": 383,
        "start_time": "2023-02-24T13:03:17.690Z"
      },
      {
        "duration": 88,
        "start_time": "2023-02-24T13:03:42.652Z"
      },
      {
        "duration": 220,
        "start_time": "2023-02-24T13:03:49.539Z"
      },
      {
        "duration": 213,
        "start_time": "2023-02-24T13:03:56.237Z"
      },
      {
        "duration": 376,
        "start_time": "2023-02-24T13:04:23.435Z"
      },
      {
        "duration": 382,
        "start_time": "2023-02-24T13:04:38.206Z"
      },
      {
        "duration": 21,
        "start_time": "2023-02-24T13:08:04.497Z"
      },
      {
        "duration": 6,
        "start_time": "2023-02-24T13:10:41.325Z"
      },
      {
        "duration": 5,
        "start_time": "2023-02-24T13:12:17.791Z"
      },
      {
        "duration": 218,
        "start_time": "2023-02-24T13:13:47.004Z"
      },
      {
        "duration": 213,
        "start_time": "2023-02-24T13:14:01.561Z"
      },
      {
        "duration": 184,
        "start_time": "2023-02-24T13:14:12.862Z"
      },
      {
        "duration": 313,
        "start_time": "2023-02-24T13:22:39.429Z"
      },
      {
        "duration": 351,
        "start_time": "2023-02-24T13:26:09.238Z"
      },
      {
        "duration": 447,
        "start_time": "2023-02-24T13:27:32.582Z"
      },
      {
        "duration": 386,
        "start_time": "2023-02-24T13:27:54.940Z"
      },
      {
        "duration": 356,
        "start_time": "2023-02-24T13:28:21.698Z"
      },
      {
        "duration": 431,
        "start_time": "2023-02-24T13:28:42.932Z"
      },
      {
        "duration": 139,
        "start_time": "2023-02-24T13:30:49.768Z"
      },
      {
        "duration": 13,
        "start_time": "2023-02-24T13:33:12.462Z"
      },
      {
        "duration": 127,
        "start_time": "2023-02-24T13:33:34.922Z"
      },
      {
        "duration": 173,
        "start_time": "2023-02-24T13:33:39.106Z"
      },
      {
        "duration": 131,
        "start_time": "2023-02-24T13:34:00.045Z"
      },
      {
        "duration": 215,
        "start_time": "2023-02-24T13:35:19.351Z"
      },
      {
        "duration": 192,
        "start_time": "2023-02-24T13:35:27.550Z"
      },
      {
        "duration": 190,
        "start_time": "2023-02-24T13:35:33.561Z"
      },
      {
        "duration": 84,
        "start_time": "2023-02-24T13:36:55.374Z"
      },
      {
        "duration": 219,
        "start_time": "2023-02-24T13:36:59.153Z"
      },
      {
        "duration": 343,
        "start_time": "2023-02-24T13:37:26.567Z"
      },
      {
        "duration": 236,
        "start_time": "2023-02-24T13:37:34.399Z"
      },
      {
        "duration": 281,
        "start_time": "2023-02-24T13:38:29.775Z"
      },
      {
        "duration": 350,
        "start_time": "2023-02-24T13:44:49.827Z"
      },
      {
        "duration": 11,
        "start_time": "2023-02-24T13:47:26.942Z"
      },
      {
        "duration": 250,
        "start_time": "2023-02-24T13:47:56.721Z"
      },
      {
        "duration": 245,
        "start_time": "2023-02-24T13:48:27.213Z"
      },
      {
        "duration": 205,
        "start_time": "2023-02-24T13:50:40.364Z"
      },
      {
        "duration": 214,
        "start_time": "2023-02-24T13:50:48.995Z"
      },
      {
        "duration": 15,
        "start_time": "2023-02-24T13:56:52.605Z"
      },
      {
        "duration": 11,
        "start_time": "2023-02-24T13:57:14.517Z"
      },
      {
        "duration": 12,
        "start_time": "2023-02-24T13:57:28.052Z"
      },
      {
        "duration": 9,
        "start_time": "2023-02-24T13:57:47.111Z"
      },
      {
        "duration": 8,
        "start_time": "2023-02-24T14:05:00.633Z"
      },
      {
        "duration": 7,
        "start_time": "2023-02-24T14:06:18.107Z"
      },
      {
        "duration": 12,
        "start_time": "2023-02-24T14:06:26.398Z"
      },
      {
        "duration": 9,
        "start_time": "2023-02-24T14:06:39.460Z"
      },
      {
        "duration": 10,
        "start_time": "2023-02-24T14:32:44.536Z"
      },
      {
        "duration": 11,
        "start_time": "2023-02-24T14:32:58.489Z"
      },
      {
        "duration": 14,
        "start_time": "2023-02-24T14:34:08.436Z"
      },
      {
        "duration": 8,
        "start_time": "2023-02-24T14:35:06.852Z"
      },
      {
        "duration": 4,
        "start_time": "2023-02-24T14:37:12.922Z"
      },
      {
        "duration": 140,
        "start_time": "2023-02-24T14:37:12.929Z"
      },
      {
        "duration": 15,
        "start_time": "2023-02-24T14:37:13.070Z"
      },
      {
        "duration": 16,
        "start_time": "2023-02-24T14:37:13.087Z"
      },
      {
        "duration": 17,
        "start_time": "2023-02-24T14:37:13.106Z"
      },
      {
        "duration": 10,
        "start_time": "2023-02-24T14:37:13.125Z"
      },
      {
        "duration": 10,
        "start_time": "2023-02-24T14:37:13.137Z"
      },
      {
        "duration": 9,
        "start_time": "2023-02-24T14:37:13.149Z"
      },
      {
        "duration": 8,
        "start_time": "2023-02-24T14:37:13.160Z"
      },
      {
        "duration": 8,
        "start_time": "2023-02-24T14:37:13.169Z"
      },
      {
        "duration": 14,
        "start_time": "2023-02-24T14:37:13.179Z"
      },
      {
        "duration": 19,
        "start_time": "2023-02-24T14:37:13.195Z"
      },
      {
        "duration": 29,
        "start_time": "2023-02-24T14:37:13.217Z"
      },
      {
        "duration": 21,
        "start_time": "2023-02-24T14:37:13.249Z"
      },
      {
        "duration": 19,
        "start_time": "2023-02-24T14:37:13.272Z"
      },
      {
        "duration": 25,
        "start_time": "2023-02-24T14:37:13.293Z"
      },
      {
        "duration": 25,
        "start_time": "2023-02-24T14:37:13.320Z"
      },
      {
        "duration": 21,
        "start_time": "2023-02-24T14:37:13.348Z"
      },
      {
        "duration": 39,
        "start_time": "2023-02-24T14:37:13.371Z"
      },
      {
        "duration": 31,
        "start_time": "2023-02-24T14:37:13.412Z"
      },
      {
        "duration": 292,
        "start_time": "2023-02-24T14:37:13.444Z"
      },
      {
        "duration": 235,
        "start_time": "2023-02-24T14:37:13.738Z"
      },
      {
        "duration": 10,
        "start_time": "2023-02-24T14:37:13.976Z"
      },
      {
        "duration": 231,
        "start_time": "2023-02-24T14:37:13.988Z"
      },
      {
        "duration": 360,
        "start_time": "2023-02-24T14:37:14.221Z"
      },
      {
        "duration": 6,
        "start_time": "2023-02-24T14:37:14.584Z"
      },
      {
        "duration": 321,
        "start_time": "2023-02-24T14:37:14.591Z"
      },
      {
        "duration": 364,
        "start_time": "2023-02-24T14:37:14.916Z"
      },
      {
        "duration": 8,
        "start_time": "2023-02-24T14:37:15.281Z"
      },
      {
        "duration": 19,
        "start_time": "2023-02-24T14:37:15.291Z"
      },
      {
        "duration": 164,
        "start_time": "2023-02-24T14:37:15.312Z"
      },
      {
        "duration": 140,
        "start_time": "2023-02-24T14:37:15.479Z"
      },
      {
        "duration": 7,
        "start_time": "2023-02-24T14:37:15.621Z"
      },
      {
        "duration": 141,
        "start_time": "2023-02-24T14:37:15.637Z"
      },
      {
        "duration": 8,
        "start_time": "2023-02-24T14:37:15.780Z"
      },
      {
        "duration": 422,
        "start_time": "2023-02-24T14:37:15.791Z"
      },
      {
        "duration": 12,
        "start_time": "2023-02-24T14:37:16.215Z"
      },
      {
        "duration": 9,
        "start_time": "2023-02-24T14:37:16.237Z"
      },
      {
        "duration": 13,
        "start_time": "2023-02-24T14:37:16.247Z"
      },
      {
        "duration": 42,
        "start_time": "2023-02-24T14:37:16.261Z"
      },
      {
        "duration": 47,
        "start_time": "2023-02-24T14:37:16.305Z"
      },
      {
        "duration": 27,
        "start_time": "2023-02-24T14:37:16.353Z"
      },
      {
        "duration": 4,
        "start_time": "2023-02-24T14:38:26.376Z"
      },
      {
        "duration": 109,
        "start_time": "2023-02-24T14:38:26.382Z"
      },
      {
        "duration": 11,
        "start_time": "2023-02-24T14:38:26.493Z"
      },
      {
        "duration": 15,
        "start_time": "2023-02-24T14:38:26.506Z"
      },
      {
        "duration": 11,
        "start_time": "2023-02-24T14:38:26.523Z"
      },
      {
        "duration": 6,
        "start_time": "2023-02-24T14:38:26.536Z"
      },
      {
        "duration": 9,
        "start_time": "2023-02-24T14:38:26.543Z"
      },
      {
        "duration": 11,
        "start_time": "2023-02-24T14:38:26.553Z"
      },
      {
        "duration": 9,
        "start_time": "2023-02-24T14:38:26.567Z"
      },
      {
        "duration": 7,
        "start_time": "2023-02-24T14:38:26.578Z"
      },
      {
        "duration": 8,
        "start_time": "2023-02-24T14:38:26.587Z"
      },
      {
        "duration": 10,
        "start_time": "2023-02-24T14:38:26.596Z"
      },
      {
        "duration": 32,
        "start_time": "2023-02-24T14:38:26.608Z"
      },
      {
        "duration": 9,
        "start_time": "2023-02-24T14:38:26.642Z"
      },
      {
        "duration": 6,
        "start_time": "2023-02-24T14:38:26.653Z"
      },
      {
        "duration": 6,
        "start_time": "2023-02-24T14:38:26.660Z"
      },
      {
        "duration": 10,
        "start_time": "2023-02-24T14:38:26.668Z"
      },
      {
        "duration": 8,
        "start_time": "2023-02-24T14:38:26.679Z"
      },
      {
        "duration": 13,
        "start_time": "2023-02-24T14:38:26.688Z"
      },
      {
        "duration": 54,
        "start_time": "2023-02-24T14:38:26.702Z"
      },
      {
        "duration": 301,
        "start_time": "2023-02-24T14:38:26.758Z"
      },
      {
        "duration": 219,
        "start_time": "2023-02-24T14:38:27.061Z"
      },
      {
        "duration": 8,
        "start_time": "2023-02-24T14:38:27.281Z"
      },
      {
        "duration": 235,
        "start_time": "2023-02-24T14:38:27.292Z"
      },
      {
        "duration": 336,
        "start_time": "2023-02-24T14:38:27.528Z"
      },
      {
        "duration": 5,
        "start_time": "2023-02-24T14:38:27.865Z"
      },
      {
        "duration": 217,
        "start_time": "2023-02-24T14:38:27.872Z"
      },
      {
        "duration": 345,
        "start_time": "2023-02-24T14:38:28.091Z"
      },
      {
        "duration": 8,
        "start_time": "2023-02-24T14:38:32.127Z"
      },
      {
        "duration": 1158,
        "start_time": "2023-02-24T14:39:19.760Z"
      },
      {
        "duration": 133,
        "start_time": "2023-02-24T14:39:20.920Z"
      },
      {
        "duration": 12,
        "start_time": "2023-02-24T14:39:21.055Z"
      },
      {
        "duration": 25,
        "start_time": "2023-02-24T14:39:21.069Z"
      },
      {
        "duration": 30,
        "start_time": "2023-02-24T14:39:21.096Z"
      },
      {
        "duration": 23,
        "start_time": "2023-02-24T14:39:21.127Z"
      },
      {
        "duration": 22,
        "start_time": "2023-02-24T14:39:21.151Z"
      },
      {
        "duration": 28,
        "start_time": "2023-02-24T14:39:21.175Z"
      },
      {
        "duration": 20,
        "start_time": "2023-02-24T14:39:21.205Z"
      },
      {
        "duration": 30,
        "start_time": "2023-02-24T14:39:21.229Z"
      },
      {
        "duration": 35,
        "start_time": "2023-02-24T14:39:21.261Z"
      },
      {
        "duration": 28,
        "start_time": "2023-02-24T14:39:21.298Z"
      },
      {
        "duration": 25,
        "start_time": "2023-02-24T14:39:21.328Z"
      },
      {
        "duration": 28,
        "start_time": "2023-02-24T14:39:21.355Z"
      },
      {
        "duration": 27,
        "start_time": "2023-02-24T14:39:21.385Z"
      },
      {
        "duration": 33,
        "start_time": "2023-02-24T14:39:21.414Z"
      },
      {
        "duration": 42,
        "start_time": "2023-02-24T14:39:21.448Z"
      },
      {
        "duration": 34,
        "start_time": "2023-02-24T14:39:21.492Z"
      },
      {
        "duration": 31,
        "start_time": "2023-02-24T14:39:21.528Z"
      },
      {
        "duration": 50,
        "start_time": "2023-02-24T14:39:21.561Z"
      },
      {
        "duration": 300,
        "start_time": "2023-02-24T14:39:21.612Z"
      },
      {
        "duration": 300,
        "start_time": "2023-02-24T14:39:21.914Z"
      },
      {
        "duration": 8,
        "start_time": "2023-02-24T14:39:22.216Z"
      },
      {
        "duration": 215,
        "start_time": "2023-02-24T14:39:22.226Z"
      },
      {
        "duration": 336,
        "start_time": "2023-02-24T14:39:22.443Z"
      },
      {
        "duration": 5,
        "start_time": "2023-02-24T14:39:22.781Z"
      },
      {
        "duration": 226,
        "start_time": "2023-02-24T14:39:22.788Z"
      },
      {
        "duration": 352,
        "start_time": "2023-02-24T14:39:23.018Z"
      },
      {
        "duration": 109,
        "start_time": "2023-02-24T14:39:23.371Z"
      },
      {
        "duration": 0,
        "start_time": "2023-02-24T14:39:23.481Z"
      },
      {
        "duration": 0,
        "start_time": "2023-02-24T14:39:23.483Z"
      },
      {
        "duration": 0,
        "start_time": "2023-02-24T14:39:23.484Z"
      },
      {
        "duration": 0,
        "start_time": "2023-02-24T14:39:23.485Z"
      },
      {
        "duration": 0,
        "start_time": "2023-02-24T14:39:23.486Z"
      },
      {
        "duration": 0,
        "start_time": "2023-02-24T14:39:23.487Z"
      },
      {
        "duration": 0,
        "start_time": "2023-02-24T14:39:23.488Z"
      },
      {
        "duration": 0,
        "start_time": "2023-02-24T14:39:23.489Z"
      },
      {
        "duration": 0,
        "start_time": "2023-02-24T14:39:23.490Z"
      },
      {
        "duration": 0,
        "start_time": "2023-02-24T14:39:23.491Z"
      },
      {
        "duration": 0,
        "start_time": "2023-02-24T14:39:23.492Z"
      },
      {
        "duration": 0,
        "start_time": "2023-02-24T14:39:23.492Z"
      },
      {
        "duration": 0,
        "start_time": "2023-02-24T14:39:23.494Z"
      },
      {
        "duration": 11,
        "start_time": "2023-02-24T14:39:55.578Z"
      },
      {
        "duration": 11,
        "start_time": "2023-02-24T14:40:46.337Z"
      },
      {
        "duration": 170,
        "start_time": "2023-02-24T14:40:46.350Z"
      },
      {
        "duration": 122,
        "start_time": "2023-02-24T14:40:46.522Z"
      },
      {
        "duration": 7,
        "start_time": "2023-02-24T14:40:46.646Z"
      },
      {
        "duration": 144,
        "start_time": "2023-02-24T14:40:46.654Z"
      },
      {
        "duration": 8,
        "start_time": "2023-02-24T14:40:46.800Z"
      },
      {
        "duration": 511,
        "start_time": "2023-02-24T14:40:46.810Z"
      },
      {
        "duration": 24,
        "start_time": "2023-02-24T14:40:47.323Z"
      },
      {
        "duration": 35,
        "start_time": "2023-02-24T14:40:47.350Z"
      },
      {
        "duration": 18,
        "start_time": "2023-02-24T14:40:47.387Z"
      },
      {
        "duration": 44,
        "start_time": "2023-02-24T14:40:47.407Z"
      },
      {
        "duration": 19,
        "start_time": "2023-02-24T14:40:47.453Z"
      },
      {
        "duration": 12,
        "start_time": "2023-02-24T14:40:47.474Z"
      },
      {
        "duration": 147,
        "start_time": "2023-02-24T14:42:28.871Z"
      },
      {
        "duration": 150,
        "start_time": "2023-02-24T14:42:31.689Z"
      },
      {
        "duration": 176,
        "start_time": "2023-02-24T14:42:39.561Z"
      },
      {
        "duration": 142,
        "start_time": "2023-02-24T14:42:46.225Z"
      },
      {
        "duration": 137,
        "start_time": "2023-02-24T14:44:39.739Z"
      },
      {
        "duration": 186,
        "start_time": "2023-02-24T14:45:03.539Z"
      },
      {
        "duration": 143,
        "start_time": "2023-02-24T14:45:21.520Z"
      },
      {
        "duration": 149,
        "start_time": "2023-02-24T14:45:26.731Z"
      },
      {
        "duration": 151,
        "start_time": "2023-02-24T14:45:31.546Z"
      },
      {
        "duration": 151,
        "start_time": "2023-02-24T14:45:37.717Z"
      },
      {
        "duration": 144,
        "start_time": "2023-02-24T14:45:46.922Z"
      },
      {
        "duration": 153,
        "start_time": "2023-02-24T14:45:51.139Z"
      },
      {
        "duration": 224,
        "start_time": "2023-02-24T14:45:57.035Z"
      },
      {
        "duration": 8,
        "start_time": "2023-02-24T14:51:36.326Z"
      },
      {
        "duration": 78,
        "start_time": "2023-02-24T14:52:20.856Z"
      },
      {
        "duration": 170,
        "start_time": "2023-02-24T14:52:24.402Z"
      },
      {
        "duration": 23,
        "start_time": "2023-02-24T15:09:55.322Z"
      },
      {
        "duration": 369,
        "start_time": "2023-02-24T15:11:23.742Z"
      },
      {
        "duration": 401,
        "start_time": "2023-02-24T15:11:59.325Z"
      },
      {
        "duration": 232,
        "start_time": "2023-02-24T15:12:28.806Z"
      },
      {
        "duration": 7,
        "start_time": "2023-02-24T15:15:43.956Z"
      },
      {
        "duration": 15,
        "start_time": "2023-02-24T15:15:47.256Z"
      },
      {
        "duration": 216,
        "start_time": "2023-02-24T15:22:54.783Z"
      },
      {
        "duration": 154,
        "start_time": "2023-02-24T15:23:07.678Z"
      },
      {
        "duration": 284,
        "start_time": "2023-02-24T15:23:18.718Z"
      },
      {
        "duration": 164,
        "start_time": "2023-02-24T15:24:27.006Z"
      },
      {
        "duration": 164,
        "start_time": "2023-02-24T15:24:36.436Z"
      },
      {
        "duration": 199,
        "start_time": "2023-02-24T15:25:39.275Z"
      },
      {
        "duration": 73,
        "start_time": "2023-02-24T15:27:03.423Z"
      },
      {
        "duration": 445,
        "start_time": "2023-02-24T15:29:58.983Z"
      },
      {
        "duration": 259,
        "start_time": "2023-02-24T15:32:18.733Z"
      },
      {
        "duration": 217,
        "start_time": "2023-02-24T15:32:55.898Z"
      },
      {
        "duration": 24,
        "start_time": "2023-02-24T15:32:58.077Z"
      },
      {
        "duration": 30,
        "start_time": "2023-02-24T15:33:29.686Z"
      },
      {
        "duration": 26,
        "start_time": "2023-02-24T15:33:47.524Z"
      },
      {
        "duration": 27,
        "start_time": "2023-02-24T15:34:02.606Z"
      },
      {
        "duration": 4,
        "start_time": "2023-02-24T15:34:23.683Z"
      },
      {
        "duration": 126,
        "start_time": "2023-02-24T15:34:23.690Z"
      },
      {
        "duration": 13,
        "start_time": "2023-02-24T15:34:23.818Z"
      },
      {
        "duration": 23,
        "start_time": "2023-02-24T15:34:23.832Z"
      },
      {
        "duration": 30,
        "start_time": "2023-02-24T15:34:23.858Z"
      },
      {
        "duration": 19,
        "start_time": "2023-02-24T15:34:23.890Z"
      },
      {
        "duration": 28,
        "start_time": "2023-02-24T15:34:23.911Z"
      },
      {
        "duration": 19,
        "start_time": "2023-02-24T15:34:23.942Z"
      },
      {
        "duration": 27,
        "start_time": "2023-02-24T15:34:23.963Z"
      },
      {
        "duration": 16,
        "start_time": "2023-02-24T15:34:23.992Z"
      },
      {
        "duration": 27,
        "start_time": "2023-02-24T15:34:24.012Z"
      },
      {
        "duration": 31,
        "start_time": "2023-02-24T15:34:24.042Z"
      },
      {
        "duration": 26,
        "start_time": "2023-02-24T15:34:24.075Z"
      },
      {
        "duration": 20,
        "start_time": "2023-02-24T15:34:24.103Z"
      },
      {
        "duration": 34,
        "start_time": "2023-02-24T15:34:24.126Z"
      },
      {
        "duration": 19,
        "start_time": "2023-02-24T15:34:24.162Z"
      },
      {
        "duration": 28,
        "start_time": "2023-02-24T15:34:24.183Z"
      },
      {
        "duration": 26,
        "start_time": "2023-02-24T15:34:24.213Z"
      },
      {
        "duration": 28,
        "start_time": "2023-02-24T15:34:24.241Z"
      },
      {
        "duration": 47,
        "start_time": "2023-02-24T15:34:24.271Z"
      },
      {
        "duration": 323,
        "start_time": "2023-02-24T15:34:24.320Z"
      },
      {
        "duration": 238,
        "start_time": "2023-02-24T15:34:24.645Z"
      },
      {
        "duration": 9,
        "start_time": "2023-02-24T15:34:24.885Z"
      },
      {
        "duration": 268,
        "start_time": "2023-02-24T15:34:24.895Z"
      },
      {
        "duration": 405,
        "start_time": "2023-02-24T15:34:25.165Z"
      },
      {
        "duration": 5,
        "start_time": "2023-02-24T15:34:25.572Z"
      },
      {
        "duration": 227,
        "start_time": "2023-02-24T15:34:25.579Z"
      },
      {
        "duration": 389,
        "start_time": "2023-02-24T15:34:25.807Z"
      },
      {
        "duration": 12,
        "start_time": "2023-02-24T15:34:26.200Z"
      },
      {
        "duration": 203,
        "start_time": "2023-02-24T15:34:26.215Z"
      },
      {
        "duration": 220,
        "start_time": "2023-02-24T15:34:26.421Z"
      },
      {
        "duration": 7,
        "start_time": "2023-02-24T15:34:26.643Z"
      },
      {
        "duration": 38,
        "start_time": "2023-02-24T15:34:26.653Z"
      },
      {
        "duration": 187,
        "start_time": "2023-02-24T15:34:26.694Z"
      },
      {
        "duration": 168,
        "start_time": "2023-02-24T15:34:26.883Z"
      },
      {
        "duration": 10,
        "start_time": "2023-02-24T15:34:27.053Z"
      },
      {
        "duration": 352,
        "start_time": "2023-02-24T15:34:27.065Z"
      },
      {
        "duration": 34,
        "start_time": "2023-02-24T15:34:27.419Z"
      },
      {
        "duration": 207,
        "start_time": "2023-02-24T15:34:27.455Z"
      },
      {
        "duration": 12,
        "start_time": "2023-02-24T15:34:27.664Z"
      },
      {
        "duration": 26,
        "start_time": "2023-02-24T15:34:27.678Z"
      },
      {
        "duration": 19,
        "start_time": "2023-02-24T15:34:27.706Z"
      },
      {
        "duration": 52,
        "start_time": "2023-02-24T15:34:27.727Z"
      },
      {
        "duration": 15,
        "start_time": "2023-02-24T15:34:27.782Z"
      },
      {
        "duration": 30,
        "start_time": "2023-02-24T15:34:27.800Z"
      },
      {
        "duration": 1368,
        "start_time": "2023-02-24T15:35:02.159Z"
      },
      {
        "duration": 111,
        "start_time": "2023-02-24T15:35:03.529Z"
      },
      {
        "duration": 13,
        "start_time": "2023-02-24T15:35:03.642Z"
      },
      {
        "duration": 47,
        "start_time": "2023-02-24T15:35:03.658Z"
      },
      {
        "duration": 34,
        "start_time": "2023-02-24T15:35:03.709Z"
      },
      {
        "duration": 37,
        "start_time": "2023-02-24T15:35:03.744Z"
      },
      {
        "duration": 17,
        "start_time": "2023-02-24T15:35:03.782Z"
      },
      {
        "duration": 24,
        "start_time": "2023-02-24T15:35:03.800Z"
      },
      {
        "duration": 17,
        "start_time": "2023-02-24T15:35:03.826Z"
      },
      {
        "duration": 14,
        "start_time": "2023-02-24T15:35:03.845Z"
      },
      {
        "duration": 21,
        "start_time": "2023-02-24T15:35:03.862Z"
      },
      {
        "duration": 13,
        "start_time": "2023-02-24T15:35:03.884Z"
      },
      {
        "duration": 28,
        "start_time": "2023-02-24T15:35:03.900Z"
      },
      {
        "duration": 11,
        "start_time": "2023-02-24T15:35:03.932Z"
      },
      {
        "duration": 10,
        "start_time": "2023-02-24T15:35:03.945Z"
      },
      {
        "duration": 15,
        "start_time": "2023-02-24T15:35:03.956Z"
      },
      {
        "duration": 14,
        "start_time": "2023-02-24T15:35:03.973Z"
      },
      {
        "duration": 9,
        "start_time": "2023-02-24T15:35:03.990Z"
      },
      {
        "duration": 17,
        "start_time": "2023-02-24T15:35:04.001Z"
      },
      {
        "duration": 35,
        "start_time": "2023-02-24T15:35:04.019Z"
      },
      {
        "duration": 312,
        "start_time": "2023-02-24T15:35:04.056Z"
      },
      {
        "duration": 348,
        "start_time": "2023-02-24T15:35:04.370Z"
      },
      {
        "duration": 18,
        "start_time": "2023-02-24T15:35:04.719Z"
      },
      {
        "duration": 270,
        "start_time": "2023-02-24T15:35:04.739Z"
      },
      {
        "duration": 478,
        "start_time": "2023-02-24T15:35:05.012Z"
      },
      {
        "duration": 6,
        "start_time": "2023-02-24T15:35:05.492Z"
      },
      {
        "duration": 232,
        "start_time": "2023-02-24T15:35:05.500Z"
      },
      {
        "duration": 359,
        "start_time": "2023-02-24T15:35:05.734Z"
      },
      {
        "duration": 12,
        "start_time": "2023-02-24T15:35:06.095Z"
      },
      {
        "duration": 163,
        "start_time": "2023-02-24T15:35:06.109Z"
      },
      {
        "duration": 207,
        "start_time": "2023-02-24T15:35:06.274Z"
      },
      {
        "duration": 9,
        "start_time": "2023-02-24T15:35:06.483Z"
      },
      {
        "duration": 11,
        "start_time": "2023-02-24T15:35:06.499Z"
      },
      {
        "duration": 191,
        "start_time": "2023-02-24T15:35:06.512Z"
      },
      {
        "duration": 257,
        "start_time": "2023-02-24T15:35:06.706Z"
      },
      {
        "duration": 10,
        "start_time": "2023-02-24T15:35:06.965Z"
      },
      {
        "duration": 248,
        "start_time": "2023-02-24T15:35:06.977Z"
      },
      {
        "duration": 31,
        "start_time": "2023-02-24T15:35:07.227Z"
      },
      {
        "duration": 230,
        "start_time": "2023-02-24T15:35:07.260Z"
      },
      {
        "duration": 10,
        "start_time": "2023-02-24T15:35:07.492Z"
      },
      {
        "duration": 9,
        "start_time": "2023-02-24T15:35:07.506Z"
      },
      {
        "duration": 33,
        "start_time": "2023-02-24T15:35:07.517Z"
      },
      {
        "duration": 31,
        "start_time": "2023-02-24T15:35:07.552Z"
      },
      {
        "duration": 14,
        "start_time": "2023-02-24T15:35:07.585Z"
      },
      {
        "duration": 135,
        "start_time": "2023-02-24T15:35:07.601Z"
      },
      {
        "duration": 10,
        "start_time": "2023-02-24T15:35:26.142Z"
      },
      {
        "duration": 7,
        "start_time": "2023-02-24T15:35:28.991Z"
      },
      {
        "duration": 9,
        "start_time": "2023-02-24T15:35:32.939Z"
      },
      {
        "duration": 217,
        "start_time": "2023-02-24T15:36:50.283Z"
      },
      {
        "duration": 25,
        "start_time": "2023-02-24T15:36:56.884Z"
      },
      {
        "duration": 31,
        "start_time": "2023-02-24T15:37:06.116Z"
      },
      {
        "duration": 32,
        "start_time": "2023-02-24T15:37:18.129Z"
      },
      {
        "duration": 34,
        "start_time": "2023-02-24T15:37:42.101Z"
      },
      {
        "duration": 25,
        "start_time": "2023-02-24T15:37:51.174Z"
      },
      {
        "duration": 175,
        "start_time": "2023-02-24T15:47:53.259Z"
      },
      {
        "duration": 163,
        "start_time": "2023-02-24T15:55:01.541Z"
      },
      {
        "duration": 173,
        "start_time": "2023-02-24T15:57:13.660Z"
      },
      {
        "duration": 159,
        "start_time": "2023-02-24T15:57:32.823Z"
      },
      {
        "duration": 86,
        "start_time": "2023-02-24T15:58:51.096Z"
      },
      {
        "duration": 75,
        "start_time": "2023-02-24T15:59:11.369Z"
      },
      {
        "duration": 83,
        "start_time": "2023-02-24T16:00:29.306Z"
      },
      {
        "duration": 75,
        "start_time": "2023-02-24T16:01:06.487Z"
      },
      {
        "duration": 73,
        "start_time": "2023-02-24T16:01:11.393Z"
      },
      {
        "duration": 165,
        "start_time": "2023-02-24T16:01:29.708Z"
      },
      {
        "duration": 170,
        "start_time": "2023-02-24T16:01:44.820Z"
      },
      {
        "duration": 153,
        "start_time": "2023-02-24T16:01:57.065Z"
      },
      {
        "duration": 74,
        "start_time": "2023-02-24T16:02:21.812Z"
      },
      {
        "duration": 85,
        "start_time": "2023-02-24T16:02:31.186Z"
      },
      {
        "duration": 76,
        "start_time": "2023-02-24T16:02:37.785Z"
      },
      {
        "duration": 181,
        "start_time": "2023-02-24T16:02:44.632Z"
      },
      {
        "duration": 203,
        "start_time": "2023-02-24T16:02:58.438Z"
      },
      {
        "duration": 197,
        "start_time": "2023-02-24T16:03:24.981Z"
      },
      {
        "duration": 176,
        "start_time": "2023-02-24T16:03:34.388Z"
      },
      {
        "duration": 162,
        "start_time": "2023-02-24T16:04:34.918Z"
      },
      {
        "duration": 174,
        "start_time": "2023-02-24T16:04:39.353Z"
      },
      {
        "duration": 167,
        "start_time": "2023-02-24T16:04:47.716Z"
      },
      {
        "duration": 162,
        "start_time": "2023-02-24T16:06:01.056Z"
      },
      {
        "duration": 146,
        "start_time": "2023-02-24T16:06:13.071Z"
      },
      {
        "duration": 12,
        "start_time": "2023-02-24T16:06:40.443Z"
      },
      {
        "duration": 14,
        "start_time": "2023-02-24T16:07:02.048Z"
      },
      {
        "duration": 73,
        "start_time": "2023-02-24T16:16:29.033Z"
      },
      {
        "duration": 9,
        "start_time": "2023-02-24T16:17:25.612Z"
      },
      {
        "duration": 10,
        "start_time": "2023-02-24T16:17:51.815Z"
      },
      {
        "duration": 9,
        "start_time": "2023-02-24T16:18:19.783Z"
      },
      {
        "duration": 68,
        "start_time": "2023-02-24T16:19:26.219Z"
      },
      {
        "duration": 78,
        "start_time": "2023-02-24T16:20:38.636Z"
      },
      {
        "duration": 73,
        "start_time": "2023-02-24T16:21:05.062Z"
      },
      {
        "duration": 31,
        "start_time": "2023-02-24T16:21:18.270Z"
      },
      {
        "duration": 616,
        "start_time": "2023-02-24T16:21:27.452Z"
      },
      {
        "duration": 10,
        "start_time": "2023-02-24T16:23:22.077Z"
      },
      {
        "duration": 9,
        "start_time": "2023-02-24T16:23:25.510Z"
      },
      {
        "duration": 10,
        "start_time": "2023-02-24T16:23:34.080Z"
      },
      {
        "duration": 11,
        "start_time": "2023-02-24T16:23:36.534Z"
      },
      {
        "duration": 10,
        "start_time": "2023-02-24T16:23:42.470Z"
      },
      {
        "duration": 9,
        "start_time": "2023-02-24T16:23:51.999Z"
      },
      {
        "duration": 13,
        "start_time": "2023-02-24T16:24:47.572Z"
      },
      {
        "duration": 8,
        "start_time": "2023-02-24T16:25:12.999Z"
      },
      {
        "duration": 6,
        "start_time": "2023-02-24T16:27:45.872Z"
      },
      {
        "duration": 7,
        "start_time": "2023-02-24T16:29:43.521Z"
      },
      {
        "duration": 10,
        "start_time": "2023-02-24T16:30:00.666Z"
      },
      {
        "duration": 13,
        "start_time": "2023-02-24T16:32:51.717Z"
      },
      {
        "duration": 5,
        "start_time": "2023-02-24T16:33:45.560Z"
      },
      {
        "duration": 13,
        "start_time": "2023-02-24T16:34:00.510Z"
      },
      {
        "duration": 41,
        "start_time": "2023-02-24T16:34:56.048Z"
      },
      {
        "duration": 35,
        "start_time": "2023-02-24T16:35:07.955Z"
      },
      {
        "duration": 43,
        "start_time": "2023-02-24T16:35:36.510Z"
      },
      {
        "duration": 10,
        "start_time": "2023-02-24T16:35:49.749Z"
      },
      {
        "duration": 12,
        "start_time": "2023-02-24T16:36:38.108Z"
      },
      {
        "duration": 12,
        "start_time": "2023-02-24T16:36:46.847Z"
      },
      {
        "duration": 43,
        "start_time": "2023-02-24T16:58:08.740Z"
      },
      {
        "duration": 22,
        "start_time": "2023-02-24T17:00:48.935Z"
      },
      {
        "duration": 17,
        "start_time": "2023-02-24T17:04:33.732Z"
      },
      {
        "duration": 17,
        "start_time": "2023-02-24T17:04:44.232Z"
      },
      {
        "duration": 18,
        "start_time": "2023-02-24T17:05:11.967Z"
      },
      {
        "duration": 14,
        "start_time": "2023-02-24T17:06:36.198Z"
      },
      {
        "duration": 14,
        "start_time": "2023-02-24T17:07:41.896Z"
      },
      {
        "duration": 395,
        "start_time": "2023-02-24T17:14:16.904Z"
      },
      {
        "duration": 352,
        "start_time": "2023-02-24T17:14:29.759Z"
      },
      {
        "duration": 4,
        "start_time": "2023-02-24T17:40:59.659Z"
      },
      {
        "duration": 150,
        "start_time": "2023-02-24T17:40:59.666Z"
      },
      {
        "duration": 10,
        "start_time": "2023-02-24T17:40:59.818Z"
      },
      {
        "duration": 29,
        "start_time": "2023-02-24T17:40:59.830Z"
      },
      {
        "duration": 13,
        "start_time": "2023-02-24T17:40:59.860Z"
      },
      {
        "duration": 7,
        "start_time": "2023-02-24T17:40:59.875Z"
      },
      {
        "duration": 18,
        "start_time": "2023-02-24T17:40:59.883Z"
      },
      {
        "duration": 11,
        "start_time": "2023-02-24T17:40:59.903Z"
      },
      {
        "duration": 7,
        "start_time": "2023-02-24T17:40:59.916Z"
      },
      {
        "duration": 8,
        "start_time": "2023-02-24T17:40:59.924Z"
      },
      {
        "duration": 15,
        "start_time": "2023-02-24T17:40:59.934Z"
      },
      {
        "duration": 12,
        "start_time": "2023-02-24T17:40:59.951Z"
      },
      {
        "duration": 10,
        "start_time": "2023-02-24T17:40:59.965Z"
      },
      {
        "duration": 10,
        "start_time": "2023-02-24T17:40:59.977Z"
      },
      {
        "duration": 23,
        "start_time": "2023-02-24T17:40:59.988Z"
      },
      {
        "duration": 28,
        "start_time": "2023-02-24T17:41:00.013Z"
      },
      {
        "duration": 19,
        "start_time": "2023-02-24T17:41:00.043Z"
      },
      {
        "duration": 21,
        "start_time": "2023-02-24T17:41:00.064Z"
      },
      {
        "duration": 16,
        "start_time": "2023-02-24T17:41:00.086Z"
      },
      {
        "duration": 28,
        "start_time": "2023-02-24T17:41:00.103Z"
      },
      {
        "duration": 315,
        "start_time": "2023-02-24T17:41:00.133Z"
      },
      {
        "duration": 232,
        "start_time": "2023-02-24T17:41:00.450Z"
      },
      {
        "duration": 9,
        "start_time": "2023-02-24T17:41:00.684Z"
      },
      {
        "duration": 245,
        "start_time": "2023-02-24T17:41:00.698Z"
      },
      {
        "duration": 349,
        "start_time": "2023-02-24T17:41:00.945Z"
      },
      {
        "duration": 7,
        "start_time": "2023-02-24T17:41:01.296Z"
      },
      {
        "duration": 244,
        "start_time": "2023-02-24T17:41:01.305Z"
      },
      {
        "duration": 369,
        "start_time": "2023-02-24T17:41:01.551Z"
      },
      {
        "duration": 18,
        "start_time": "2023-02-24T17:41:01.921Z"
      },
      {
        "duration": 173,
        "start_time": "2023-02-24T17:41:01.941Z"
      },
      {
        "duration": 177,
        "start_time": "2023-02-24T17:41:02.115Z"
      },
      {
        "duration": 7,
        "start_time": "2023-02-24T17:41:02.294Z"
      },
      {
        "duration": 35,
        "start_time": "2023-02-24T17:41:02.302Z"
      },
      {
        "duration": 257,
        "start_time": "2023-02-24T17:41:02.338Z"
      },
      {
        "duration": 164,
        "start_time": "2023-02-24T17:41:02.597Z"
      },
      {
        "duration": 7,
        "start_time": "2023-02-24T17:41:02.763Z"
      },
      {
        "duration": 225,
        "start_time": "2023-02-24T17:41:02.771Z"
      },
      {
        "duration": 23,
        "start_time": "2023-02-24T17:41:02.998Z"
      },
      {
        "duration": 164,
        "start_time": "2023-02-24T17:41:03.023Z"
      },
      {
        "duration": 11,
        "start_time": "2023-02-24T17:41:03.189Z"
      },
      {
        "duration": 34,
        "start_time": "2023-02-24T17:41:03.201Z"
      },
      {
        "duration": 36,
        "start_time": "2023-02-24T17:41:03.237Z"
      },
      {
        "duration": 51,
        "start_time": "2023-02-24T17:41:03.275Z"
      },
      {
        "duration": 22,
        "start_time": "2023-02-24T17:41:03.328Z"
      },
      {
        "duration": 34,
        "start_time": "2023-02-24T17:41:03.352Z"
      },
      {
        "duration": 23,
        "start_time": "2023-02-24T17:41:03.388Z"
      },
      {
        "duration": 78,
        "start_time": "2023-02-24T17:43:27.631Z"
      },
      {
        "duration": 10,
        "start_time": "2023-02-24T17:43:40.039Z"
      },
      {
        "duration": 11,
        "start_time": "2023-02-24T17:47:04.581Z"
      },
      {
        "duration": 9,
        "start_time": "2023-02-24T17:47:08.116Z"
      },
      {
        "duration": 9,
        "start_time": "2023-02-24T17:47:14.743Z"
      },
      {
        "duration": 11,
        "start_time": "2023-02-24T17:47:24.859Z"
      },
      {
        "duration": 9,
        "start_time": "2023-02-24T17:47:44.316Z"
      },
      {
        "duration": 1233,
        "start_time": "2023-02-24T17:50:39.555Z"
      },
      {
        "duration": 106,
        "start_time": "2023-02-24T17:50:40.791Z"
      },
      {
        "duration": 12,
        "start_time": "2023-02-24T17:50:40.899Z"
      },
      {
        "duration": 49,
        "start_time": "2023-02-24T17:50:40.914Z"
      },
      {
        "duration": 32,
        "start_time": "2023-02-24T17:50:40.965Z"
      },
      {
        "duration": 13,
        "start_time": "2023-02-24T17:50:40.999Z"
      },
      {
        "duration": 23,
        "start_time": "2023-02-24T17:50:41.014Z"
      },
      {
        "duration": 19,
        "start_time": "2023-02-24T17:50:41.039Z"
      },
      {
        "duration": 24,
        "start_time": "2023-02-24T17:50:41.060Z"
      },
      {
        "duration": 7,
        "start_time": "2023-02-24T17:50:41.087Z"
      },
      {
        "duration": 26,
        "start_time": "2023-02-24T17:50:41.096Z"
      },
      {
        "duration": 14,
        "start_time": "2023-02-24T17:50:41.124Z"
      },
      {
        "duration": 12,
        "start_time": "2023-02-24T17:50:41.140Z"
      },
      {
        "duration": 16,
        "start_time": "2023-02-24T17:50:41.154Z"
      },
      {
        "duration": 10,
        "start_time": "2023-02-24T17:50:41.172Z"
      },
      {
        "duration": 11,
        "start_time": "2023-02-24T17:50:41.184Z"
      },
      {
        "duration": 10,
        "start_time": "2023-02-24T17:50:41.196Z"
      },
      {
        "duration": 5,
        "start_time": "2023-02-24T17:50:41.208Z"
      },
      {
        "duration": 25,
        "start_time": "2023-02-24T17:50:41.215Z"
      },
      {
        "duration": 27,
        "start_time": "2023-02-24T17:50:41.241Z"
      },
      {
        "duration": 320,
        "start_time": "2023-02-24T17:50:41.271Z"
      },
      {
        "duration": 340,
        "start_time": "2023-02-24T17:50:41.593Z"
      },
      {
        "duration": 233,
        "start_time": "2023-02-24T17:50:41.942Z"
      },
      {
        "duration": 314,
        "start_time": "2023-02-24T17:50:42.177Z"
      },
      {
        "duration": 5,
        "start_time": "2023-02-24T17:50:42.493Z"
      },
      {
        "duration": 221,
        "start_time": "2023-02-24T17:50:42.500Z"
      },
      {
        "duration": 373,
        "start_time": "2023-02-24T17:50:42.723Z"
      },
      {
        "duration": 11,
        "start_time": "2023-02-24T17:50:43.099Z"
      },
      {
        "duration": 162,
        "start_time": "2023-02-24T17:50:43.112Z"
      },
      {
        "duration": 193,
        "start_time": "2023-02-24T17:50:43.276Z"
      },
      {
        "duration": 8,
        "start_time": "2023-02-24T17:50:43.471Z"
      },
      {
        "duration": 18,
        "start_time": "2023-02-24T17:50:43.481Z"
      },
      {
        "duration": 210,
        "start_time": "2023-02-24T17:50:43.501Z"
      },
      {
        "duration": 243,
        "start_time": "2023-02-24T17:50:43.713Z"
      },
      {
        "duration": 9,
        "start_time": "2023-02-24T17:50:43.958Z"
      },
      {
        "duration": 236,
        "start_time": "2023-02-24T17:50:43.969Z"
      },
      {
        "duration": 42,
        "start_time": "2023-02-24T17:50:44.207Z"
      },
      {
        "duration": 185,
        "start_time": "2023-02-24T17:50:44.251Z"
      },
      {
        "duration": 15,
        "start_time": "2023-02-24T17:50:44.438Z"
      },
      {
        "duration": 32,
        "start_time": "2023-02-24T17:50:44.455Z"
      },
      {
        "duration": 17,
        "start_time": "2023-02-24T17:50:44.489Z"
      },
      {
        "duration": 14,
        "start_time": "2023-02-24T17:50:44.508Z"
      },
      {
        "duration": 21,
        "start_time": "2023-02-24T17:50:44.523Z"
      },
      {
        "duration": 38,
        "start_time": "2023-02-24T17:50:44.546Z"
      },
      {
        "duration": 14,
        "start_time": "2023-02-24T17:50:44.586Z"
      },
      {
        "duration": 1390,
        "start_time": "2023-02-25T08:16:30.322Z"
      },
      {
        "duration": 221,
        "start_time": "2023-02-25T08:16:31.714Z"
      },
      {
        "duration": 20,
        "start_time": "2023-02-25T08:16:31.937Z"
      },
      {
        "duration": 33,
        "start_time": "2023-02-25T08:16:31.960Z"
      },
      {
        "duration": 34,
        "start_time": "2023-02-25T08:16:31.995Z"
      },
      {
        "duration": 16,
        "start_time": "2023-02-25T08:16:32.031Z"
      },
      {
        "duration": 21,
        "start_time": "2023-02-25T08:16:32.050Z"
      },
      {
        "duration": 11,
        "start_time": "2023-02-25T08:16:32.073Z"
      },
      {
        "duration": 10,
        "start_time": "2023-02-25T08:16:32.086Z"
      },
      {
        "duration": 7,
        "start_time": "2023-02-25T08:16:32.099Z"
      },
      {
        "duration": 24,
        "start_time": "2023-02-25T08:16:32.108Z"
      },
      {
        "duration": 20,
        "start_time": "2023-02-25T08:16:32.134Z"
      },
      {
        "duration": 16,
        "start_time": "2023-02-25T08:16:32.156Z"
      },
      {
        "duration": 8,
        "start_time": "2023-02-25T08:16:32.173Z"
      },
      {
        "duration": 14,
        "start_time": "2023-02-25T08:16:32.182Z"
      },
      {
        "duration": 10,
        "start_time": "2023-02-25T08:16:32.197Z"
      },
      {
        "duration": 17,
        "start_time": "2023-02-25T08:16:32.208Z"
      },
      {
        "duration": 5,
        "start_time": "2023-02-25T08:16:32.226Z"
      },
      {
        "duration": 19,
        "start_time": "2023-02-25T08:16:32.232Z"
      },
      {
        "duration": 28,
        "start_time": "2023-02-25T08:16:32.255Z"
      },
      {
        "duration": 335,
        "start_time": "2023-02-25T08:16:32.285Z"
      },
      {
        "duration": 307,
        "start_time": "2023-02-25T08:16:32.623Z"
      },
      {
        "duration": 203,
        "start_time": "2023-02-25T08:16:32.932Z"
      },
      {
        "duration": 364,
        "start_time": "2023-02-25T08:16:33.137Z"
      },
      {
        "duration": 5,
        "start_time": "2023-02-25T08:16:33.503Z"
      },
      {
        "duration": 227,
        "start_time": "2023-02-25T08:16:33.510Z"
      },
      {
        "duration": 361,
        "start_time": "2023-02-25T08:16:33.738Z"
      },
      {
        "duration": 9,
        "start_time": "2023-02-25T08:16:34.102Z"
      },
      {
        "duration": 164,
        "start_time": "2023-02-25T08:16:34.112Z"
      },
      {
        "duration": 139,
        "start_time": "2023-02-25T08:16:34.277Z"
      },
      {
        "duration": 6,
        "start_time": "2023-02-25T08:16:34.417Z"
      },
      {
        "duration": 17,
        "start_time": "2023-02-25T08:16:34.424Z"
      },
      {
        "duration": 160,
        "start_time": "2023-02-25T08:16:34.443Z"
      },
      {
        "duration": 212,
        "start_time": "2023-02-25T08:16:34.604Z"
      },
      {
        "duration": 7,
        "start_time": "2023-02-25T08:16:34.818Z"
      },
      {
        "duration": 206,
        "start_time": "2023-02-25T08:16:34.836Z"
      },
      {
        "duration": 33,
        "start_time": "2023-02-25T08:16:35.044Z"
      },
      {
        "duration": 199,
        "start_time": "2023-02-25T08:16:35.079Z"
      },
      {
        "duration": 8,
        "start_time": "2023-02-25T08:16:35.280Z"
      },
      {
        "duration": 18,
        "start_time": "2023-02-25T08:16:35.289Z"
      },
      {
        "duration": 10,
        "start_time": "2023-02-25T08:16:35.308Z"
      },
      {
        "duration": 18,
        "start_time": "2023-02-25T08:16:35.320Z"
      },
      {
        "duration": 15,
        "start_time": "2023-02-25T08:16:35.340Z"
      },
      {
        "duration": 25,
        "start_time": "2023-02-25T08:16:35.358Z"
      },
      {
        "duration": 11,
        "start_time": "2023-02-25T08:16:35.385Z"
      },
      {
        "duration": 8,
        "start_time": "2023-02-25T08:16:46.166Z"
      },
      {
        "duration": 9,
        "start_time": "2023-02-25T08:16:51.633Z"
      },
      {
        "duration": 7,
        "start_time": "2023-02-25T08:16:56.066Z"
      },
      {
        "duration": 10,
        "start_time": "2023-02-25T08:17:00.103Z"
      },
      {
        "duration": 13,
        "start_time": "2023-02-25T08:19:28.936Z"
      },
      {
        "duration": 10,
        "start_time": "2023-02-25T08:19:44.880Z"
      },
      {
        "duration": 9,
        "start_time": "2023-02-25T08:22:09.525Z"
      },
      {
        "duration": 11,
        "start_time": "2023-02-25T08:22:26.857Z"
      },
      {
        "duration": 17,
        "start_time": "2023-02-25T09:17:15.203Z"
      },
      {
        "duration": 105,
        "start_time": "2023-02-25T09:17:31.485Z"
      },
      {
        "duration": 11,
        "start_time": "2023-02-25T09:17:55.797Z"
      },
      {
        "duration": 17,
        "start_time": "2023-02-25T09:33:01.339Z"
      },
      {
        "duration": 18,
        "start_time": "2023-02-25T09:33:17.340Z"
      },
      {
        "duration": 10,
        "start_time": "2023-02-25T09:36:50.045Z"
      },
      {
        "duration": 9,
        "start_time": "2023-02-25T09:37:37.294Z"
      },
      {
        "duration": 15,
        "start_time": "2023-02-25T09:37:44.902Z"
      },
      {
        "duration": 8,
        "start_time": "2023-02-25T09:43:20.350Z"
      },
      {
        "duration": 10,
        "start_time": "2023-02-25T09:43:26.189Z"
      },
      {
        "duration": 64,
        "start_time": "2023-02-25T09:46:03.320Z"
      },
      {
        "duration": 70,
        "start_time": "2023-02-25T09:46:15.307Z"
      },
      {
        "duration": 8,
        "start_time": "2023-02-25T09:46:57.026Z"
      },
      {
        "duration": 13,
        "start_time": "2023-02-25T09:47:02.180Z"
      },
      {
        "duration": 10,
        "start_time": "2023-02-25T09:47:16.062Z"
      },
      {
        "duration": 3,
        "start_time": "2023-02-25T10:29:35.705Z"
      },
      {
        "duration": 112,
        "start_time": "2023-02-25T10:29:35.710Z"
      },
      {
        "duration": 10,
        "start_time": "2023-02-25T10:29:35.824Z"
      },
      {
        "duration": 14,
        "start_time": "2023-02-25T10:29:35.835Z"
      },
      {
        "duration": 13,
        "start_time": "2023-02-25T10:29:35.851Z"
      },
      {
        "duration": 15,
        "start_time": "2023-02-25T10:29:35.865Z"
      },
      {
        "duration": 12,
        "start_time": "2023-02-25T10:29:35.882Z"
      },
      {
        "duration": 19,
        "start_time": "2023-02-25T10:29:35.895Z"
      },
      {
        "duration": 21,
        "start_time": "2023-02-25T10:29:35.915Z"
      },
      {
        "duration": 12,
        "start_time": "2023-02-25T10:29:35.938Z"
      },
      {
        "duration": 10,
        "start_time": "2023-02-25T10:29:35.952Z"
      },
      {
        "duration": 21,
        "start_time": "2023-02-25T10:29:35.963Z"
      },
      {
        "duration": 8,
        "start_time": "2023-02-25T10:29:35.986Z"
      },
      {
        "duration": 9,
        "start_time": "2023-02-25T10:29:35.995Z"
      },
      {
        "duration": 7,
        "start_time": "2023-02-25T10:29:36.006Z"
      },
      {
        "duration": 24,
        "start_time": "2023-02-25T10:29:36.014Z"
      },
      {
        "duration": 11,
        "start_time": "2023-02-25T10:29:36.039Z"
      },
      {
        "duration": 27,
        "start_time": "2023-02-25T10:29:36.051Z"
      },
      {
        "duration": 15,
        "start_time": "2023-02-25T10:29:36.079Z"
      },
      {
        "duration": 4,
        "start_time": "2023-02-25T10:29:36.096Z"
      },
      {
        "duration": 12,
        "start_time": "2023-02-25T10:29:36.102Z"
      },
      {
        "duration": 25,
        "start_time": "2023-02-25T10:29:53.805Z"
      },
      {
        "duration": 4,
        "start_time": "2023-02-25T10:31:29.711Z"
      },
      {
        "duration": 22,
        "start_time": "2023-02-25T10:31:34.227Z"
      },
      {
        "duration": 4,
        "start_time": "2023-02-25T10:31:37.368Z"
      },
      {
        "duration": 9,
        "start_time": "2023-02-25T10:32:38.059Z"
      },
      {
        "duration": 5,
        "start_time": "2023-02-25T10:32:48.808Z"
      },
      {
        "duration": 3,
        "start_time": "2023-02-25T10:34:13.031Z"
      },
      {
        "duration": 3,
        "start_time": "2023-02-25T10:34:16.189Z"
      },
      {
        "duration": 5,
        "start_time": "2023-02-25T10:34:23.143Z"
      },
      {
        "duration": 5,
        "start_time": "2023-02-25T10:34:29.445Z"
      },
      {
        "duration": 4,
        "start_time": "2023-02-25T10:34:35.673Z"
      },
      {
        "duration": 5,
        "start_time": "2023-02-25T10:35:26.881Z"
      },
      {
        "duration": 18,
        "start_time": "2023-02-25T10:36:01.909Z"
      },
      {
        "duration": 5,
        "start_time": "2023-02-25T10:37:28.391Z"
      },
      {
        "duration": 4,
        "start_time": "2023-02-25T10:37:39.402Z"
      },
      {
        "duration": 8,
        "start_time": "2023-02-25T10:51:07.770Z"
      },
      {
        "duration": 4,
        "start_time": "2023-02-25T10:52:52.989Z"
      },
      {
        "duration": 10,
        "start_time": "2023-02-25T10:53:12.647Z"
      },
      {
        "duration": 4,
        "start_time": "2023-02-25T10:53:22.127Z"
      },
      {
        "duration": 6,
        "start_time": "2023-02-25T11:00:28.422Z"
      },
      {
        "duration": 20,
        "start_time": "2023-02-25T11:00:51.532Z"
      },
      {
        "duration": 5,
        "start_time": "2023-02-25T11:01:24.989Z"
      },
      {
        "duration": 4,
        "start_time": "2023-02-25T11:02:10.861Z"
      },
      {
        "duration": 5,
        "start_time": "2023-02-25T11:03:29.874Z"
      },
      {
        "duration": 4,
        "start_time": "2023-02-25T11:04:07.883Z"
      },
      {
        "duration": 5,
        "start_time": "2023-02-25T11:04:18.972Z"
      },
      {
        "duration": 5,
        "start_time": "2023-02-25T11:04:44.189Z"
      },
      {
        "duration": 107,
        "start_time": "2023-02-25T11:05:40.304Z"
      },
      {
        "duration": 4,
        "start_time": "2023-02-25T11:10:56.660Z"
      },
      {
        "duration": 196,
        "start_time": "2023-02-25T11:15:47.267Z"
      },
      {
        "duration": 199,
        "start_time": "2023-02-25T11:15:57.466Z"
      },
      {
        "duration": 186,
        "start_time": "2023-02-25T11:16:08.810Z"
      },
      {
        "duration": 222,
        "start_time": "2023-02-25T11:16:16.560Z"
      },
      {
        "duration": 218,
        "start_time": "2023-02-25T11:16:24.913Z"
      },
      {
        "duration": 196,
        "start_time": "2023-02-25T11:19:19.711Z"
      },
      {
        "duration": 192,
        "start_time": "2023-02-25T11:19:28.618Z"
      },
      {
        "duration": 1025,
        "start_time": "2023-02-25T11:19:45.193Z"
      },
      {
        "duration": 113,
        "start_time": "2023-02-25T11:19:46.220Z"
      },
      {
        "duration": 16,
        "start_time": "2023-02-25T11:19:46.334Z"
      },
      {
        "duration": 14,
        "start_time": "2023-02-25T11:19:46.352Z"
      },
      {
        "duration": 10,
        "start_time": "2023-02-25T11:19:46.368Z"
      },
      {
        "duration": 10,
        "start_time": "2023-02-25T11:19:46.380Z"
      },
      {
        "duration": 8,
        "start_time": "2023-02-25T11:19:46.391Z"
      },
      {
        "duration": 11,
        "start_time": "2023-02-25T11:19:46.401Z"
      },
      {
        "duration": 11,
        "start_time": "2023-02-25T11:19:46.413Z"
      },
      {
        "duration": 8,
        "start_time": "2023-02-25T11:19:46.437Z"
      },
      {
        "duration": 15,
        "start_time": "2023-02-25T11:19:46.448Z"
      },
      {
        "duration": 8,
        "start_time": "2023-02-25T11:19:46.465Z"
      },
      {
        "duration": 8,
        "start_time": "2023-02-25T11:19:46.474Z"
      },
      {
        "duration": 6,
        "start_time": "2023-02-25T11:19:46.483Z"
      },
      {
        "duration": 5,
        "start_time": "2023-02-25T11:19:46.491Z"
      },
      {
        "duration": 3,
        "start_time": "2023-02-25T11:19:46.498Z"
      },
      {
        "duration": 46,
        "start_time": "2023-02-25T11:19:46.503Z"
      },
      {
        "duration": 9,
        "start_time": "2023-02-25T11:19:46.550Z"
      },
      {
        "duration": 11,
        "start_time": "2023-02-25T11:19:46.560Z"
      },
      {
        "duration": 5,
        "start_time": "2023-02-25T11:19:46.573Z"
      },
      {
        "duration": 6,
        "start_time": "2023-02-25T11:19:46.580Z"
      },
      {
        "duration": 5,
        "start_time": "2023-02-25T11:19:46.587Z"
      },
      {
        "duration": 55,
        "start_time": "2023-02-25T11:19:46.593Z"
      },
      {
        "duration": 5,
        "start_time": "2023-02-25T11:19:46.649Z"
      },
      {
        "duration": 8,
        "start_time": "2023-02-25T11:19:46.656Z"
      },
      {
        "duration": 7,
        "start_time": "2023-02-25T11:19:46.666Z"
      },
      {
        "duration": 24,
        "start_time": "2023-02-25T11:19:46.675Z"
      },
      {
        "duration": 296,
        "start_time": "2023-02-25T11:19:46.703Z"
      },
      {
        "duration": 276,
        "start_time": "2023-02-25T11:19:47.001Z"
      },
      {
        "duration": 201,
        "start_time": "2023-02-25T11:19:47.279Z"
      },
      {
        "duration": 294,
        "start_time": "2023-02-25T11:19:47.481Z"
      },
      {
        "duration": 186,
        "start_time": "2023-02-25T11:19:47.776Z"
      },
      {
        "duration": 315,
        "start_time": "2023-02-25T11:19:47.963Z"
      },
      {
        "duration": 8,
        "start_time": "2023-02-25T11:19:48.280Z"
      },
      {
        "duration": 136,
        "start_time": "2023-02-25T11:19:48.290Z"
      },
      {
        "duration": 155,
        "start_time": "2023-02-25T11:19:48.427Z"
      },
      {
        "duration": 5,
        "start_time": "2023-02-25T11:19:48.584Z"
      },
      {
        "duration": 11,
        "start_time": "2023-02-25T11:19:48.591Z"
      },
      {
        "duration": 173,
        "start_time": "2023-02-25T11:19:48.604Z"
      },
      {
        "duration": 214,
        "start_time": "2023-02-25T11:19:48.778Z"
      },
      {
        "duration": 6,
        "start_time": "2023-02-25T11:19:48.994Z"
      },
      {
        "duration": 199,
        "start_time": "2023-02-25T11:19:49.001Z"
      },
      {
        "duration": 22,
        "start_time": "2023-02-25T11:19:49.202Z"
      },
      {
        "duration": 173,
        "start_time": "2023-02-25T11:19:49.225Z"
      },
      {
        "duration": 10,
        "start_time": "2023-02-25T11:19:49.400Z"
      },
      {
        "duration": 37,
        "start_time": "2023-02-25T11:19:49.411Z"
      },
      {
        "duration": 13,
        "start_time": "2023-02-25T11:19:49.450Z"
      },
      {
        "duration": 6,
        "start_time": "2023-02-25T11:19:49.465Z"
      },
      {
        "duration": 11,
        "start_time": "2023-02-25T11:19:49.472Z"
      },
      {
        "duration": 32,
        "start_time": "2023-02-25T11:19:49.485Z"
      },
      {
        "duration": 23,
        "start_time": "2023-02-25T11:19:49.519Z"
      },
      {
        "duration": 177,
        "start_time": "2023-02-25T11:21:07.054Z"
      },
      {
        "duration": 219,
        "start_time": "2023-02-25T11:21:17.064Z"
      },
      {
        "duration": 184,
        "start_time": "2023-02-25T11:22:06.121Z"
      },
      {
        "duration": 188,
        "start_time": "2023-02-25T11:22:30.081Z"
      },
      {
        "duration": 178,
        "start_time": "2023-02-25T11:22:40.581Z"
      },
      {
        "duration": 175,
        "start_time": "2023-02-25T11:23:04.300Z"
      },
      {
        "duration": 257,
        "start_time": "2023-02-25T11:23:57.006Z"
      },
      {
        "duration": 5,
        "start_time": "2023-02-25T11:24:20.181Z"
      },
      {
        "duration": 201,
        "start_time": "2023-02-25T11:24:24.279Z"
      },
      {
        "duration": 219,
        "start_time": "2023-02-25T11:24:54.418Z"
      },
      {
        "duration": 376,
        "start_time": "2023-02-25T11:27:25.709Z"
      },
      {
        "duration": 132,
        "start_time": "2023-02-25T11:31:57.063Z"
      },
      {
        "duration": 134,
        "start_time": "2023-02-25T11:32:01.947Z"
      },
      {
        "duration": 5,
        "start_time": "2023-02-25T11:51:34.972Z"
      },
      {
        "duration": 5,
        "start_time": "2023-02-25T11:51:59.490Z"
      },
      {
        "duration": 9,
        "start_time": "2023-02-25T11:52:02.362Z"
      },
      {
        "duration": 3,
        "start_time": "2023-02-25T11:52:09.689Z"
      },
      {
        "duration": 114,
        "start_time": "2023-02-25T11:52:09.693Z"
      },
      {
        "duration": 10,
        "start_time": "2023-02-25T11:52:09.809Z"
      },
      {
        "duration": 12,
        "start_time": "2023-02-25T11:52:09.821Z"
      },
      {
        "duration": 13,
        "start_time": "2023-02-25T11:52:09.835Z"
      },
      {
        "duration": 4,
        "start_time": "2023-02-25T11:52:09.850Z"
      },
      {
        "duration": 5,
        "start_time": "2023-02-25T11:52:09.856Z"
      },
      {
        "duration": 7,
        "start_time": "2023-02-25T11:52:09.863Z"
      },
      {
        "duration": 9,
        "start_time": "2023-02-25T11:52:09.871Z"
      },
      {
        "duration": 7,
        "start_time": "2023-02-25T11:52:09.882Z"
      },
      {
        "duration": 8,
        "start_time": "2023-02-25T11:52:09.892Z"
      },
      {
        "duration": 111,
        "start_time": "2023-02-25T11:52:09.902Z"
      },
      {
        "duration": 24,
        "start_time": "2023-02-25T11:52:10.015Z"
      },
      {
        "duration": 12,
        "start_time": "2023-02-25T11:52:10.041Z"
      },
      {
        "duration": 13,
        "start_time": "2023-02-25T11:52:10.054Z"
      },
      {
        "duration": 12,
        "start_time": "2023-02-25T11:52:10.068Z"
      },
      {
        "duration": 20,
        "start_time": "2023-02-25T11:52:10.081Z"
      },
      {
        "duration": 19,
        "start_time": "2023-02-25T11:52:10.103Z"
      },
      {
        "duration": 13,
        "start_time": "2023-02-25T11:52:10.123Z"
      },
      {
        "duration": 11,
        "start_time": "2023-02-25T11:52:10.138Z"
      },
      {
        "duration": 6,
        "start_time": "2023-02-25T11:52:10.151Z"
      },
      {
        "duration": 6,
        "start_time": "2023-02-25T11:52:10.158Z"
      },
      {
        "duration": 17,
        "start_time": "2023-02-25T11:52:10.166Z"
      },
      {
        "duration": 3,
        "start_time": "2023-02-25T11:52:10.184Z"
      },
      {
        "duration": 8,
        "start_time": "2023-02-25T11:52:10.189Z"
      },
      {
        "duration": 8,
        "start_time": "2023-02-25T11:52:10.198Z"
      },
      {
        "duration": 37,
        "start_time": "2023-02-25T11:52:10.208Z"
      },
      {
        "duration": 302,
        "start_time": "2023-02-25T11:52:10.247Z"
      },
      {
        "duration": 200,
        "start_time": "2023-02-25T11:52:10.553Z"
      },
      {
        "duration": 206,
        "start_time": "2023-02-25T11:52:10.754Z"
      },
      {
        "duration": 305,
        "start_time": "2023-02-25T11:52:10.961Z"
      },
      {
        "duration": 203,
        "start_time": "2023-02-25T11:52:11.267Z"
      },
      {
        "duration": 311,
        "start_time": "2023-02-25T11:52:11.472Z"
      },
      {
        "duration": 9,
        "start_time": "2023-02-25T11:52:11.784Z"
      },
      {
        "duration": 142,
        "start_time": "2023-02-25T11:52:11.795Z"
      },
      {
        "duration": 151,
        "start_time": "2023-02-25T11:52:11.939Z"
      },
      {
        "duration": 6,
        "start_time": "2023-02-25T11:52:12.092Z"
      },
      {
        "duration": 10,
        "start_time": "2023-02-25T11:52:12.099Z"
      },
      {
        "duration": 177,
        "start_time": "2023-02-25T11:52:12.111Z"
      },
      {
        "duration": 155,
        "start_time": "2023-02-25T11:52:12.289Z"
      },
      {
        "duration": 8,
        "start_time": "2023-02-25T11:52:12.446Z"
      },
      {
        "duration": 239,
        "start_time": "2023-02-25T11:52:12.456Z"
      },
      {
        "duration": 22,
        "start_time": "2023-02-25T11:52:12.696Z"
      },
      {
        "duration": 165,
        "start_time": "2023-02-25T11:52:12.720Z"
      },
      {
        "duration": 11,
        "start_time": "2023-02-25T11:52:12.887Z"
      },
      {
        "duration": 15,
        "start_time": "2023-02-25T11:52:12.900Z"
      },
      {
        "duration": 24,
        "start_time": "2023-02-25T11:52:12.917Z"
      },
      {
        "duration": 9,
        "start_time": "2023-02-25T11:52:12.943Z"
      },
      {
        "duration": 5,
        "start_time": "2023-02-25T11:52:12.954Z"
      },
      {
        "duration": 10,
        "start_time": "2023-02-25T11:52:12.961Z"
      },
      {
        "duration": 12,
        "start_time": "2023-02-25T11:52:17.269Z"
      },
      {
        "duration": 1327,
        "start_time": "2023-02-25T11:52:43.108Z"
      },
      {
        "duration": 1406,
        "start_time": "2023-02-25T11:53:12.554Z"
      },
      {
        "duration": 10,
        "start_time": "2023-02-25T11:53:23.210Z"
      },
      {
        "duration": 5,
        "start_time": "2023-02-25T11:54:26.264Z"
      },
      {
        "duration": 7,
        "start_time": "2023-02-25T11:55:00.278Z"
      },
      {
        "duration": 4,
        "start_time": "2023-02-25T11:55:33.945Z"
      },
      {
        "duration": 4,
        "start_time": "2023-02-25T11:55:58.364Z"
      },
      {
        "duration": 6,
        "start_time": "2023-02-25T11:58:01.055Z"
      },
      {
        "duration": 16,
        "start_time": "2023-02-25T12:00:07.908Z"
      },
      {
        "duration": 13,
        "start_time": "2023-02-25T12:04:03.811Z"
      },
      {
        "duration": 100,
        "start_time": "2023-02-25T12:05:53.013Z"
      },
      {
        "duration": 7,
        "start_time": "2023-02-25T12:10:03.551Z"
      },
      {
        "duration": 3,
        "start_time": "2023-02-25T12:13:31.379Z"
      },
      {
        "duration": 126,
        "start_time": "2023-02-25T12:13:31.384Z"
      },
      {
        "duration": 10,
        "start_time": "2023-02-25T12:13:31.512Z"
      },
      {
        "duration": 40,
        "start_time": "2023-02-25T12:13:31.523Z"
      },
      {
        "duration": 32,
        "start_time": "2023-02-25T12:13:31.565Z"
      },
      {
        "duration": 25,
        "start_time": "2023-02-25T12:13:31.599Z"
      },
      {
        "duration": 29,
        "start_time": "2023-02-25T12:13:31.626Z"
      },
      {
        "duration": 21,
        "start_time": "2023-02-25T12:13:31.657Z"
      },
      {
        "duration": 14,
        "start_time": "2023-02-25T12:13:31.680Z"
      },
      {
        "duration": 27,
        "start_time": "2023-02-25T12:13:31.696Z"
      },
      {
        "duration": 23,
        "start_time": "2023-02-25T12:13:31.726Z"
      },
      {
        "duration": 16,
        "start_time": "2023-02-25T12:13:31.750Z"
      },
      {
        "duration": 20,
        "start_time": "2023-02-25T12:13:31.767Z"
      },
      {
        "duration": 8,
        "start_time": "2023-02-25T12:13:31.789Z"
      },
      {
        "duration": 5,
        "start_time": "2023-02-25T12:13:31.799Z"
      },
      {
        "duration": 16,
        "start_time": "2023-02-25T12:13:31.805Z"
      },
      {
        "duration": 34,
        "start_time": "2023-02-25T12:13:31.822Z"
      },
      {
        "duration": 11,
        "start_time": "2023-02-25T12:13:31.857Z"
      },
      {
        "duration": 22,
        "start_time": "2023-02-25T12:13:31.870Z"
      },
      {
        "duration": 5,
        "start_time": "2023-02-25T12:13:31.894Z"
      },
      {
        "duration": 7,
        "start_time": "2023-02-25T12:13:31.900Z"
      },
      {
        "duration": 6,
        "start_time": "2023-02-25T12:13:31.908Z"
      },
      {
        "duration": 17,
        "start_time": "2023-02-25T12:13:31.915Z"
      },
      {
        "duration": 8,
        "start_time": "2023-02-25T12:13:31.934Z"
      },
      {
        "duration": 16,
        "start_time": "2023-02-25T12:13:31.943Z"
      },
      {
        "duration": 27,
        "start_time": "2023-02-25T12:13:31.960Z"
      },
      {
        "duration": 46,
        "start_time": "2023-02-25T12:13:31.988Z"
      },
      {
        "duration": 291,
        "start_time": "2023-02-25T12:13:32.036Z"
      },
      {
        "duration": 210,
        "start_time": "2023-02-25T12:13:32.331Z"
      },
      {
        "duration": 303,
        "start_time": "2023-02-25T12:13:32.543Z"
      },
      {
        "duration": 303,
        "start_time": "2023-02-25T12:13:32.848Z"
      },
      {
        "duration": 190,
        "start_time": "2023-02-25T12:13:33.153Z"
      },
      {
        "duration": 315,
        "start_time": "2023-02-25T12:13:33.345Z"
      },
      {
        "duration": 10,
        "start_time": "2023-02-25T12:13:33.662Z"
      },
      {
        "duration": 138,
        "start_time": "2023-02-25T12:13:33.674Z"
      },
      {
        "duration": 139,
        "start_time": "2023-02-25T12:13:33.814Z"
      },
      {
        "duration": 6,
        "start_time": "2023-02-25T12:13:33.954Z"
      },
      {
        "duration": 8,
        "start_time": "2023-02-25T12:13:33.961Z"
      },
      {
        "duration": 162,
        "start_time": "2023-02-25T12:13:33.970Z"
      },
      {
        "duration": 141,
        "start_time": "2023-02-25T12:13:34.136Z"
      },
      {
        "duration": 7,
        "start_time": "2023-02-25T12:13:34.278Z"
      },
      {
        "duration": 211,
        "start_time": "2023-02-25T12:13:34.286Z"
      },
      {
        "duration": 2,
        "start_time": "2023-02-25T12:13:34.499Z"
      },
      {
        "duration": 172,
        "start_time": "2023-02-25T12:13:34.503Z"
      },
      {
        "duration": 9,
        "start_time": "2023-02-25T12:13:34.677Z"
      },
      {
        "duration": 11,
        "start_time": "2023-02-25T12:13:34.687Z"
      },
      {
        "duration": 4,
        "start_time": "2023-02-25T12:13:34.699Z"
      },
      {
        "duration": 6,
        "start_time": "2023-02-25T12:13:34.704Z"
      },
      {
        "duration": 44,
        "start_time": "2023-02-25T12:13:34.711Z"
      },
      {
        "duration": 14,
        "start_time": "2023-02-25T12:13:34.756Z"
      },
      {
        "duration": 1100,
        "start_time": "2023-02-25T12:15:18.587Z"
      },
      {
        "duration": 108,
        "start_time": "2023-02-25T12:15:19.690Z"
      },
      {
        "duration": 12,
        "start_time": "2023-02-25T12:15:19.800Z"
      },
      {
        "duration": 16,
        "start_time": "2023-02-25T12:15:19.813Z"
      },
      {
        "duration": 12,
        "start_time": "2023-02-25T12:15:19.831Z"
      },
      {
        "duration": 6,
        "start_time": "2023-02-25T12:15:19.844Z"
      },
      {
        "duration": 9,
        "start_time": "2023-02-25T12:15:19.851Z"
      },
      {
        "duration": 14,
        "start_time": "2023-02-25T12:15:19.862Z"
      },
      {
        "duration": 10,
        "start_time": "2023-02-25T12:15:19.878Z"
      },
      {
        "duration": 7,
        "start_time": "2023-02-25T12:15:19.891Z"
      },
      {
        "duration": 12,
        "start_time": "2023-02-25T12:15:19.900Z"
      },
      {
        "duration": 30,
        "start_time": "2023-02-25T12:15:19.913Z"
      },
      {
        "duration": 9,
        "start_time": "2023-02-25T12:15:19.944Z"
      },
      {
        "duration": 7,
        "start_time": "2023-02-25T12:15:19.954Z"
      },
      {
        "duration": 11,
        "start_time": "2023-02-25T12:15:19.962Z"
      },
      {
        "duration": 11,
        "start_time": "2023-02-25T12:15:19.974Z"
      },
      {
        "duration": 15,
        "start_time": "2023-02-25T12:15:19.986Z"
      },
      {
        "duration": 9,
        "start_time": "2023-02-25T12:15:20.003Z"
      },
      {
        "duration": 12,
        "start_time": "2023-02-25T12:15:20.038Z"
      },
      {
        "duration": 13,
        "start_time": "2023-02-25T12:15:20.051Z"
      },
      {
        "duration": 16,
        "start_time": "2023-02-25T12:15:20.065Z"
      },
      {
        "duration": 10,
        "start_time": "2023-02-25T12:15:20.083Z"
      },
      {
        "duration": 19,
        "start_time": "2023-02-25T12:15:20.095Z"
      },
      {
        "duration": 3,
        "start_time": "2023-02-25T12:15:20.115Z"
      },
      {
        "duration": 18,
        "start_time": "2023-02-25T12:15:20.120Z"
      },
      {
        "duration": 4,
        "start_time": "2023-02-25T12:15:20.140Z"
      },
      {
        "duration": 24,
        "start_time": "2023-02-25T12:15:20.145Z"
      },
      {
        "duration": 303,
        "start_time": "2023-02-25T12:15:20.172Z"
      },
      {
        "duration": 280,
        "start_time": "2023-02-25T12:15:20.476Z"
      },
      {
        "duration": 199,
        "start_time": "2023-02-25T12:15:20.757Z"
      },
      {
        "duration": 303,
        "start_time": "2023-02-25T12:15:20.958Z"
      },
      {
        "duration": 196,
        "start_time": "2023-02-25T12:15:21.262Z"
      },
      {
        "duration": 319,
        "start_time": "2023-02-25T12:15:21.460Z"
      },
      {
        "duration": 9,
        "start_time": "2023-02-25T12:15:21.780Z"
      },
      {
        "duration": 138,
        "start_time": "2023-02-25T12:15:21.790Z"
      },
      {
        "duration": 153,
        "start_time": "2023-02-25T12:15:21.929Z"
      },
      {
        "duration": 7,
        "start_time": "2023-02-25T12:15:22.083Z"
      },
      {
        "duration": 8,
        "start_time": "2023-02-25T12:15:22.091Z"
      },
      {
        "duration": 178,
        "start_time": "2023-02-25T12:15:22.100Z"
      },
      {
        "duration": 252,
        "start_time": "2023-02-25T12:15:22.279Z"
      },
      {
        "duration": 7,
        "start_time": "2023-02-25T12:15:22.537Z"
      },
      {
        "duration": 222,
        "start_time": "2023-02-25T12:15:22.546Z"
      },
      {
        "duration": 2,
        "start_time": "2023-02-25T12:15:22.770Z"
      },
      {
        "duration": 232,
        "start_time": "2023-02-25T12:15:22.774Z"
      },
      {
        "duration": 0,
        "start_time": "2023-02-25T12:15:23.008Z"
      },
      {
        "duration": 0,
        "start_time": "2023-02-25T12:15:23.009Z"
      },
      {
        "duration": 0,
        "start_time": "2023-02-25T12:15:23.010Z"
      },
      {
        "duration": 0,
        "start_time": "2023-02-25T12:15:23.011Z"
      },
      {
        "duration": 0,
        "start_time": "2023-02-25T12:15:23.012Z"
      },
      {
        "duration": 0,
        "start_time": "2023-02-25T12:15:23.013Z"
      },
      {
        "duration": 162,
        "start_time": "2023-02-25T12:18:16.883Z"
      },
      {
        "duration": 1730,
        "start_time": "2023-02-25T12:18:33.220Z"
      },
      {
        "duration": 1742,
        "start_time": "2023-02-25T12:19:02.886Z"
      },
      {
        "duration": 156,
        "start_time": "2023-02-25T12:19:21.702Z"
      },
      {
        "duration": 145,
        "start_time": "2023-02-25T12:19:57.414Z"
      },
      {
        "duration": 187,
        "start_time": "2023-02-25T12:20:15.942Z"
      },
      {
        "duration": 12,
        "start_time": "2023-02-25T12:20:16.131Z"
      },
      {
        "duration": 14,
        "start_time": "2023-02-25T12:20:16.145Z"
      },
      {
        "duration": 4,
        "start_time": "2023-02-25T12:20:16.161Z"
      },
      {
        "duration": 5,
        "start_time": "2023-02-25T12:20:16.167Z"
      },
      {
        "duration": 17,
        "start_time": "2023-02-25T12:20:16.173Z"
      },
      {
        "duration": 0,
        "start_time": "2023-02-25T12:20:16.192Z"
      },
      {
        "duration": 25,
        "start_time": "2023-02-25T12:21:00.937Z"
      },
      {
        "duration": 25,
        "start_time": "2023-02-25T12:21:08.947Z"
      },
      {
        "duration": 28,
        "start_time": "2023-02-25T12:21:17.280Z"
      },
      {
        "duration": 15,
        "start_time": "2023-02-25T12:21:17.310Z"
      },
      {
        "duration": 146,
        "start_time": "2023-02-25T12:23:43.796Z"
      },
      {
        "duration": 1016,
        "start_time": "2023-02-25T12:24:04.978Z"
      },
      {
        "duration": 114,
        "start_time": "2023-02-25T12:24:05.996Z"
      },
      {
        "duration": 12,
        "start_time": "2023-02-25T12:24:06.112Z"
      },
      {
        "duration": 12,
        "start_time": "2023-02-25T12:24:06.126Z"
      },
      {
        "duration": 12,
        "start_time": "2023-02-25T12:24:06.140Z"
      },
      {
        "duration": 5,
        "start_time": "2023-02-25T12:24:06.154Z"
      },
      {
        "duration": 16,
        "start_time": "2023-02-25T12:24:06.161Z"
      },
      {
        "duration": 10,
        "start_time": "2023-02-25T12:24:06.178Z"
      },
      {
        "duration": 8,
        "start_time": "2023-02-25T12:24:06.190Z"
      },
      {
        "duration": 6,
        "start_time": "2023-02-25T12:24:06.200Z"
      },
      {
        "duration": 10,
        "start_time": "2023-02-25T12:24:06.207Z"
      },
      {
        "duration": 21,
        "start_time": "2023-02-25T12:24:06.219Z"
      },
      {
        "duration": 16,
        "start_time": "2023-02-25T12:24:06.242Z"
      },
      {
        "duration": 7,
        "start_time": "2023-02-25T12:24:06.260Z"
      },
      {
        "duration": 7,
        "start_time": "2023-02-25T12:24:06.268Z"
      },
      {
        "duration": 5,
        "start_time": "2023-02-25T12:24:06.276Z"
      },
      {
        "duration": 12,
        "start_time": "2023-02-25T12:24:06.283Z"
      },
      {
        "duration": 8,
        "start_time": "2023-02-25T12:24:06.296Z"
      },
      {
        "duration": 34,
        "start_time": "2023-02-25T12:24:06.306Z"
      },
      {
        "duration": 10,
        "start_time": "2023-02-25T12:24:06.342Z"
      },
      {
        "duration": 6,
        "start_time": "2023-02-25T12:24:06.353Z"
      },
      {
        "duration": 7,
        "start_time": "2023-02-25T12:24:06.361Z"
      },
      {
        "duration": 23,
        "start_time": "2023-02-25T12:24:06.370Z"
      },
      {
        "duration": 11,
        "start_time": "2023-02-25T12:24:06.395Z"
      },
      {
        "duration": 19,
        "start_time": "2023-02-25T12:24:06.408Z"
      },
      {
        "duration": 5,
        "start_time": "2023-02-25T12:24:06.436Z"
      },
      {
        "duration": 42,
        "start_time": "2023-02-25T12:24:06.443Z"
      },
      {
        "duration": 270,
        "start_time": "2023-02-25T12:24:06.488Z"
      },
      {
        "duration": 271,
        "start_time": "2023-02-25T12:24:06.760Z"
      },
      {
        "duration": 199,
        "start_time": "2023-02-25T12:24:07.032Z"
      },
      {
        "duration": 324,
        "start_time": "2023-02-25T12:24:07.236Z"
      },
      {
        "duration": 211,
        "start_time": "2023-02-25T12:24:07.562Z"
      },
      {
        "duration": 323,
        "start_time": "2023-02-25T12:24:07.775Z"
      },
      {
        "duration": 12,
        "start_time": "2023-02-25T12:24:08.100Z"
      },
      {
        "duration": 148,
        "start_time": "2023-02-25T12:24:08.115Z"
      },
      {
        "duration": 158,
        "start_time": "2023-02-25T12:24:08.265Z"
      },
      {
        "duration": 14,
        "start_time": "2023-02-25T12:24:08.425Z"
      },
      {
        "duration": 7,
        "start_time": "2023-02-25T12:24:08.441Z"
      },
      {
        "duration": 167,
        "start_time": "2023-02-25T12:24:08.450Z"
      },
      {
        "duration": 242,
        "start_time": "2023-02-25T12:24:08.619Z"
      },
      {
        "duration": 7,
        "start_time": "2023-02-25T12:24:08.862Z"
      },
      {
        "duration": 222,
        "start_time": "2023-02-25T12:24:08.871Z"
      },
      {
        "duration": 3,
        "start_time": "2023-02-25T12:24:09.095Z"
      },
      {
        "duration": 159,
        "start_time": "2023-02-25T12:24:09.099Z"
      },
      {
        "duration": 10,
        "start_time": "2023-02-25T12:24:09.260Z"
      },
      {
        "duration": 11,
        "start_time": "2023-02-25T12:24:09.272Z"
      },
      {
        "duration": 5,
        "start_time": "2023-02-25T12:24:09.285Z"
      },
      {
        "duration": 4,
        "start_time": "2023-02-25T12:24:09.291Z"
      },
      {
        "duration": 56,
        "start_time": "2023-02-25T12:24:09.297Z"
      },
      {
        "duration": 14,
        "start_time": "2023-02-25T12:24:09.355Z"
      },
      {
        "duration": 1317,
        "start_time": "2023-02-26T16:55:22.415Z"
      },
      {
        "duration": 241,
        "start_time": "2023-02-26T16:55:23.735Z"
      },
      {
        "duration": 12,
        "start_time": "2023-02-26T16:55:23.978Z"
      },
      {
        "duration": 14,
        "start_time": "2023-02-26T16:55:23.992Z"
      },
      {
        "duration": 36,
        "start_time": "2023-02-26T16:55:24.007Z"
      },
      {
        "duration": 15,
        "start_time": "2023-02-26T16:55:24.044Z"
      },
      {
        "duration": 15,
        "start_time": "2023-02-26T16:55:24.061Z"
      },
      {
        "duration": 12,
        "start_time": "2023-02-26T16:55:24.078Z"
      },
      {
        "duration": 18,
        "start_time": "2023-02-26T16:55:24.092Z"
      },
      {
        "duration": 36,
        "start_time": "2023-02-26T16:55:24.113Z"
      },
      {
        "duration": 19,
        "start_time": "2023-02-26T16:55:24.151Z"
      },
      {
        "duration": 18,
        "start_time": "2023-02-26T16:55:24.172Z"
      },
      {
        "duration": 16,
        "start_time": "2023-02-26T16:55:24.191Z"
      },
      {
        "duration": 41,
        "start_time": "2023-02-26T16:55:24.209Z"
      },
      {
        "duration": 16,
        "start_time": "2023-02-26T16:55:24.253Z"
      },
      {
        "duration": 31,
        "start_time": "2023-02-26T16:55:24.271Z"
      },
      {
        "duration": 16,
        "start_time": "2023-02-26T16:55:24.304Z"
      },
      {
        "duration": 9,
        "start_time": "2023-02-26T16:55:24.322Z"
      },
      {
        "duration": 23,
        "start_time": "2023-02-26T16:55:24.332Z"
      },
      {
        "duration": 45,
        "start_time": "2023-02-26T16:55:24.357Z"
      },
      {
        "duration": 28,
        "start_time": "2023-02-26T16:55:24.404Z"
      },
      {
        "duration": 21,
        "start_time": "2023-02-26T16:55:24.433Z"
      },
      {
        "duration": 34,
        "start_time": "2023-02-26T16:55:24.456Z"
      },
      {
        "duration": 4,
        "start_time": "2023-02-26T16:55:24.492Z"
      },
      {
        "duration": 25,
        "start_time": "2023-02-26T16:55:24.498Z"
      },
      {
        "duration": 22,
        "start_time": "2023-02-26T16:55:24.524Z"
      },
      {
        "duration": 29,
        "start_time": "2023-02-26T16:55:24.547Z"
      },
      {
        "duration": 309,
        "start_time": "2023-02-26T16:55:24.579Z"
      },
      {
        "duration": 292,
        "start_time": "2023-02-26T16:55:24.889Z"
      },
      {
        "duration": 233,
        "start_time": "2023-02-26T16:55:25.182Z"
      },
      {
        "duration": 422,
        "start_time": "2023-02-26T16:55:25.416Z"
      },
      {
        "duration": 234,
        "start_time": "2023-02-26T16:55:25.840Z"
      },
      {
        "duration": 357,
        "start_time": "2023-02-26T16:55:26.076Z"
      },
      {
        "duration": 19,
        "start_time": "2023-02-26T16:55:26.435Z"
      },
      {
        "duration": 170,
        "start_time": "2023-02-26T16:55:26.457Z"
      },
      {
        "duration": 163,
        "start_time": "2023-02-26T16:55:26.629Z"
      },
      {
        "duration": 8,
        "start_time": "2023-02-26T16:55:26.794Z"
      },
      {
        "duration": 75,
        "start_time": "2023-02-26T16:55:26.804Z"
      },
      {
        "duration": 207,
        "start_time": "2023-02-26T16:55:26.882Z"
      },
      {
        "duration": 243,
        "start_time": "2023-02-26T16:55:27.091Z"
      },
      {
        "duration": 7,
        "start_time": "2023-02-26T16:55:27.336Z"
      },
      {
        "duration": 6,
        "start_time": "2023-02-26T16:55:27.354Z"
      },
      {
        "duration": 16,
        "start_time": "2023-02-26T16:55:27.362Z"
      },
      {
        "duration": 284,
        "start_time": "2023-02-26T16:55:27.380Z"
      },
      {
        "duration": 0,
        "start_time": "2023-02-26T16:55:27.665Z"
      },
      {
        "duration": 0,
        "start_time": "2023-02-26T16:55:27.667Z"
      },
      {
        "duration": 0,
        "start_time": "2023-02-26T16:55:27.668Z"
      },
      {
        "duration": 0,
        "start_time": "2023-02-26T16:55:27.669Z"
      },
      {
        "duration": 0,
        "start_time": "2023-02-26T16:55:27.670Z"
      },
      {
        "duration": 0,
        "start_time": "2023-02-26T16:55:27.672Z"
      },
      {
        "duration": 3,
        "start_time": "2023-02-26T16:59:29.821Z"
      },
      {
        "duration": 118,
        "start_time": "2023-02-26T16:59:29.827Z"
      },
      {
        "duration": 12,
        "start_time": "2023-02-26T16:59:29.947Z"
      },
      {
        "duration": 13,
        "start_time": "2023-02-26T16:59:29.960Z"
      },
      {
        "duration": 17,
        "start_time": "2023-02-26T16:59:29.975Z"
      },
      {
        "duration": 5,
        "start_time": "2023-02-26T16:59:29.994Z"
      },
      {
        "duration": 11,
        "start_time": "2023-02-26T16:59:30.001Z"
      },
      {
        "duration": 9,
        "start_time": "2023-02-26T16:59:30.014Z"
      },
      {
        "duration": 33,
        "start_time": "2023-02-26T16:59:30.028Z"
      },
      {
        "duration": 8,
        "start_time": "2023-02-26T16:59:30.062Z"
      },
      {
        "duration": 10,
        "start_time": "2023-02-26T16:59:30.074Z"
      },
      {
        "duration": 16,
        "start_time": "2023-02-26T16:59:30.086Z"
      },
      {
        "duration": 9,
        "start_time": "2023-02-26T16:59:30.104Z"
      },
      {
        "duration": 40,
        "start_time": "2023-02-26T16:59:30.115Z"
      },
      {
        "duration": 7,
        "start_time": "2023-02-26T16:59:30.157Z"
      },
      {
        "duration": 12,
        "start_time": "2023-02-26T16:59:30.166Z"
      },
      {
        "duration": 51,
        "start_time": "2023-02-26T16:59:30.180Z"
      },
      {
        "duration": 16,
        "start_time": "2023-02-26T16:59:30.233Z"
      },
      {
        "duration": 24,
        "start_time": "2023-02-26T16:59:30.251Z"
      },
      {
        "duration": 8,
        "start_time": "2023-02-26T16:59:30.277Z"
      },
      {
        "duration": 14,
        "start_time": "2023-02-26T16:59:30.287Z"
      },
      {
        "duration": 9,
        "start_time": "2023-02-26T16:59:30.302Z"
      },
      {
        "duration": 52,
        "start_time": "2023-02-26T16:59:30.313Z"
      },
      {
        "duration": 11,
        "start_time": "2023-02-26T16:59:30.366Z"
      },
      {
        "duration": 36,
        "start_time": "2023-02-26T16:59:30.379Z"
      },
      {
        "duration": 28,
        "start_time": "2023-02-26T16:59:30.417Z"
      },
      {
        "duration": 57,
        "start_time": "2023-02-26T16:59:30.447Z"
      },
      {
        "duration": 285,
        "start_time": "2023-02-26T16:59:30.506Z"
      },
      {
        "duration": 246,
        "start_time": "2023-02-26T16:59:30.794Z"
      },
      {
        "duration": 237,
        "start_time": "2023-02-26T16:59:31.042Z"
      },
      {
        "duration": 364,
        "start_time": "2023-02-26T16:59:31.281Z"
      },
      {
        "duration": 231,
        "start_time": "2023-02-26T16:59:31.647Z"
      },
      {
        "duration": 383,
        "start_time": "2023-02-26T16:59:31.889Z"
      },
      {
        "duration": 10,
        "start_time": "2023-02-26T16:59:32.274Z"
      },
      {
        "duration": 150,
        "start_time": "2023-02-26T16:59:32.285Z"
      },
      {
        "duration": 164,
        "start_time": "2023-02-26T16:59:32.437Z"
      },
      {
        "duration": 6,
        "start_time": "2023-02-26T16:59:32.603Z"
      },
      {
        "duration": 8,
        "start_time": "2023-02-26T16:59:32.611Z"
      },
      {
        "duration": 184,
        "start_time": "2023-02-26T16:59:32.621Z"
      },
      {
        "duration": 162,
        "start_time": "2023-02-26T16:59:32.806Z"
      },
      {
        "duration": 7,
        "start_time": "2023-02-26T16:59:32.970Z"
      },
      {
        "duration": 9,
        "start_time": "2023-02-26T16:59:32.979Z"
      },
      {
        "duration": 9,
        "start_time": "2023-02-26T16:59:32.991Z"
      },
      {
        "duration": 184,
        "start_time": "2023-02-26T16:59:33.002Z"
      },
      {
        "duration": 0,
        "start_time": "2023-02-26T16:59:33.188Z"
      },
      {
        "duration": 0,
        "start_time": "2023-02-26T16:59:33.190Z"
      },
      {
        "duration": 0,
        "start_time": "2023-02-26T16:59:33.190Z"
      },
      {
        "duration": 0,
        "start_time": "2023-02-26T16:59:33.191Z"
      },
      {
        "duration": 0,
        "start_time": "2023-02-26T16:59:33.193Z"
      },
      {
        "duration": 0,
        "start_time": "2023-02-26T16:59:33.194Z"
      },
      {
        "duration": 145,
        "start_time": "2023-02-26T17:01:10.999Z"
      },
      {
        "duration": 42,
        "start_time": "2023-02-26T17:01:27.758Z"
      },
      {
        "duration": 271,
        "start_time": "2023-02-26T17:01:31.966Z"
      },
      {
        "duration": 15,
        "start_time": "2023-02-26T17:02:07.404Z"
      },
      {
        "duration": 14,
        "start_time": "2023-02-26T17:02:12.240Z"
      },
      {
        "duration": 234,
        "start_time": "2023-02-26T17:10:25.522Z"
      },
      {
        "duration": 1251,
        "start_time": "2023-02-26T17:10:41.252Z"
      },
      {
        "duration": 133,
        "start_time": "2023-02-26T17:10:42.505Z"
      },
      {
        "duration": 12,
        "start_time": "2023-02-26T17:10:42.640Z"
      },
      {
        "duration": 30,
        "start_time": "2023-02-26T17:10:42.659Z"
      },
      {
        "duration": 15,
        "start_time": "2023-02-26T17:10:42.691Z"
      },
      {
        "duration": 10,
        "start_time": "2023-02-26T17:10:42.708Z"
      },
      {
        "duration": 11,
        "start_time": "2023-02-26T17:10:42.720Z"
      },
      {
        "duration": 13,
        "start_time": "2023-02-26T17:10:42.733Z"
      },
      {
        "duration": 24,
        "start_time": "2023-02-26T17:10:42.748Z"
      },
      {
        "duration": 14,
        "start_time": "2023-02-26T17:10:42.774Z"
      },
      {
        "duration": 13,
        "start_time": "2023-02-26T17:10:42.790Z"
      },
      {
        "duration": 9,
        "start_time": "2023-02-26T17:10:42.805Z"
      },
      {
        "duration": 10,
        "start_time": "2023-02-26T17:10:42.816Z"
      },
      {
        "duration": 15,
        "start_time": "2023-02-26T17:10:42.828Z"
      },
      {
        "duration": 27,
        "start_time": "2023-02-26T17:10:42.853Z"
      },
      {
        "duration": 9,
        "start_time": "2023-02-26T17:10:42.882Z"
      },
      {
        "duration": 16,
        "start_time": "2023-02-26T17:10:42.893Z"
      },
      {
        "duration": 12,
        "start_time": "2023-02-26T17:10:42.912Z"
      },
      {
        "duration": 16,
        "start_time": "2023-02-26T17:10:42.926Z"
      },
      {
        "duration": 12,
        "start_time": "2023-02-26T17:10:42.956Z"
      },
      {
        "duration": 19,
        "start_time": "2023-02-26T17:10:42.970Z"
      },
      {
        "duration": 18,
        "start_time": "2023-02-26T17:10:42.991Z"
      },
      {
        "duration": 44,
        "start_time": "2023-02-26T17:10:43.011Z"
      },
      {
        "duration": 5,
        "start_time": "2023-02-26T17:10:43.058Z"
      },
      {
        "duration": 22,
        "start_time": "2023-02-26T17:10:43.067Z"
      },
      {
        "duration": 13,
        "start_time": "2023-02-26T17:10:43.091Z"
      },
      {
        "duration": 23,
        "start_time": "2023-02-26T17:10:43.106Z"
      },
      {
        "duration": 355,
        "start_time": "2023-02-26T17:10:43.134Z"
      },
      {
        "duration": 384,
        "start_time": "2023-02-26T17:10:43.491Z"
      },
      {
        "duration": 236,
        "start_time": "2023-02-26T17:10:43.878Z"
      },
      {
        "duration": 394,
        "start_time": "2023-02-26T17:10:44.117Z"
      },
      {
        "duration": 238,
        "start_time": "2023-02-26T17:10:44.512Z"
      },
      {
        "duration": 435,
        "start_time": "2023-02-26T17:10:44.753Z"
      },
      {
        "duration": 14,
        "start_time": "2023-02-26T17:10:45.190Z"
      },
      {
        "duration": 258,
        "start_time": "2023-02-26T17:10:45.206Z"
      },
      {
        "duration": 242,
        "start_time": "2023-02-26T17:10:45.466Z"
      },
      {
        "duration": 9,
        "start_time": "2023-02-26T17:10:45.710Z"
      },
      {
        "duration": 12,
        "start_time": "2023-02-26T17:10:45.722Z"
      },
      {
        "duration": 232,
        "start_time": "2023-02-26T17:10:45.757Z"
      },
      {
        "duration": 285,
        "start_time": "2023-02-26T17:10:45.992Z"
      },
      {
        "duration": 9,
        "start_time": "2023-02-26T17:10:46.279Z"
      },
      {
        "duration": 67,
        "start_time": "2023-02-26T17:10:46.290Z"
      },
      {
        "duration": 7,
        "start_time": "2023-02-26T17:10:46.361Z"
      },
      {
        "duration": 227,
        "start_time": "2023-02-26T17:10:46.370Z"
      },
      {
        "duration": 15,
        "start_time": "2023-02-26T17:10:46.599Z"
      },
      {
        "duration": 17,
        "start_time": "2023-02-26T17:10:46.616Z"
      },
      {
        "duration": 40,
        "start_time": "2023-02-26T17:10:46.636Z"
      },
      {
        "duration": 17,
        "start_time": "2023-02-26T17:10:46.680Z"
      },
      {
        "duration": 43,
        "start_time": "2023-02-26T17:10:46.699Z"
      },
      {
        "duration": 19,
        "start_time": "2023-02-26T17:10:46.744Z"
      },
      {
        "duration": 334,
        "start_time": "2023-02-26T17:11:39.925Z"
      },
      {
        "duration": 3,
        "start_time": "2023-02-26T17:12:16.693Z"
      },
      {
        "duration": 143,
        "start_time": "2023-02-26T17:12:16.699Z"
      },
      {
        "duration": 24,
        "start_time": "2023-02-26T17:12:16.844Z"
      },
      {
        "duration": 24,
        "start_time": "2023-02-26T17:12:16.878Z"
      },
      {
        "duration": 15,
        "start_time": "2023-02-26T17:12:16.905Z"
      },
      {
        "duration": 5,
        "start_time": "2023-02-26T17:12:16.922Z"
      },
      {
        "duration": 8,
        "start_time": "2023-02-26T17:12:16.929Z"
      },
      {
        "duration": 22,
        "start_time": "2023-02-26T17:12:16.939Z"
      },
      {
        "duration": 20,
        "start_time": "2023-02-26T17:12:16.967Z"
      },
      {
        "duration": 14,
        "start_time": "2023-02-26T17:12:16.989Z"
      },
      {
        "duration": 13,
        "start_time": "2023-02-26T17:12:17.007Z"
      },
      {
        "duration": 14,
        "start_time": "2023-02-26T17:12:17.022Z"
      },
      {
        "duration": 28,
        "start_time": "2023-02-26T17:12:17.038Z"
      },
      {
        "duration": 23,
        "start_time": "2023-02-26T17:12:17.076Z"
      },
      {
        "duration": 11,
        "start_time": "2023-02-26T17:12:17.102Z"
      },
      {
        "duration": 11,
        "start_time": "2023-02-26T17:12:17.115Z"
      },
      {
        "duration": 21,
        "start_time": "2023-02-26T17:12:17.128Z"
      },
      {
        "duration": 41,
        "start_time": "2023-02-26T17:12:17.151Z"
      },
      {
        "duration": 18,
        "start_time": "2023-02-26T17:12:17.194Z"
      },
      {
        "duration": 10,
        "start_time": "2023-02-26T17:12:17.215Z"
      },
      {
        "duration": 7,
        "start_time": "2023-02-26T17:12:17.227Z"
      },
      {
        "duration": 23,
        "start_time": "2023-02-26T17:12:17.237Z"
      },
      {
        "duration": 43,
        "start_time": "2023-02-26T17:12:17.264Z"
      },
      {
        "duration": 6,
        "start_time": "2023-02-26T17:12:17.310Z"
      },
      {
        "duration": 28,
        "start_time": "2023-02-26T17:12:17.318Z"
      },
      {
        "duration": 23,
        "start_time": "2023-02-26T17:12:17.349Z"
      },
      {
        "duration": 52,
        "start_time": "2023-02-26T17:12:17.374Z"
      },
      {
        "duration": 390,
        "start_time": "2023-02-26T17:12:17.428Z"
      },
      {
        "duration": 315,
        "start_time": "2023-02-26T17:12:17.822Z"
      },
      {
        "duration": 254,
        "start_time": "2023-02-26T17:12:18.139Z"
      },
      {
        "duration": 327,
        "start_time": "2023-02-26T17:12:18.396Z"
      },
      {
        "duration": 248,
        "start_time": "2023-02-26T17:12:18.725Z"
      },
      {
        "duration": 362,
        "start_time": "2023-02-26T17:12:18.978Z"
      },
      {
        "duration": 21,
        "start_time": "2023-02-26T17:12:19.342Z"
      },
      {
        "duration": 226,
        "start_time": "2023-02-26T17:12:19.365Z"
      },
      {
        "duration": 194,
        "start_time": "2023-02-26T17:12:19.594Z"
      },
      {
        "duration": 8,
        "start_time": "2023-02-26T17:12:19.790Z"
      },
      {
        "duration": 19,
        "start_time": "2023-02-26T17:12:19.799Z"
      },
      {
        "duration": 209,
        "start_time": "2023-02-26T17:12:19.820Z"
      },
      {
        "duration": 193,
        "start_time": "2023-02-26T17:12:20.031Z"
      },
      {
        "duration": 9,
        "start_time": "2023-02-26T17:12:20.226Z"
      },
      {
        "duration": 66,
        "start_time": "2023-02-26T17:12:20.237Z"
      },
      {
        "duration": 45,
        "start_time": "2023-02-26T17:12:20.305Z"
      },
      {
        "duration": 257,
        "start_time": "2023-02-26T17:12:20.352Z"
      },
      {
        "duration": 27,
        "start_time": "2023-02-26T17:12:20.611Z"
      },
      {
        "duration": 52,
        "start_time": "2023-02-26T17:12:20.641Z"
      },
      {
        "duration": 14,
        "start_time": "2023-02-26T17:12:20.696Z"
      },
      {
        "duration": 9,
        "start_time": "2023-02-26T17:12:20.712Z"
      },
      {
        "duration": 48,
        "start_time": "2023-02-26T17:12:20.723Z"
      },
      {
        "duration": 27,
        "start_time": "2023-02-26T17:12:20.773Z"
      },
      {
        "duration": 45,
        "start_time": "2023-02-26T17:12:41.987Z"
      },
      {
        "duration": 1250,
        "start_time": "2023-02-26T17:13:19.606Z"
      },
      {
        "duration": 133,
        "start_time": "2023-02-26T17:13:20.859Z"
      },
      {
        "duration": 13,
        "start_time": "2023-02-26T17:13:20.993Z"
      },
      {
        "duration": 13,
        "start_time": "2023-02-26T17:13:21.008Z"
      },
      {
        "duration": 20,
        "start_time": "2023-02-26T17:13:21.023Z"
      },
      {
        "duration": 7,
        "start_time": "2023-02-26T17:13:21.046Z"
      },
      {
        "duration": 40,
        "start_time": "2023-02-26T17:13:21.055Z"
      },
      {
        "duration": 17,
        "start_time": "2023-02-26T17:13:21.097Z"
      },
      {
        "duration": 40,
        "start_time": "2023-02-26T17:13:21.116Z"
      },
      {
        "duration": 9,
        "start_time": "2023-02-26T17:13:21.161Z"
      },
      {
        "duration": 38,
        "start_time": "2023-02-26T17:13:21.173Z"
      },
      {
        "duration": 48,
        "start_time": "2023-02-26T17:13:21.213Z"
      },
      {
        "duration": 9,
        "start_time": "2023-02-26T17:13:21.263Z"
      },
      {
        "duration": 12,
        "start_time": "2023-02-26T17:13:21.277Z"
      },
      {
        "duration": 9,
        "start_time": "2023-02-26T17:13:21.291Z"
      },
      {
        "duration": 8,
        "start_time": "2023-02-26T17:13:21.302Z"
      },
      {
        "duration": 16,
        "start_time": "2023-02-26T17:13:21.312Z"
      },
      {
        "duration": 32,
        "start_time": "2023-02-26T17:13:21.330Z"
      },
      {
        "duration": 42,
        "start_time": "2023-02-26T17:13:21.381Z"
      },
      {
        "duration": 22,
        "start_time": "2023-02-26T17:13:21.425Z"
      },
      {
        "duration": 7,
        "start_time": "2023-02-26T17:13:21.449Z"
      },
      {
        "duration": 31,
        "start_time": "2023-02-26T17:13:21.458Z"
      },
      {
        "duration": 27,
        "start_time": "2023-02-26T17:13:21.491Z"
      },
      {
        "duration": 11,
        "start_time": "2023-02-26T17:13:21.520Z"
      },
      {
        "duration": 57,
        "start_time": "2023-02-26T17:13:21.534Z"
      },
      {
        "duration": 9,
        "start_time": "2023-02-26T17:13:21.593Z"
      },
      {
        "duration": 30,
        "start_time": "2023-02-26T17:13:21.604Z"
      },
      {
        "duration": 316,
        "start_time": "2023-02-26T17:13:21.638Z"
      },
      {
        "duration": 321,
        "start_time": "2023-02-26T17:13:21.962Z"
      },
      {
        "duration": 246,
        "start_time": "2023-02-26T17:13:22.285Z"
      },
      {
        "duration": 455,
        "start_time": "2023-02-26T17:13:22.533Z"
      },
      {
        "duration": 323,
        "start_time": "2023-02-26T17:13:22.990Z"
      },
      {
        "duration": 380,
        "start_time": "2023-02-26T17:13:23.318Z"
      },
      {
        "duration": 12,
        "start_time": "2023-02-26T17:13:23.700Z"
      },
      {
        "duration": 191,
        "start_time": "2023-02-26T17:13:23.714Z"
      },
      {
        "duration": 186,
        "start_time": "2023-02-26T17:13:23.906Z"
      },
      {
        "duration": 8,
        "start_time": "2023-02-26T17:13:24.094Z"
      },
      {
        "duration": 9,
        "start_time": "2023-02-26T17:13:24.104Z"
      },
      {
        "duration": 200,
        "start_time": "2023-02-26T17:13:24.115Z"
      },
      {
        "duration": 293,
        "start_time": "2023-02-26T17:13:24.317Z"
      },
      {
        "duration": 10,
        "start_time": "2023-02-26T17:13:24.613Z"
      },
      {
        "duration": 45,
        "start_time": "2023-02-26T17:13:24.625Z"
      },
      {
        "duration": 30,
        "start_time": "2023-02-26T17:13:24.672Z"
      },
      {
        "duration": 325,
        "start_time": "2023-02-26T17:13:24.704Z"
      },
      {
        "duration": 0,
        "start_time": "2023-02-26T17:13:25.031Z"
      },
      {
        "duration": 0,
        "start_time": "2023-02-26T17:13:25.033Z"
      },
      {
        "duration": 0,
        "start_time": "2023-02-26T17:13:25.034Z"
      },
      {
        "duration": 1,
        "start_time": "2023-02-26T17:13:25.035Z"
      },
      {
        "duration": 0,
        "start_time": "2023-02-26T17:13:25.039Z"
      },
      {
        "duration": 0,
        "start_time": "2023-02-26T17:13:25.055Z"
      },
      {
        "duration": 113,
        "start_time": "2023-02-26T17:15:28.136Z"
      },
      {
        "duration": 139,
        "start_time": "2023-02-26T17:15:43.791Z"
      },
      {
        "duration": 122,
        "start_time": "2023-02-26T17:16:21.192Z"
      },
      {
        "duration": 290,
        "start_time": "2023-02-26T17:17:08.176Z"
      },
      {
        "duration": 14,
        "start_time": "2023-02-26T17:17:55.620Z"
      },
      {
        "duration": 14,
        "start_time": "2023-02-26T17:17:58.992Z"
      },
      {
        "duration": 6,
        "start_time": "2023-02-26T17:18:01.724Z"
      },
      {
        "duration": 6,
        "start_time": "2023-02-26T17:18:04.142Z"
      },
      {
        "duration": 25,
        "start_time": "2023-02-26T17:18:08.438Z"
      },
      {
        "duration": 54,
        "start_time": "2023-02-26T17:18:48.932Z"
      },
      {
        "duration": 20,
        "start_time": "2023-02-26T17:18:53.905Z"
      },
      {
        "duration": 229,
        "start_time": "2023-02-26T17:25:57.284Z"
      },
      {
        "duration": 234,
        "start_time": "2023-02-26T17:26:10.880Z"
      },
      {
        "duration": 12,
        "start_time": "2023-02-26T17:27:44.318Z"
      },
      {
        "duration": 145,
        "start_time": "2023-02-26T17:28:01.383Z"
      },
      {
        "duration": 26,
        "start_time": "2023-02-26T17:28:11.339Z"
      },
      {
        "duration": 1164,
        "start_time": "2023-02-26T17:35:41.502Z"
      },
      {
        "duration": 144,
        "start_time": "2023-02-26T17:35:42.668Z"
      },
      {
        "duration": 13,
        "start_time": "2023-02-26T17:35:42.814Z"
      },
      {
        "duration": 27,
        "start_time": "2023-02-26T17:35:42.829Z"
      },
      {
        "duration": 44,
        "start_time": "2023-02-26T17:35:42.858Z"
      },
      {
        "duration": 9,
        "start_time": "2023-02-26T17:35:42.904Z"
      },
      {
        "duration": 8,
        "start_time": "2023-02-26T17:35:42.915Z"
      },
      {
        "duration": 9,
        "start_time": "2023-02-26T17:35:42.925Z"
      },
      {
        "duration": 6,
        "start_time": "2023-02-26T17:35:42.935Z"
      },
      {
        "duration": 5,
        "start_time": "2023-02-26T17:35:42.943Z"
      },
      {
        "duration": 47,
        "start_time": "2023-02-26T17:35:42.950Z"
      },
      {
        "duration": 12,
        "start_time": "2023-02-26T17:35:42.998Z"
      },
      {
        "duration": 8,
        "start_time": "2023-02-26T17:35:43.012Z"
      },
      {
        "duration": 7,
        "start_time": "2023-02-26T17:35:43.022Z"
      },
      {
        "duration": 5,
        "start_time": "2023-02-26T17:35:43.031Z"
      },
      {
        "duration": 5,
        "start_time": "2023-02-26T17:35:43.038Z"
      },
      {
        "duration": 38,
        "start_time": "2023-02-26T17:35:43.045Z"
      },
      {
        "duration": 20,
        "start_time": "2023-02-26T17:35:43.089Z"
      },
      {
        "duration": 15,
        "start_time": "2023-02-26T17:35:43.112Z"
      },
      {
        "duration": 13,
        "start_time": "2023-02-26T17:35:43.129Z"
      },
      {
        "duration": 7,
        "start_time": "2023-02-26T17:35:43.144Z"
      },
      {
        "duration": 37,
        "start_time": "2023-02-26T17:35:43.153Z"
      },
      {
        "duration": 33,
        "start_time": "2023-02-26T17:35:43.194Z"
      },
      {
        "duration": 3,
        "start_time": "2023-02-26T17:35:43.230Z"
      },
      {
        "duration": 5,
        "start_time": "2023-02-26T17:35:43.235Z"
      },
      {
        "duration": 5,
        "start_time": "2023-02-26T17:35:43.242Z"
      },
      {
        "duration": 44,
        "start_time": "2023-02-26T17:35:43.249Z"
      },
      {
        "duration": 375,
        "start_time": "2023-02-26T17:35:43.298Z"
      },
      {
        "duration": 384,
        "start_time": "2023-02-26T17:35:43.679Z"
      },
      {
        "duration": 271,
        "start_time": "2023-02-26T17:35:44.068Z"
      },
      {
        "duration": 370,
        "start_time": "2023-02-26T17:35:44.341Z"
      },
      {
        "duration": 271,
        "start_time": "2023-02-26T17:35:44.713Z"
      },
      {
        "duration": 343,
        "start_time": "2023-02-26T17:35:44.986Z"
      },
      {
        "duration": 11,
        "start_time": "2023-02-26T17:35:45.331Z"
      },
      {
        "duration": 156,
        "start_time": "2023-02-26T17:35:45.355Z"
      },
      {
        "duration": 185,
        "start_time": "2023-02-26T17:35:45.514Z"
      },
      {
        "duration": 7,
        "start_time": "2023-02-26T17:35:45.700Z"
      },
      {
        "duration": 8,
        "start_time": "2023-02-26T17:35:45.709Z"
      },
      {
        "duration": 206,
        "start_time": "2023-02-26T17:35:45.718Z"
      },
      {
        "duration": 279,
        "start_time": "2023-02-26T17:35:45.926Z"
      },
      {
        "duration": 8,
        "start_time": "2023-02-26T17:35:46.206Z"
      },
      {
        "duration": 45,
        "start_time": "2023-02-26T17:35:46.216Z"
      },
      {
        "duration": 26,
        "start_time": "2023-02-26T17:35:46.268Z"
      },
      {
        "duration": 226,
        "start_time": "2023-02-26T17:35:46.295Z"
      },
      {
        "duration": 13,
        "start_time": "2023-02-26T17:35:46.522Z"
      },
      {
        "duration": 39,
        "start_time": "2023-02-26T17:35:46.537Z"
      },
      {
        "duration": 11,
        "start_time": "2023-02-26T17:35:46.581Z"
      },
      {
        "duration": 8,
        "start_time": "2023-02-26T17:35:46.594Z"
      },
      {
        "duration": 32,
        "start_time": "2023-02-26T17:35:46.604Z"
      },
      {
        "duration": 24,
        "start_time": "2023-02-26T17:35:46.637Z"
      },
      {
        "duration": 133,
        "start_time": "2023-02-26T17:48:25.341Z"
      },
      {
        "duration": 152,
        "start_time": "2023-02-26T17:48:32.899Z"
      },
      {
        "duration": 13,
        "start_time": "2023-02-26T17:52:34.445Z"
      },
      {
        "duration": 1585,
        "start_time": "2023-02-26T17:53:19.309Z"
      },
      {
        "duration": 1255,
        "start_time": "2023-02-26T17:53:32.312Z"
      },
      {
        "duration": 1297,
        "start_time": "2023-02-26T17:53:47.834Z"
      },
      {
        "duration": 14,
        "start_time": "2023-02-26T17:54:31.853Z"
      },
      {
        "duration": 13,
        "start_time": "2023-02-26T17:54:47.039Z"
      },
      {
        "duration": 15,
        "start_time": "2023-02-26T17:54:56.662Z"
      },
      {
        "duration": 126,
        "start_time": "2023-02-26T17:56:31.177Z"
      },
      {
        "duration": 1175,
        "start_time": "2023-02-26T17:56:54.859Z"
      },
      {
        "duration": 146,
        "start_time": "2023-02-26T17:56:56.037Z"
      },
      {
        "duration": 14,
        "start_time": "2023-02-26T17:56:56.184Z"
      },
      {
        "duration": 14,
        "start_time": "2023-02-26T17:56:56.200Z"
      },
      {
        "duration": 12,
        "start_time": "2023-02-26T17:56:56.216Z"
      },
      {
        "duration": 5,
        "start_time": "2023-02-26T17:56:56.230Z"
      },
      {
        "duration": 8,
        "start_time": "2023-02-26T17:56:56.237Z"
      },
      {
        "duration": 12,
        "start_time": "2023-02-26T17:56:56.246Z"
      },
      {
        "duration": 7,
        "start_time": "2023-02-26T17:56:56.259Z"
      },
      {
        "duration": 14,
        "start_time": "2023-02-26T17:56:56.268Z"
      },
      {
        "duration": 20,
        "start_time": "2023-02-26T17:56:56.284Z"
      },
      {
        "duration": 11,
        "start_time": "2023-02-26T17:56:56.306Z"
      },
      {
        "duration": 35,
        "start_time": "2023-02-26T17:56:56.319Z"
      },
      {
        "duration": 10,
        "start_time": "2023-02-26T17:56:56.356Z"
      },
      {
        "duration": 9,
        "start_time": "2023-02-26T17:56:56.367Z"
      },
      {
        "duration": 6,
        "start_time": "2023-02-26T17:56:56.378Z"
      },
      {
        "duration": 15,
        "start_time": "2023-02-26T17:56:56.386Z"
      },
      {
        "duration": 9,
        "start_time": "2023-02-26T17:56:56.403Z"
      },
      {
        "duration": 48,
        "start_time": "2023-02-26T17:56:56.414Z"
      },
      {
        "duration": 5,
        "start_time": "2023-02-26T17:56:56.464Z"
      },
      {
        "duration": 8,
        "start_time": "2023-02-26T17:56:56.470Z"
      },
      {
        "duration": 9,
        "start_time": "2023-02-26T17:56:56.479Z"
      },
      {
        "duration": 21,
        "start_time": "2023-02-26T17:56:56.490Z"
      },
      {
        "duration": 4,
        "start_time": "2023-02-26T17:56:56.512Z"
      },
      {
        "duration": 38,
        "start_time": "2023-02-26T17:56:56.517Z"
      },
      {
        "duration": 6,
        "start_time": "2023-02-26T17:56:56.557Z"
      },
      {
        "duration": 55,
        "start_time": "2023-02-26T17:56:56.564Z"
      },
      {
        "duration": 292,
        "start_time": "2023-02-26T17:56:56.622Z"
      },
      {
        "duration": 303,
        "start_time": "2023-02-26T17:56:56.916Z"
      },
      {
        "duration": 234,
        "start_time": "2023-02-26T17:56:57.221Z"
      },
      {
        "duration": 384,
        "start_time": "2023-02-26T17:56:57.457Z"
      },
      {
        "duration": 230,
        "start_time": "2023-02-26T17:56:57.843Z"
      },
      {
        "duration": 355,
        "start_time": "2023-02-26T17:56:58.075Z"
      },
      {
        "duration": 9,
        "start_time": "2023-02-26T17:56:58.432Z"
      },
      {
        "duration": 153,
        "start_time": "2023-02-26T17:56:58.443Z"
      },
      {
        "duration": 151,
        "start_time": "2023-02-26T17:56:58.598Z"
      },
      {
        "duration": 7,
        "start_time": "2023-02-26T17:56:58.753Z"
      },
      {
        "duration": 9,
        "start_time": "2023-02-26T17:56:58.761Z"
      },
      {
        "duration": 183,
        "start_time": "2023-02-26T17:56:58.771Z"
      },
      {
        "duration": 222,
        "start_time": "2023-02-26T17:56:58.956Z"
      },
      {
        "duration": 7,
        "start_time": "2023-02-26T17:56:59.180Z"
      },
      {
        "duration": 28,
        "start_time": "2023-02-26T17:56:59.188Z"
      },
      {
        "duration": 3,
        "start_time": "2023-02-26T17:56:59.217Z"
      },
      {
        "duration": 208,
        "start_time": "2023-02-26T17:56:59.222Z"
      },
      {
        "duration": 10,
        "start_time": "2023-02-26T17:56:59.431Z"
      },
      {
        "duration": 14,
        "start_time": "2023-02-26T17:56:59.454Z"
      },
      {
        "duration": 3,
        "start_time": "2023-02-26T17:56:59.469Z"
      },
      {
        "duration": 9,
        "start_time": "2023-02-26T17:56:59.473Z"
      },
      {
        "duration": 69,
        "start_time": "2023-02-26T17:56:59.485Z"
      },
      {
        "duration": 18,
        "start_time": "2023-02-26T17:56:59.556Z"
      },
      {
        "duration": 1048,
        "start_time": "2023-02-27T15:15:54.096Z"
      },
      {
        "duration": 108,
        "start_time": "2023-02-27T15:15:55.147Z"
      },
      {
        "duration": 11,
        "start_time": "2023-02-27T15:15:55.257Z"
      },
      {
        "duration": 10,
        "start_time": "2023-02-27T15:15:55.270Z"
      },
      {
        "duration": 18,
        "start_time": "2023-02-27T15:15:55.282Z"
      },
      {
        "duration": 3,
        "start_time": "2023-02-27T15:15:55.306Z"
      },
      {
        "duration": 7,
        "start_time": "2023-02-27T15:15:55.311Z"
      },
      {
        "duration": 8,
        "start_time": "2023-02-27T15:15:55.320Z"
      },
      {
        "duration": 9,
        "start_time": "2023-02-27T15:15:55.329Z"
      },
      {
        "duration": 6,
        "start_time": "2023-02-27T15:15:55.340Z"
      },
      {
        "duration": 10,
        "start_time": "2023-02-27T15:15:55.347Z"
      },
      {
        "duration": 10,
        "start_time": "2023-02-27T15:15:55.359Z"
      },
      {
        "duration": 29,
        "start_time": "2023-02-27T15:15:55.370Z"
      },
      {
        "duration": 11,
        "start_time": "2023-02-27T15:15:55.402Z"
      },
      {
        "duration": 8,
        "start_time": "2023-02-27T15:15:55.414Z"
      },
      {
        "duration": 8,
        "start_time": "2023-02-27T15:15:55.423Z"
      },
      {
        "duration": 12,
        "start_time": "2023-02-27T15:15:55.433Z"
      },
      {
        "duration": 8,
        "start_time": "2023-02-27T15:15:55.446Z"
      },
      {
        "duration": 14,
        "start_time": "2023-02-27T15:15:55.456Z"
      },
      {
        "duration": 23,
        "start_time": "2023-02-27T15:15:55.471Z"
      },
      {
        "duration": 17,
        "start_time": "2023-02-27T15:15:55.496Z"
      },
      {
        "duration": 7,
        "start_time": "2023-02-27T15:15:55.515Z"
      },
      {
        "duration": 30,
        "start_time": "2023-02-27T15:15:55.524Z"
      },
      {
        "duration": 4,
        "start_time": "2023-02-27T15:15:55.555Z"
      },
      {
        "duration": 11,
        "start_time": "2023-02-27T15:15:55.560Z"
      },
      {
        "duration": 9,
        "start_time": "2023-02-27T15:15:55.572Z"
      },
      {
        "duration": 31,
        "start_time": "2023-02-27T15:15:55.582Z"
      },
      {
        "duration": 294,
        "start_time": "2023-02-27T15:15:55.616Z"
      },
      {
        "duration": 277,
        "start_time": "2023-02-27T15:15:55.911Z"
      },
      {
        "duration": 256,
        "start_time": "2023-02-27T15:15:56.191Z"
      },
      {
        "duration": 466,
        "start_time": "2023-02-27T15:15:56.450Z"
      },
      {
        "duration": 233,
        "start_time": "2023-02-27T15:15:56.918Z"
      },
      {
        "duration": 360,
        "start_time": "2023-02-27T15:15:57.152Z"
      },
      {
        "duration": 10,
        "start_time": "2023-02-27T15:15:57.513Z"
      },
      {
        "duration": 155,
        "start_time": "2023-02-27T15:15:57.524Z"
      },
      {
        "duration": 169,
        "start_time": "2023-02-27T15:15:57.680Z"
      },
      {
        "duration": 8,
        "start_time": "2023-02-27T15:15:57.850Z"
      },
      {
        "duration": 21,
        "start_time": "2023-02-27T15:15:57.860Z"
      },
      {
        "duration": 177,
        "start_time": "2023-02-27T15:15:57.883Z"
      },
      {
        "duration": 244,
        "start_time": "2023-02-27T15:15:58.062Z"
      },
      {
        "duration": 6,
        "start_time": "2023-02-27T15:15:58.309Z"
      },
      {
        "duration": 24,
        "start_time": "2023-02-27T15:15:58.316Z"
      },
      {
        "duration": 2,
        "start_time": "2023-02-27T15:15:58.342Z"
      },
      {
        "duration": 189,
        "start_time": "2023-02-27T15:15:58.345Z"
      },
      {
        "duration": 9,
        "start_time": "2023-02-27T15:15:58.535Z"
      },
      {
        "duration": 90,
        "start_time": "2023-02-27T15:15:58.546Z"
      },
      {
        "duration": 0,
        "start_time": "2023-02-27T15:15:58.638Z"
      },
      {
        "duration": 0,
        "start_time": "2023-02-27T15:15:58.639Z"
      },
      {
        "duration": 57,
        "start_time": "2023-02-27T15:16:24.443Z"
      },
      {
        "duration": 0,
        "start_time": "2023-02-27T15:16:24.501Z"
      },
      {
        "duration": 0,
        "start_time": "2023-02-27T15:16:24.502Z"
      },
      {
        "duration": 1014,
        "start_time": "2023-02-27T15:16:35.205Z"
      },
      {
        "duration": 105,
        "start_time": "2023-02-27T15:16:36.222Z"
      },
      {
        "duration": 11,
        "start_time": "2023-02-27T15:16:36.328Z"
      },
      {
        "duration": 13,
        "start_time": "2023-02-27T15:16:36.341Z"
      },
      {
        "duration": 10,
        "start_time": "2023-02-27T15:16:36.356Z"
      },
      {
        "duration": 6,
        "start_time": "2023-02-27T15:16:36.368Z"
      },
      {
        "duration": 10,
        "start_time": "2023-02-27T15:16:36.376Z"
      },
      {
        "duration": 24,
        "start_time": "2023-02-27T15:16:36.390Z"
      },
      {
        "duration": 14,
        "start_time": "2023-02-27T15:16:36.416Z"
      },
      {
        "duration": 8,
        "start_time": "2023-02-27T15:16:36.433Z"
      },
      {
        "duration": 14,
        "start_time": "2023-02-27T15:16:36.443Z"
      },
      {
        "duration": 12,
        "start_time": "2023-02-27T15:16:36.459Z"
      },
      {
        "duration": 8,
        "start_time": "2023-02-27T15:16:36.473Z"
      },
      {
        "duration": 18,
        "start_time": "2023-02-27T15:16:36.482Z"
      },
      {
        "duration": 21,
        "start_time": "2023-02-27T15:16:36.501Z"
      },
      {
        "duration": 17,
        "start_time": "2023-02-27T15:16:36.523Z"
      },
      {
        "duration": 17,
        "start_time": "2023-02-27T15:16:36.543Z"
      },
      {
        "duration": 10,
        "start_time": "2023-02-27T15:16:36.561Z"
      },
      {
        "duration": 18,
        "start_time": "2023-02-27T15:16:36.573Z"
      },
      {
        "duration": 8,
        "start_time": "2023-02-27T15:16:36.593Z"
      },
      {
        "duration": 7,
        "start_time": "2023-02-27T15:16:36.602Z"
      },
      {
        "duration": 10,
        "start_time": "2023-02-27T15:16:36.610Z"
      },
      {
        "duration": 30,
        "start_time": "2023-02-27T15:16:36.622Z"
      },
      {
        "duration": 4,
        "start_time": "2023-02-27T15:16:36.653Z"
      },
      {
        "duration": 5,
        "start_time": "2023-02-27T15:16:36.659Z"
      },
      {
        "duration": 6,
        "start_time": "2023-02-27T15:16:36.665Z"
      },
      {
        "duration": 24,
        "start_time": "2023-02-27T15:16:36.692Z"
      },
      {
        "duration": 272,
        "start_time": "2023-02-27T15:16:36.719Z"
      },
      {
        "duration": 256,
        "start_time": "2023-02-27T15:16:36.993Z"
      },
      {
        "duration": 187,
        "start_time": "2023-02-27T15:16:37.251Z"
      },
      {
        "duration": 281,
        "start_time": "2023-02-27T15:16:37.440Z"
      },
      {
        "duration": 197,
        "start_time": "2023-02-27T15:16:37.723Z"
      },
      {
        "duration": 321,
        "start_time": "2023-02-27T15:16:37.922Z"
      },
      {
        "duration": 10,
        "start_time": "2023-02-27T15:16:38.244Z"
      },
      {
        "duration": 137,
        "start_time": "2023-02-27T15:16:38.256Z"
      },
      {
        "duration": 153,
        "start_time": "2023-02-27T15:16:38.395Z"
      },
      {
        "duration": 6,
        "start_time": "2023-02-27T15:16:38.549Z"
      },
      {
        "duration": 15,
        "start_time": "2023-02-27T15:16:38.556Z"
      },
      {
        "duration": 158,
        "start_time": "2023-02-27T15:16:38.572Z"
      },
      {
        "duration": 207,
        "start_time": "2023-02-27T15:16:38.732Z"
      },
      {
        "duration": 7,
        "start_time": "2023-02-27T15:16:38.940Z"
      },
      {
        "duration": 23,
        "start_time": "2023-02-27T15:16:38.948Z"
      },
      {
        "duration": 2,
        "start_time": "2023-02-27T15:16:38.973Z"
      },
      {
        "duration": 163,
        "start_time": "2023-02-27T15:16:38.992Z"
      },
      {
        "duration": 9,
        "start_time": "2023-02-27T15:16:39.157Z"
      },
      {
        "duration": 27,
        "start_time": "2023-02-27T15:16:39.168Z"
      },
      {
        "duration": 26,
        "start_time": "2023-02-27T15:16:39.197Z"
      },
      {
        "duration": 12,
        "start_time": "2023-02-27T15:16:39.224Z"
      },
      {
        "duration": 1027,
        "start_time": "2023-02-27T15:16:47.194Z"
      },
      {
        "duration": 99,
        "start_time": "2023-02-27T15:16:48.223Z"
      },
      {
        "duration": 11,
        "start_time": "2023-02-27T15:16:48.324Z"
      },
      {
        "duration": 11,
        "start_time": "2023-02-27T15:16:48.337Z"
      },
      {
        "duration": 9,
        "start_time": "2023-02-27T15:16:48.349Z"
      },
      {
        "duration": 5,
        "start_time": "2023-02-27T15:16:48.360Z"
      },
      {
        "duration": 8,
        "start_time": "2023-02-27T15:16:48.366Z"
      },
      {
        "duration": 9,
        "start_time": "2023-02-27T15:16:48.375Z"
      },
      {
        "duration": 9,
        "start_time": "2023-02-27T15:16:48.385Z"
      },
      {
        "duration": 6,
        "start_time": "2023-02-27T15:16:48.397Z"
      },
      {
        "duration": 10,
        "start_time": "2023-02-27T15:16:48.404Z"
      },
      {
        "duration": 8,
        "start_time": "2023-02-27T15:16:48.416Z"
      },
      {
        "duration": 7,
        "start_time": "2023-02-27T15:16:48.426Z"
      },
      {
        "duration": 9,
        "start_time": "2023-02-27T15:16:48.434Z"
      },
      {
        "duration": 10,
        "start_time": "2023-02-27T15:16:48.445Z"
      },
      {
        "duration": 36,
        "start_time": "2023-02-27T15:16:48.457Z"
      },
      {
        "duration": 15,
        "start_time": "2023-02-27T15:16:48.495Z"
      },
      {
        "duration": 10,
        "start_time": "2023-02-27T15:16:48.511Z"
      },
      {
        "duration": 34,
        "start_time": "2023-02-27T15:16:48.523Z"
      },
      {
        "duration": 5,
        "start_time": "2023-02-27T15:16:48.558Z"
      },
      {
        "duration": 6,
        "start_time": "2023-02-27T15:16:48.565Z"
      },
      {
        "duration": 22,
        "start_time": "2023-02-27T15:16:48.572Z"
      },
      {
        "duration": 19,
        "start_time": "2023-02-27T15:16:48.596Z"
      },
      {
        "duration": 4,
        "start_time": "2023-02-27T15:16:48.616Z"
      },
      {
        "duration": 5,
        "start_time": "2023-02-27T15:16:48.622Z"
      },
      {
        "duration": 6,
        "start_time": "2023-02-27T15:16:48.629Z"
      },
      {
        "duration": 25,
        "start_time": "2023-02-27T15:16:48.636Z"
      },
      {
        "duration": 285,
        "start_time": "2023-02-27T15:16:48.664Z"
      },
      {
        "duration": 257,
        "start_time": "2023-02-27T15:16:48.950Z"
      },
      {
        "duration": 187,
        "start_time": "2023-02-27T15:16:49.208Z"
      },
      {
        "duration": 325,
        "start_time": "2023-02-27T15:16:49.396Z"
      },
      {
        "duration": 189,
        "start_time": "2023-02-27T15:16:49.723Z"
      },
      {
        "duration": 307,
        "start_time": "2023-02-27T15:16:49.913Z"
      },
      {
        "duration": 9,
        "start_time": "2023-02-27T15:16:50.221Z"
      },
      {
        "duration": 130,
        "start_time": "2023-02-27T15:16:50.231Z"
      },
      {
        "duration": 137,
        "start_time": "2023-02-27T15:16:50.362Z"
      },
      {
        "duration": 6,
        "start_time": "2023-02-27T15:16:50.500Z"
      },
      {
        "duration": 11,
        "start_time": "2023-02-27T15:16:50.507Z"
      },
      {
        "duration": 163,
        "start_time": "2023-02-27T15:16:50.519Z"
      },
      {
        "duration": 209,
        "start_time": "2023-02-27T15:16:50.684Z"
      },
      {
        "duration": 7,
        "start_time": "2023-02-27T15:16:50.894Z"
      },
      {
        "duration": 21,
        "start_time": "2023-02-27T15:16:50.903Z"
      },
      {
        "duration": 2,
        "start_time": "2023-02-27T15:16:50.926Z"
      },
      {
        "duration": 173,
        "start_time": "2023-02-27T15:16:50.929Z"
      },
      {
        "duration": 10,
        "start_time": "2023-02-27T15:16:51.104Z"
      },
      {
        "duration": 10,
        "start_time": "2023-02-27T15:16:51.116Z"
      },
      {
        "duration": 30,
        "start_time": "2023-02-27T15:16:51.127Z"
      },
      {
        "duration": 35,
        "start_time": "2023-02-27T15:16:51.159Z"
      }
    ],
    "kernelspec": {
      "display_name": "Python 3 (ipykernel)",
      "language": "python",
      "name": "python3"
    },
    "language_info": {
      "codemirror_mode": {
        "name": "ipython",
        "version": 3
      },
      "file_extension": ".py",
      "mimetype": "text/x-python",
      "name": "python",
      "nbconvert_exporter": "python",
      "pygments_lexer": "ipython3",
      "version": "3.9.5"
    },
    "toc": {
      "base_numbering": 1,
      "nav_menu": {},
      "number_sections": true,
      "sideBar": true,
      "skip_h1_title": true,
      "title_cell": "Table of Contents",
      "title_sidebar": "Contents",
      "toc_cell": false,
      "toc_position": {
        "height": "calc(100% - 180px)",
        "left": "10px",
        "top": "150px",
        "width": "300.788px"
      },
      "toc_section_display": true,
      "toc_window_display": true
    },
    "colab": {
      "provenance": []
    }
  },
  "nbformat": 4,
  "nbformat_minor": 0
}